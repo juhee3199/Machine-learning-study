{
  "nbformat": 4,
  "nbformat_minor": 0,
  "metadata": {
    "colab": {
      "name": "Ensemble - Voting & Bagging(RandomForest).ipynb",
      "provenance": [],
      "collapsed_sections": [],
      "mount_file_id": "17uu1NAgJoH_XJaOpw4bTYxUF5ZHJi7am",
      "authorship_tag": "ABX9TyNtwhSEAyrMSC7uc05psEyr",
      "include_colab_link": true
    },
    "kernelspec": {
      "name": "python3",
      "display_name": "Python 3"
    }
  },
  "cells": [
    {
      "cell_type": "markdown",
      "metadata": {
        "id": "view-in-github",
        "colab_type": "text"
      },
      "source": [
        "<a href=\"https://colab.research.google.com/github/juhee3199/Machine-learning_advanced-study/blob/juhee3199-basic_code/Ensemble-Voting%26Bagging(RandomForest).ipynb\" target=\"_parent\"><img src=\"https://colab.research.google.com/assets/colab-badge.svg\" alt=\"Open In Colab\"/></a>"
      ]
    },
    {
      "cell_type": "markdown",
      "metadata": {
        "id": "4bQV125106nc"
      },
      "source": [
        "# 1. Voting Classifer\r\n",
        "\r\n",
        "- Voting:\r\n",
        "      여러 개의 서로 다른 알고리즘이 같은 데이터셋에 대해 학습하고 예측한 결과를 투표하여 최종 예측\r\n",
        "      hard voting: 다수결 원칙\r\n",
        "      soft voting: 각 분류기의 레이블값 예측확률을 평균내서 확률이 가장 높은 레이블 값으로 최종 예측\r\n",
        "\r\n",
        "\r\n",
        "- voting classifier 예제 문제\r\n",
        "  - 사이킷런의 VotingClassifier 클래스 사용 (default: hard voting)\r\n",
        "  - 로지스틱 회귀와 KNN을 기반으로 보팅 분류기 생성\r\n",
        "  - 위스콘신 유방암 데이터셋 사용 : 유방암의 악성/양성 종양 여부를 결정하는 이진 분류 데이터셋\r\n"
      ]
    },
    {
      "cell_type": "code",
      "metadata": {
        "colab": {
          "base_uri": "https://localhost:8080/",
          "height": 193
        },
        "id": "oVQ7LUde1PIV",
        "outputId": "ded5c545-9c57-4d56-857d-7c6aaa3fb995"
      },
      "source": [
        "import pandas as pd\r\n",
        "\r\n",
        "from sklearn.ensemble import VotingClassifier\r\n",
        "from sklearn.linear_model import LogisticRegression\r\n",
        "from sklearn.neighbors import KNeighborsClassifier\r\n",
        "\r\n",
        "from sklearn.datasets import load_breast_cancer\r\n",
        "from sklearn.model_selection import train_test_split\r\n",
        "from sklearn.metrics import accuracy_score\r\n",
        "\r\n",
        "cancer = load_breast_cancer()\r\n",
        "\r\n",
        "data_df = pd.DataFrame(cancer.data, columns = cancer.feature_names)\r\n",
        "data_df.head(3)"
      ],
      "execution_count": 1,
      "outputs": [
        {
          "output_type": "execute_result",
          "data": {
            "text/html": [
              "<div>\n",
              "<style scoped>\n",
              "    .dataframe tbody tr th:only-of-type {\n",
              "        vertical-align: middle;\n",
              "    }\n",
              "\n",
              "    .dataframe tbody tr th {\n",
              "        vertical-align: top;\n",
              "    }\n",
              "\n",
              "    .dataframe thead th {\n",
              "        text-align: right;\n",
              "    }\n",
              "</style>\n",
              "<table border=\"1\" class=\"dataframe\">\n",
              "  <thead>\n",
              "    <tr style=\"text-align: right;\">\n",
              "      <th></th>\n",
              "      <th>mean radius</th>\n",
              "      <th>mean texture</th>\n",
              "      <th>mean perimeter</th>\n",
              "      <th>mean area</th>\n",
              "      <th>mean smoothness</th>\n",
              "      <th>mean compactness</th>\n",
              "      <th>mean concavity</th>\n",
              "      <th>mean concave points</th>\n",
              "      <th>mean symmetry</th>\n",
              "      <th>mean fractal dimension</th>\n",
              "      <th>radius error</th>\n",
              "      <th>texture error</th>\n",
              "      <th>perimeter error</th>\n",
              "      <th>area error</th>\n",
              "      <th>smoothness error</th>\n",
              "      <th>compactness error</th>\n",
              "      <th>concavity error</th>\n",
              "      <th>concave points error</th>\n",
              "      <th>symmetry error</th>\n",
              "      <th>fractal dimension error</th>\n",
              "      <th>worst radius</th>\n",
              "      <th>worst texture</th>\n",
              "      <th>worst perimeter</th>\n",
              "      <th>worst area</th>\n",
              "      <th>worst smoothness</th>\n",
              "      <th>worst compactness</th>\n",
              "      <th>worst concavity</th>\n",
              "      <th>worst concave points</th>\n",
              "      <th>worst symmetry</th>\n",
              "      <th>worst fractal dimension</th>\n",
              "    </tr>\n",
              "  </thead>\n",
              "  <tbody>\n",
              "    <tr>\n",
              "      <th>0</th>\n",
              "      <td>17.99</td>\n",
              "      <td>10.38</td>\n",
              "      <td>122.8</td>\n",
              "      <td>1001.0</td>\n",
              "      <td>0.11840</td>\n",
              "      <td>0.27760</td>\n",
              "      <td>0.3001</td>\n",
              "      <td>0.14710</td>\n",
              "      <td>0.2419</td>\n",
              "      <td>0.07871</td>\n",
              "      <td>1.0950</td>\n",
              "      <td>0.9053</td>\n",
              "      <td>8.589</td>\n",
              "      <td>153.40</td>\n",
              "      <td>0.006399</td>\n",
              "      <td>0.04904</td>\n",
              "      <td>0.05373</td>\n",
              "      <td>0.01587</td>\n",
              "      <td>0.03003</td>\n",
              "      <td>0.006193</td>\n",
              "      <td>25.38</td>\n",
              "      <td>17.33</td>\n",
              "      <td>184.6</td>\n",
              "      <td>2019.0</td>\n",
              "      <td>0.1622</td>\n",
              "      <td>0.6656</td>\n",
              "      <td>0.7119</td>\n",
              "      <td>0.2654</td>\n",
              "      <td>0.4601</td>\n",
              "      <td>0.11890</td>\n",
              "    </tr>\n",
              "    <tr>\n",
              "      <th>1</th>\n",
              "      <td>20.57</td>\n",
              "      <td>17.77</td>\n",
              "      <td>132.9</td>\n",
              "      <td>1326.0</td>\n",
              "      <td>0.08474</td>\n",
              "      <td>0.07864</td>\n",
              "      <td>0.0869</td>\n",
              "      <td>0.07017</td>\n",
              "      <td>0.1812</td>\n",
              "      <td>0.05667</td>\n",
              "      <td>0.5435</td>\n",
              "      <td>0.7339</td>\n",
              "      <td>3.398</td>\n",
              "      <td>74.08</td>\n",
              "      <td>0.005225</td>\n",
              "      <td>0.01308</td>\n",
              "      <td>0.01860</td>\n",
              "      <td>0.01340</td>\n",
              "      <td>0.01389</td>\n",
              "      <td>0.003532</td>\n",
              "      <td>24.99</td>\n",
              "      <td>23.41</td>\n",
              "      <td>158.8</td>\n",
              "      <td>1956.0</td>\n",
              "      <td>0.1238</td>\n",
              "      <td>0.1866</td>\n",
              "      <td>0.2416</td>\n",
              "      <td>0.1860</td>\n",
              "      <td>0.2750</td>\n",
              "      <td>0.08902</td>\n",
              "    </tr>\n",
              "    <tr>\n",
              "      <th>2</th>\n",
              "      <td>19.69</td>\n",
              "      <td>21.25</td>\n",
              "      <td>130.0</td>\n",
              "      <td>1203.0</td>\n",
              "      <td>0.10960</td>\n",
              "      <td>0.15990</td>\n",
              "      <td>0.1974</td>\n",
              "      <td>0.12790</td>\n",
              "      <td>0.2069</td>\n",
              "      <td>0.05999</td>\n",
              "      <td>0.7456</td>\n",
              "      <td>0.7869</td>\n",
              "      <td>4.585</td>\n",
              "      <td>94.03</td>\n",
              "      <td>0.006150</td>\n",
              "      <td>0.04006</td>\n",
              "      <td>0.03832</td>\n",
              "      <td>0.02058</td>\n",
              "      <td>0.02250</td>\n",
              "      <td>0.004571</td>\n",
              "      <td>23.57</td>\n",
              "      <td>25.53</td>\n",
              "      <td>152.5</td>\n",
              "      <td>1709.0</td>\n",
              "      <td>0.1444</td>\n",
              "      <td>0.4245</td>\n",
              "      <td>0.4504</td>\n",
              "      <td>0.2430</td>\n",
              "      <td>0.3613</td>\n",
              "      <td>0.08758</td>\n",
              "    </tr>\n",
              "  </tbody>\n",
              "</table>\n",
              "</div>"
            ],
            "text/plain": [
              "   mean radius  mean texture  ...  worst symmetry  worst fractal dimension\n",
              "0        17.99         10.38  ...          0.4601                  0.11890\n",
              "1        20.57         17.77  ...          0.2750                  0.08902\n",
              "2        19.69         21.25  ...          0.3613                  0.08758\n",
              "\n",
              "[3 rows x 30 columns]"
            ]
          },
          "metadata": {
            "tags": []
          },
          "execution_count": 1
        }
      ]
    },
    {
      "cell_type": "markdown",
      "metadata": {
        "id": "FVOrX1J_4Mks"
      },
      "source": [
        "soft 보팅 기반의 앙상블 모델로 구현한 분류기"
      ]
    },
    {
      "cell_type": "code",
      "metadata": {
        "colab": {
          "base_uri": "https://localhost:8080/"
        },
        "id": "K0oPoujk0WQv",
        "outputId": "3160b80a-faf9-4b18-b013-1e0cf530ff11"
      },
      "source": [
        "# 개별 분류기 생성 - Logistic regression, KNN\r\n",
        "lr_clf = LogisticRegression()\r\n",
        "knn_clf = KNeighborsClassifier(n_neighbors=8)\r\n",
        "\r\n",
        "# 개별 모델을 소프트 보팅 기반의 앙상블 모델로 구현한 분류기 \r\n",
        "vo_clf = VotingClassifier( estimators=[('LR',lr_clf),('KNN',knn_clf)] , voting='soft' )\r\n",
        "\r\n",
        "X_train, X_test, y_train, y_test = train_test_split(cancer.data, cancer.target, \r\n",
        "                                                    test_size=0.2 , random_state= 156)\r\n",
        "\r\n",
        "vo_clf.fit(x_train, y_train)\r\n",
        "pred = vo_clf.predict(x_test)\r\n",
        "print('soft voting 분류기 정확도: {0:.4f}'.format(accuracy_score(y_test, pred)))\r\n",
        "\r\n",
        "\r\n",
        "# 개별 모델의 학습/예측 평가\r\n",
        "classifiers = [lr_clf, knn_clf]\r\n",
        "for classifier in classifiers:\r\n",
        "    classifier.fit(x_train , y_train)\r\n",
        "    pred = classifier.predict(x_test)\r\n",
        "    class_name= classifier.__class__.__name__\r\n",
        "    print('{0} 정확도: {1:.4f}'.format(class_name, accuracy_score(y_test , pred)))"
      ],
      "execution_count": 22,
      "outputs": [
        {
          "output_type": "stream",
          "text": [
            "soft voting 분류기 정확도: 0.9474\n",
            "LogisticRegression 정확도: 0.9386\n",
            "KNeighborsClassifier 정확도: 0.9386\n"
          ],
          "name": "stdout"
        },
        {
          "output_type": "stream",
          "text": [
            "/usr/local/lib/python3.7/dist-packages/sklearn/linear_model/_logistic.py:940: ConvergenceWarning: lbfgs failed to converge (status=1):\n",
            "STOP: TOTAL NO. of ITERATIONS REACHED LIMIT.\n",
            "\n",
            "Increase the number of iterations (max_iter) or scale the data as shown in:\n",
            "    https://scikit-learn.org/stable/modules/preprocessing.html\n",
            "Please also refer to the documentation for alternative solver options:\n",
            "    https://scikit-learn.org/stable/modules/linear_model.html#logistic-regression\n",
            "  extra_warning_msg=_LOGISTIC_SOLVER_CONVERGENCE_MSG)\n",
            "/usr/local/lib/python3.7/dist-packages/sklearn/linear_model/_logistic.py:940: ConvergenceWarning: lbfgs failed to converge (status=1):\n",
            "STOP: TOTAL NO. of ITERATIONS REACHED LIMIT.\n",
            "\n",
            "Increase the number of iterations (max_iter) or scale the data as shown in:\n",
            "    https://scikit-learn.org/stable/modules/preprocessing.html\n",
            "Please also refer to the documentation for alternative solver options:\n",
            "    https://scikit-learn.org/stable/modules/linear_model.html#logistic-regression\n",
            "  extra_warning_msg=_LOGISTIC_SOLVER_CONVERGENCE_MSG)\n"
          ],
          "name": "stderr"
        }
      ]
    },
    {
      "cell_type": "code",
      "metadata": {
        "colab": {
          "base_uri": "https://localhost:8080/"
        },
        "id": "SLi5pmZ62oe9",
        "outputId": "07c838f5-1229-49a2-badb-aaa5ca072653"
      },
      "source": [
        "# 위의 개별 분류기로 hard 보팅 기반의 앙상블 모델 구현해보기\r\n",
        "vo_clf = VotingClassifier(estimators=[('LR',lr_clf), ('KNN', knn_clf)], voting='hard')\r\n",
        "\r\n",
        "x_train, x_test, y_train, y_test = train_test_split(cancer.data, cancer.target, test_size=0.2, random_state=156)\r\n",
        "\r\n",
        "vo_clf.fit(x_train, y_train)\r\n",
        "pred = vo_clf.predict(x_test)\r\n",
        "print('hard voting 분류기 정확도: {0:.4f}'.format(accuracy_score(y_test, pred)))"
      ],
      "execution_count": 23,
      "outputs": [
        {
          "output_type": "stream",
          "text": [
            "hard voting 분류기 정확도: 0.9386\n"
          ],
          "name": "stdout"
        },
        {
          "output_type": "stream",
          "text": [
            "/usr/local/lib/python3.7/dist-packages/sklearn/linear_model/_logistic.py:940: ConvergenceWarning: lbfgs failed to converge (status=1):\n",
            "STOP: TOTAL NO. of ITERATIONS REACHED LIMIT.\n",
            "\n",
            "Increase the number of iterations (max_iter) or scale the data as shown in:\n",
            "    https://scikit-learn.org/stable/modules/preprocessing.html\n",
            "Please also refer to the documentation for alternative solver options:\n",
            "    https://scikit-learn.org/stable/modules/linear_model.html#logistic-regression\n",
            "  extra_warning_msg=_LOGISTIC_SOLVER_CONVERGENCE_MSG)\n"
          ],
          "name": "stderr"
        }
      ]
    },
    {
      "cell_type": "markdown",
      "metadata": {
        "id": "tlRpaKdA5ea-"
      },
      "source": [
        "# 2. Bgging - RandomForest\r\n",
        "- Bagging:\r\n",
        "      같은 유형의 여러 알고리즘이 데이터 샘플링을 각각 다르게 하여 학습을 수행하고, 이후 보팅을 수행\r\n",
        "      Bootstrapping(부트스트래핑): 개별 classifier에게 데이터를 샘플링해서 추출하는 방식\r\n",
        "\r\n",
        "- RandomForest: Bagging의 대표적인 알고리즘. \r\n",
        "      DecisionTree알고리즘을 기반으로 한다. 쉽고 직관적임\r\n",
        "      앙상블 알고리즘 중 비교적 빠른 수행 속도\r\n",
        "      Bootstrapping분할 방식을 통해 중첩되게 샘플링된 데이터를 사용\r\n"
      ]
    },
    {
      "cell_type": "code",
      "metadata": {
        "id": "7rUeCSsC_ovM"
      },
      "source": [
        "from sklearn.datasets import load_breast_cancer\r\n",
        "from sklearn.model_selection import train_test_split\r\n",
        "\r\n",
        "cancer = load_breast_cancer()\r\n",
        "data_df = pd.DataFrame(cancer.data, columns = cancer.feature_names)\r\n",
        "x_train, x_test, y_train, y_test = train_test_split(cancer.data, cancer.target, test_size=0.2, random_state=0)"
      ],
      "execution_count": 29,
      "outputs": []
    },
    {
      "cell_type": "code",
      "metadata": {
        "colab": {
          "base_uri": "https://localhost:8080/"
        },
        "id": "-hwQHh8W_u9s",
        "outputId": "4723f7a3-86ab-42c1-a600-fe3e052e554a"
      },
      "source": [
        "from sklearn.ensemble import RandomForestClassifier\r\n",
        "from sklearn.metrics import accuracy_score\r\n",
        "\r\n",
        "rf_clf = RandomForestClassifier(random_state=0)  # default: n_estimators=10\r\n",
        "rf_clf.fit(x_train, y_train)\r\n",
        "pred = rf_clf.predict(x_test)\r\n",
        "accuracy = accuracy_score(y_test, pred)\r\n",
        "print('랜덤 포레스트 정확도: {0:.4f}'.format(accuracy))"
      ],
      "execution_count": 32,
      "outputs": [
        {
          "output_type": "stream",
          "text": [
            "랜덤 포레스트 정확도: 0.9649\n"
          ],
          "name": "stdout"
        }
      ]
    },
    {
      "cell_type": "code",
      "metadata": {
        "colab": {
          "base_uri": "https://localhost:8080/"
        },
        "id": "kUXH3GMcAHDz",
        "outputId": "b42be3b5-d0b7-423e-c182-cc7bc99dce18"
      },
      "source": [
        "# GridSearchCV를 이용한 하이퍼 파라미터 조정\r\n",
        "from sklearn.model_selection import GridSearchCV\r\n",
        "\r\n",
        "params = {\r\n",
        "    'n_estimators':[100],\r\n",
        "    'max_depth':[6, 8, 10, 12],\r\n",
        "    'min_samples_leaf':[8,12,19],\r\n",
        "    'min_samples_split':[8,16,20]\r\n",
        "}\r\n",
        "\r\n",
        "rf_clf = RandomForestClassifier(random_state=0, n_jobs = -1)\r\n",
        "grid_cv = GridSearchCV(rf_clf, param_grid = params, cv=2, n_jobs=-1)\r\n",
        "grid_cv.fit(x_train, y_train)\r\n",
        "\r\n",
        "print('최적 하이퍼 파라미터:\\n', grid_cv.best_params_)\r\n",
        "print('최고 예측 정확도: {0:.4f}'.format(grid_cv.best_score_))"
      ],
      "execution_count": 36,
      "outputs": [
        {
          "output_type": "stream",
          "text": [
            "최적 하이퍼 파라미터:\n",
            " {'max_depth': 6, 'min_samples_leaf': 8, 'min_samples_split': 8, 'n_estimators': 100}\n",
            "최고 예측 정확도: 0.9451\n"
          ],
          "name": "stdout"
        }
      ]
    },
    {
      "cell_type": "code",
      "metadata": {
        "colab": {
          "base_uri": "https://localhost:8080/"
        },
        "id": "TdMBUXkbC_Ci",
        "outputId": "33c03ea5-108a-4eb2-c10b-4370e5c086c8"
      },
      "source": [
        "pred = grid_cv.best_estimator_.predict(x_test)\r\n",
        "accuracy = accuracy_score(y_test, pred)\r\n",
        "print('GridCV 정확도: {0:.4f}'.format(accuracy))"
      ],
      "execution_count": 53,
      "outputs": [
        {
          "output_type": "stream",
          "text": [
            "GridCV 정확도: 0.9649\n"
          ],
          "name": "stdout"
        }
      ]
    },
    {
      "cell_type": "code",
      "metadata": {
        "colab": {
          "base_uri": "https://localhost:8080/"
        },
        "id": "eCsLnhSsBvbP",
        "outputId": "e94041b9-374e-42cd-a02c-f5d67a7c0876"
      },
      "source": [
        "# n_estimator를 300으로 변경해보기\r\n",
        "\r\n",
        "rf_clf = RandomForestClassifier(n_estimators = 300, max_depth=6, min_samples_leaf=8, min_samples_split= 8,random_state=0, n_jobs = -1)\r\n",
        "rf_clf.fit(x_train, y_train)\r\n",
        "pred = rf_clf.predict(x_test)\r\n",
        "accuracy = accuracy_score(y_test, pred)\r\n",
        "print('하이퍼 파라미터 조정 후 예측 정확도: {0:.4f}'.format(accuracy))\r\n",
        "\r\n",
        "# --> test데이터셋에 대해 n_estimator 변경이 의미가 없음"
      ],
      "execution_count": 39,
      "outputs": [
        {
          "output_type": "stream",
          "text": [
            "하이퍼 파라미터 조정 후 예측 정확도: 0.9649\n"
          ],
          "name": "stdout"
        }
      ]
    },
    {
      "cell_type": "code",
      "metadata": {
        "colab": {
          "base_uri": "https://localhost:8080/",
          "height": 390
        },
        "id": "QTzvc-3fDPll",
        "outputId": "01d5425b-de41-45f3-9907-4b569aa982d0"
      },
      "source": [
        "# feature 중요도 시각화\r\n",
        "\r\n",
        "import matplotlib.pyplot as plt\r\n",
        "import seaborn as sns\r\n",
        "%matplotlib inline\r\n",
        "\r\n",
        "ftr_importances_values = rf_clf.feature_importances_\r\n",
        "ftr_importances = pd.Series(ftr_importances_values, index = cancer.feature_names)\r\n",
        "#ftr_importances\r\n",
        "ftr_top20 = ftr_importances.sort_values(ascending=False)[:20]\r\n",
        "\r\n",
        "plt.figure(figsize = (8,6))\r\n",
        "plt.title('Feature importances Top 20')\r\n",
        "sns.barplot(x=ftr_top20, y=ftr_top20.index)\r\n",
        "plt.show()"
      ],
      "execution_count": 52,
      "outputs": [
        {
          "output_type": "display_data",
          "data": {
            "image/png": "[encoded data removed]",
            "text/plain": [
              "<Figure size 576x432 with 1 Axes>"
            ]
          },
          "metadata": {
            "tags": [],
            "needs_background": "light"
          }
        }
      ]
    },
    {
      "cell_type": "code",
      "metadata": {
        "id": "tU1x3-dXEM3i"
      },
      "source": [
        ""
      ],
      "execution_count": null,
      "outputs": []
    }
  ]
}