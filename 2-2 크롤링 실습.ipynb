{
 "cells": [
  {
   "cell_type": "markdown",
   "metadata": {},
   "source": [
    "## BeautifulSoup 실습: 네이버앱_실시간_순위"
   ]
  },
  {
   "cell_type": "code",
   "execution_count": 1,
   "metadata": {},
   "outputs": [],
   "source": [
    "from bs4 import BeautifulSoup\n",
    "import requests"
   ]
  },
  {
   "cell_type": "code",
   "execution_count": 2,
   "metadata": {},
   "outputs": [],
   "source": [
    "url=\"https://datalab.naver.com/keyword/realtimeList.naver\""
   ]
  },
  {
   "cell_type": "code",
   "execution_count": 7,
   "metadata": {},
   "outputs": [],
   "source": [
    "headers = {'User-Agent':'Mozilla/5.0 (Windows NT 6.3; Win64; x64) AppleWebKit/537.36 (KHTML, like Gecko) Chrome/63.0.3239.132 Safari/537.36'}\n",
    "\n",
    "# headers 관련:\n",
    "# https://blog.naver.com/kiddwannabe/221185808375"
   ]
  },
  {
   "cell_type": "code",
   "execution_count": 8,
   "metadata": {},
   "outputs": [],
   "source": [
    "raw = requests.get(url, headers=headers)"
   ]
  },
  {
   "cell_type": "code",
   "execution_count": 9,
   "metadata": {},
   "outputs": [
    {
     "ename": "FeatureNotFound",
     "evalue": "Couldn't find a tree builder with the features you requested: html.parcer. Do you need to install a parser library?",
     "output_type": "error",
     "traceback": [
      "\u001b[1;31m---------------------------------------------------------------------------\u001b[0m",
      "\u001b[1;31mFeatureNotFound\u001b[0m                           Traceback (most recent call last)",
      "\u001b[1;32m<ipython-input-9-ce686cb2f6d1>\u001b[0m in \u001b[0;36m<module>\u001b[1;34m\u001b[0m\n\u001b[1;32m----> 1\u001b[1;33m \u001b[0mhtml\u001b[0m\u001b[1;33m=\u001b[0m\u001b[0mBeautifulSoup\u001b[0m\u001b[1;33m(\u001b[0m\u001b[0mraw\u001b[0m\u001b[1;33m.\u001b[0m\u001b[0mtext\u001b[0m\u001b[1;33m,\u001b[0m \u001b[1;34m\"html.parcer\"\u001b[0m\u001b[1;33m)\u001b[0m\u001b[1;33m\u001b[0m\u001b[1;33m\u001b[0m\u001b[0m\n\u001b[0m",
      "\u001b[1;32mC:\\anaconda3\\lib\\site-packages\\bs4\\__init__.py\u001b[0m in \u001b[0;36m__init__\u001b[1;34m(self, markup, features, builder, parse_only, from_encoding, exclude_encodings, **kwargs)\u001b[0m\n\u001b[0;32m    194\u001b[0m                     \u001b[1;34m\"Couldn't find a tree builder with the features you \"\u001b[0m\u001b[1;33m\u001b[0m\u001b[1;33m\u001b[0m\u001b[0m\n\u001b[0;32m    195\u001b[0m                     \u001b[1;34m\"requested: %s. Do you need to install a parser library?\"\u001b[0m\u001b[1;33m\u001b[0m\u001b[1;33m\u001b[0m\u001b[0m\n\u001b[1;32m--> 196\u001b[1;33m                     % \",\".join(features))\n\u001b[0m\u001b[0;32m    197\u001b[0m             \u001b[0mbuilder\u001b[0m \u001b[1;33m=\u001b[0m \u001b[0mbuilder_class\u001b[0m\u001b[1;33m(\u001b[0m\u001b[1;33m)\u001b[0m\u001b[1;33m\u001b[0m\u001b[1;33m\u001b[0m\u001b[0m\n\u001b[0;32m    198\u001b[0m             if not (original_features == builder.NAME or\n",
      "\u001b[1;31mFeatureNotFound\u001b[0m: Couldn't find a tree builder with the features you requested: html.parcer. Do you need to install a parser library?"
     ]
    }
   ],
   "source": [
    "html=BeautifulSoup(raw.text, \"html.parcer\")"
   ]
  },
  {
   "cell_type": "code",
   "execution_count": 10,
   "metadata": {},
   "outputs": [
    {
     "ename": "NameError",
     "evalue": "name 'html' is not defined",
     "output_type": "error",
     "traceback": [
      "\u001b[1;31m---------------------------------------------------------------------------\u001b[0m",
      "\u001b[1;31mNameError\u001b[0m                                 Traceback (most recent call last)",
      "\u001b[1;32m<ipython-input-10-7fbf1dd84f7f>\u001b[0m in \u001b[0;36m<module>\u001b[1;34m\u001b[0m\n\u001b[1;32m----> 1\u001b[1;33m \u001b[0mtitle\u001b[0m\u001b[1;33m=\u001b[0m\u001b[0mhtml\u001b[0m\u001b[1;33m.\u001b[0m\u001b[0mselect\u001b[0m\u001b[1;33m(\u001b[0m\u001b[1;34m\"span.item_title\"\u001b[0m\u001b[1;33m)\u001b[0m\u001b[1;33m\u001b[0m\u001b[1;33m\u001b[0m\u001b[0m\n\u001b[0m\u001b[0;32m      2\u001b[0m \u001b[0mtitle\u001b[0m\u001b[1;33m\u001b[0m\u001b[1;33m\u001b[0m\u001b[0m\n",
      "\u001b[1;31mNameError\u001b[0m: name 'html' is not defined"
     ]
    }
   ],
   "source": [
    "title=html.select(\"span.item_title\")\n",
    "title"
   ]
  },
  {
   "cell_type": "code",
   "execution_count": 11,
   "metadata": {},
   "outputs": [
    {
     "ename": "NameError",
     "evalue": "name 'title' is not defined",
     "output_type": "error",
     "traceback": [
      "\u001b[1;31m---------------------------------------------------------------------------\u001b[0m",
      "\u001b[1;31mNameError\u001b[0m                                 Traceback (most recent call last)",
      "\u001b[1;32m<ipython-input-11-5ae44f1985ad>\u001b[0m in \u001b[0;36m<module>\u001b[1;34m\u001b[0m\n\u001b[1;32m----> 1\u001b[1;33m \u001b[0mtitle\u001b[0m\u001b[1;33m[\u001b[0m\u001b[1;36m0\u001b[0m\u001b[1;33m]\u001b[0m\u001b[1;33m.\u001b[0m\u001b[0mtext\u001b[0m\u001b[1;33m\u001b[0m\u001b[1;33m\u001b[0m\u001b[0m\n\u001b[0m",
      "\u001b[1;31mNameError\u001b[0m: name 'title' is not defined"
     ]
    }
   ],
   "source": [
    "title[0].text"
   ]
  },
  {
   "cell_type": "code",
   "execution_count": 12,
   "metadata": {},
   "outputs": [
    {
     "ename": "NameError",
     "evalue": "name 'title' is not defined",
     "output_type": "error",
     "traceback": [
      "\u001b[1;31m---------------------------------------------------------------------------\u001b[0m",
      "\u001b[1;31mNameError\u001b[0m                                 Traceback (most recent call last)",
      "\u001b[1;32m<ipython-input-12-08b798fed90e>\u001b[0m in \u001b[0;36m<module>\u001b[1;34m\u001b[0m\n\u001b[1;32m----> 1\u001b[1;33m \u001b[1;32mfor\u001b[0m \u001b[0mi\u001b[0m \u001b[1;32min\u001b[0m \u001b[0mrange\u001b[0m\u001b[1;33m(\u001b[0m\u001b[0mlen\u001b[0m\u001b[1;33m(\u001b[0m\u001b[0mtitle\u001b[0m\u001b[1;33m)\u001b[0m\u001b[1;33m)\u001b[0m\u001b[1;33m:\u001b[0m\u001b[1;33m\u001b[0m\u001b[1;33m\u001b[0m\u001b[0m\n\u001b[0m\u001b[0;32m      2\u001b[0m     \u001b[0mprint\u001b[0m\u001b[1;33m(\u001b[0m\u001b[0mtitle\u001b[0m\u001b[1;33m[\u001b[0m\u001b[0mi\u001b[0m\u001b[1;33m]\u001b[0m\u001b[1;33m.\u001b[0m\u001b[0mtext\u001b[0m\u001b[1;33m)\u001b[0m\u001b[1;33m\u001b[0m\u001b[1;33m\u001b[0m\u001b[0m\n\u001b[0;32m      3\u001b[0m \u001b[1;33m\u001b[0m\u001b[0m\n",
      "\u001b[1;31mNameError\u001b[0m: name 'title' is not defined"
     ]
    }
   ],
   "source": [
    "for i in range(len(title)):\n",
    "    print(title[i].text)\n",
    "    "
   ]
  },
  {
   "cell_type": "code",
   "execution_count": null,
   "metadata": {},
   "outputs": [],
   "source": [
    "rank=html.select(\"span.item_num\")\n",
    "rank[0]"
   ]
  },
  {
   "cell_type": "code",
   "execution_count": null,
   "metadata": {},
   "outputs": [],
   "source": [
    "for i in range(len(rank)):\n",
    "    print(rank[i].text)"
   ]
  },
  {
   "cell_type": "code",
   "execution_count": null,
   "metadata": {},
   "outputs": [],
   "source": [
    "result=[]"
   ]
  },
  {
   "cell_type": "code",
   "execution_count": null,
   "metadata": {},
   "outputs": [],
   "source": [
    "for i in range(20):\n",
    "    data=rank[i].text, title[i].text\n",
    "    result.append(data)"
   ]
  },
  {
   "cell_type": "code",
   "execution_count": null,
   "metadata": {},
   "outputs": [],
   "source": [
    "import pandas as pd\n",
    "\n",
    "df=pd.DataFrame(result)\n",
    "df.to_csv(\"네이버앱_실시간_순위\",encording=\"utf-8\")"
   ]
  },
  {
   "cell_type": "code",
   "execution_count": null,
   "metadata": {},
   "outputs": [],
   "source": []
  },
  {
   "cell_type": "code",
   "execution_count": null,
   "metadata": {},
   "outputs": [],
   "source": []
  },
  {
   "cell_type": "markdown",
   "metadata": {},
   "source": [
    "## Selenium 실습: 인스타그램 태그 수집\n",
    "\n",
    "인스타그램 비타민 계정에서\n",
    "최근 게시글 6개 크롤링하기"
   ]
  },
  {
   "cell_type": "code",
   "execution_count": 14,
   "metadata": {},
   "outputs": [],
   "source": [
    "import requests\n",
    "from bs4 import BeautifulSoup\n",
    "import time\n",
    "\n",
    "from selenium import webdriver\n",
    "\n",
    "driver=webdriver.Chrome(\"./chromedriver.exe\")"
   ]
  },
  {
   "cell_type": "code",
   "execution_count": 15,
   "metadata": {},
   "outputs": [],
   "source": [
    "driver.get(\"https://www.instagram.com/?hl=ko\")"
   ]
  },
  {
   "cell_type": "code",
   "execution_count": 16,
   "metadata": {},
   "outputs": [],
   "source": [
    "id_=\"01031995316\"\n",
    "password_=\"enen0704\""
   ]
  },
  {
   "cell_type": "code",
   "execution_count": 18,
   "metadata": {},
   "outputs": [],
   "source": [
    "\n",
    "ID = driver.find_elements_by_css_selector(\"input._2hvTZ.pexuQ.zyHYP\")[0]\n",
    "ID.send_keys(id_)\n",
    "\n",
    "PW = driver.find_elements_by_css_selector(\"input._2hvTZ.pexuQ.zyHYP\")[1]\n",
    "PW.send_keys(password_)\n",
    "\n",
    "login = driver.find_element_by_css_selector(\"#loginForm > div > div:nth-child(3) > button > div\")\n",
    "login.click()\n",
    "\n"
   ]
  },
  {
   "cell_type": "code",
   "execution_count": 21,
   "metadata": {},
   "outputs": [],
   "source": [
    "time.sleep(2)\n",
    "\n",
    "tag=\"bitamin1818\"\n",
    "\n",
    "search=driver.find_element_by_css_selector(\"#react-root > section > nav > div._8MQSO.Cx7Bp > div > div > div.LWmhU._0aCwM > input\")\n",
    "search.send_keys(tag)\n",
    "\n",
    "\n"
   ]
  },
  {
   "cell_type": "code",
   "execution_count": 22,
   "metadata": {},
   "outputs": [],
   "source": [
    "\n",
    "search_page=driver.find_element_by_css_selector(\"#react-root > section > nav > div._8MQSO.Cx7Bp > div > div > div.LWmhU._0aCwM > div:nth-child(5) > div.drKGC > div > a > div\")\n",
    "search_page.click()\n"
   ]
  },
  {
   "cell_type": "code",
   "execution_count": 34,
   "metadata": {},
   "outputs": [],
   "source": [
    "instagram=[]\n",
    "\n",
    "for i in range(6):\n",
    "    contents = driver.find_elements_by_css_selector(\"div._9AhH0\")[i]\n",
    "    instagram.append(contents)"
   ]
  },
  {
   "cell_type": "code",
   "execution_count": 35,
   "metadata": {},
   "outputs": [
    {
     "data": {
      "text/plain": [
       "[<selenium.webdriver.remote.webelement.WebElement (session=\"78921bc6a8dcd3203189ffb4549dc3ba\", element=\"0.7412351409655225-4\")>,\n",
       " <selenium.webdriver.remote.webelement.WebElement (session=\"78921bc6a8dcd3203189ffb4549dc3ba\", element=\"0.7412351409655225-5\")>,\n",
       " <selenium.webdriver.remote.webelement.WebElement (session=\"78921bc6a8dcd3203189ffb4549dc3ba\", element=\"0.7412351409655225-6\")>,\n",
       " <selenium.webdriver.remote.webelement.WebElement (session=\"78921bc6a8dcd3203189ffb4549dc3ba\", element=\"0.7412351409655225-7\")>,\n",
       " <selenium.webdriver.remote.webelement.WebElement (session=\"78921bc6a8dcd3203189ffb4549dc3ba\", element=\"0.7412351409655225-8\")>,\n",
       " <selenium.webdriver.remote.webelement.WebElement (session=\"78921bc6a8dcd3203189ffb4549dc3ba\", element=\"0.7412351409655225-9\")>]"
      ]
     },
     "execution_count": 35,
     "metadata": {},
     "output_type": "execute_result"
    }
   ],
   "source": [
    "instagram"
   ]
  },
  {
   "cell_type": "code",
   "execution_count": 40,
   "metadata": {},
   "outputs": [],
   "source": [
    "post_list=[]\n",
    "\n",
    "for i in instagram:\n",
    "    i.click()\n",
    "    time.sleep(2)\n",
    "    \n",
    "    post=driver.find_element_by_css_selector(\"div.C4VMK\").text\n",
    "    post_list.append(post)\n",
    "    \n",
    "    close=driver.find_element_by_css_selector(\"body > div._2dDPU.CkGkG > div.Igw0E.IwRSH.eGOV_._4EzTm.BI4qX.qJPeX.fm1AK.TxciK.yiMZG > button > div > svg\")\n",
    "    close.click()\n",
    "    \n",
    "     "
   ]
  },
  {
   "cell_type": "code",
   "execution_count": 41,
   "metadata": {},
   "outputs": [
    {
     "data": {
      "text/plain": [
       "['bitamin1818\\n🍊8월 22일 세션 공지🍊\\n⠀\\n이번주 5기는 ‘크롤링 입문’이라는 주제로 교육부에서 세션을 진행해줄 예정입니다😆\\n⠀\\n6기는 ‘파이썬 기초 part 1’이라는 주제로 교육부에서 세션을 진행해줄 예정입니다😆\\n⠀\\n갑자기 코로나19 바이러스 확산이 심해지는 바람에 잠시 온라인으로 세션을 진행하게 되어 너무 아쉽네요😭\\n⠀\\n특히 6기는 이번 주가 첫 세션이라 기대가 되는데요!\\n⠀\\n그럼 모두 토요일에 만나요🙌🙌\\n2일',\n",
       " 'bitamin1818\\n8월 15일\\n⠀\\n비타민 만반잘부~👋😊\\n⠀\\n이번 주부터 5기는 2학기, 6기는 1학기가 시작되었습니다! 와아ㅏ아아🥳🥳\\n⠀\\n5기는 시각화 part. 2와 자율 프로젝트,\\n6기는 OT와 레크리에이션으로 5기 편입 멤버와 6기 멤버들을 환영하는 시간을 가졌습니다!\\n⠀\\n높은 경쟁률을 뚫고 비타민과 함께하게 된 모든 분들 환영합니다🧡🍊🧡\\n⠀\\n더운 여름에도 참석해준 비타민 모든 멤버들에게 박수를👏👏\\n⠀\\n앞으로 한 학기 또 화이팅 해봐요🙌💪\\n6일',\n",
       " 'bitamin1818\\n8월 8일 종강총회\\n\\n한학기동안 열심히 달려온 비타민이 4번째 종강총회를 가졌습니다. 오랜만에 전기수 오프라인으로 진행하였습니다!\\n\\n한학기 활동 피드백, 제1회 컨퍼런스 수상식, 다음학기를 이끌어갈 새로운 회장취임식, 마지막으로 1년간 활동한 4기멤버들의 수료식으로 진행하였습니다.\\n\\n그동안 비타민을 위해 노력해주고 빛내준 4기 운영진과 멤버들에게 박수보내드립니다!👏🏻👏🏻👏🏻\\n\\n#빅데이터 #데이터분석 #학회 #연합동아리 #R #파이썬 #비타민 #Adieu #4기 #Hello #6기\\n1주',\n",
       " 'bitamin1818\\n8월 1일 정규세션\\n\\n5기: 스태킹/실습/복습프로젝트\\n\\n어느덧 1학기의 마지막세션을 진행하였습니다. 지난주에 마무리한 4기를 비롯해 5기 역시 스태킹수업과 복습프로젝트를 진행하였는데요, 모든 조가 좋은 발표를 보여주었습니다.\\n\\n한학기동안 고생많으셨고 이제 다음주는 종강총회로 돌아오겠습니다!\\n\\n#빅데이터 #데이터분석 #R #파이썬 #연합동아리 #학회 #비타민\\n2주',\n",
       " 'bitamin1818\\n7월 25일 정규세션\\n\\n4기: R응 통한 자원관리와 활용\\n5기: GBM/XGBoost/LightGBM\\n\\n더운 여름에도 비타민 세션은 계속진행됩니다! 이제 한학기의 막바지에 이르렀는데요, 마지막까지 최선을 다해봅시다!\\n\\n또 새로 선발된 6기 운영진들과 함께 대면식을 가졌습니다. 앞으로 열심히 일하게될 새내기 운영진들에게 박수를👏🏻\\n\\n#데이터분석 #빅데이터 #학회 #연합동아리 #R #파이썬 #비타민 #6기 #운영진\\n3주',\n",
       " 'bitamin1818\\n7월 18일 정규세션\\n\\n3,4기: 컨퍼런스대회\\n5기: 앙상블/랜덤포레스트\\n\\n벌써 7월의 반이 지나갔는데요, 3,4기는 오랜시간준비해온 비타민1회 컨퍼런스를 발표하였습니다.\\n\\n또한 바로 전날인 17일 6기 운영진을 선발하여 앞으로 함께 많은 도움을 주게 되었는데요, 높은 경쟁률을 뚫고 합격한만큼 많은 기대바랍니다🙂\\n\\n#데이터분석 #빅데이터 #학회 #연합동아리 #R #파이썬 #비타민\\n4주']"
      ]
     },
     "execution_count": 41,
     "metadata": {},
     "output_type": "execute_result"
    }
   ],
   "source": [
    "post_list"
   ]
  },
  {
   "cell_type": "code",
   "execution_count": null,
   "metadata": {},
   "outputs": [],
   "source": []
  }
 ],
 "metadata": {
  "kernelspec": {
   "display_name": "Python 3",
   "language": "python",
   "name": "python3"
  },
  "language_info": {
   "codemirror_mode": {
    "name": "ipython",
    "version": 3
   },
   "file_extension": ".py",
   "mimetype": "text/x-python",
   "name": "python",
   "nbconvert_exporter": "python",
   "pygments_lexer": "ipython3",
   "version": "3.7.3"
  }
 },
 "nbformat": 4,
 "nbformat_minor": 2
}
