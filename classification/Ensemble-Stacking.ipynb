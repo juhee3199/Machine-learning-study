{
  "nbformat": 4,
  "nbformat_minor": 0,
  "metadata": {
    "colab": {
      "name": "Ensemble-Stacking.ipynb",
      "provenance": [],
      "collapsed_sections": [],
      "authorship_tag": "ABX9TyPrPOJHNhMoZmwcEIfmygHL",
      "include_colab_link": true
    },
    "kernelspec": {
      "name": "python3",
      "display_name": "Python 3"
    }
  },
  "cells": [
    {
      "cell_type": "markdown",
      "metadata": {
        "id": "view-in-github",
        "colab_type": "text"
      },
      "source": [
        "<a href=\"https://colab.research.google.com/github/juhee3199/Machine-learning_advanced-study/blob/master/classification/Ensemble-Stacking.ipynb\" target=\"_parent\"><img src=\"https://colab.research.google.com/assets/colab-badge.svg\" alt=\"Open In Colab\"/></a>"
      ]
    },
    {
      "cell_type": "markdown",
      "metadata": {
        "id": "VX3x281N2sB0"
      },
      "source": [
        "## 1. 기본 스태킹 모델\r\n",
        "\r\n",
        "- 위스콘신 암 데이터 셋 적용"
      ]
    },
    {
      "cell_type": "code",
      "metadata": {
        "id": "3AjSaheCzBnJ"
      },
      "source": [
        "import numpy as np\r\n",
        "\r\n",
        "from sklearn.neighbors import KNeighborsClassifier\r\n",
        "from sklearn.ensemble import RandomForestClassifier\r\n",
        "from sklearn.ensemble import AdaBoostClassifier\r\n",
        "from sklearn.tree import DecisionTreeClassifier\r\n",
        "from sklearn.linear_model import LogisticRegression\r\n",
        "\r\n",
        "from sklearn.datasets import  load_breast_cancer\r\n",
        "from sklearn.model_selection import train_test_split\r\n",
        "from sklearn.metrics import accuracy_score\r\n",
        "\r\n",
        "cancer_data = load_breast_cancer()\r\n",
        "\r\n",
        "x_data = cancer_data.data\r\n",
        "y_label = cancer_data.target\r\n",
        "\r\n",
        "x_train,x_test, y_train, y_test = train_test_split(x_data, y_label, test_size=0.2, random_state=0)"
      ],
      "execution_count": null,
      "outputs": []
    },
    {
      "cell_type": "code",
      "metadata": {
        "colab": {
          "base_uri": "https://localhost:8080/"
        },
        "id": "Puo0Ntk53cZ9",
        "outputId": "0f60480d-6797-48c5-9974-3bd304b9730c"
      },
      "source": [
        "# 개별 모델\r\n",
        "knn_clf = KNeighborsClassifier(n_neighbors=4)\r\n",
        "rf_clf = RandomForestClassifier(n_estimators=100, random_state=0)\r\n",
        "dt_clf = DecisionTreeClassifier()\r\n",
        "ada_clf = AdaBoostClassifier(n_estimators=100)\r\n",
        "# 최종 학습 모델\r\n",
        "lr_final = LogisticRegression(C=10)\r\n",
        "\r\n",
        "#개별 모델 학습\r\n",
        "knn_clf.fit(x_train,y_train)\r\n",
        "rf_clf.fit(x_train,y_train)\r\n",
        "dt_clf.fit(x_train,y_train)\r\n",
        "ada_clf.fit(x_train,y_train)"
      ],
      "execution_count": null,
      "outputs": [
        {
          "output_type": "execute_result",
          "data": {
            "text/plain": [
              "AdaBoostClassifier(algorithm='SAMME.R', base_estimator=None, learning_rate=1.0,\n",
              "                   n_estimators=100, random_state=None)"
            ]
          },
          "metadata": {
            "tags": []
          },
          "execution_count": 6
        }
      ]
    },
    {
      "cell_type": "code",
      "metadata": {
        "colab": {
          "base_uri": "https://localhost:8080/"
        },
        "id": "eLoCjAKI354y",
        "outputId": "b0293090-9796-4660-d806-8eaef9d22dcf"
      },
      "source": [
        "# 개별 모델 예측\r\n",
        "knn_pred = knn_clf.predict(x_test)\r\n",
        "rf_pred = rf_clf.predict(x_test)\r\n",
        "dt_pred = dt_clf.predict(x_test)\r\n",
        "ada_pred = ada_clf.predict(x_test)\r\n",
        "\r\n",
        "print('knn 정확도: {0:.4f}'.format(accuracy_score(y_test, knn_pred)))\r\n",
        "print('랜덤 포레스트 정확도: {0:.4f}'.format(accuracy_score(y_test, rf_pred)))\r\n",
        "print('결정트리 정확도: {0:.4f}'.format(accuracy_score(y_test, dt_pred)))\r\n",
        "print('AdaBoost 정확도: {0:.4f}'.format(accuracy_score(y_test, ada_pred)))"
      ],
      "execution_count": null,
      "outputs": [
        {
          "output_type": "stream",
          "text": [
            "knn 정확도: 0.9211\n",
            "랜덤 포레스트 정확도: 0.9649\n",
            "결정트리 정확도: 0.9123\n",
            "AdaBoost 정확도: 0.9561\n"
          ],
          "name": "stdout"
        }
      ]
    },
    {
      "cell_type": "code",
      "metadata": {
        "colab": {
          "base_uri": "https://localhost:8080/"
        },
        "id": "XKit90cp4Ka5",
        "outputId": "91deaab0-bc35-4457-b9aa-e1cdeb16b190"
      },
      "source": [
        "# 최종 메타 모델의 학습 데이터 셋 구성  \r\n",
        "pred = np.array([knn_pred, rf_pred, dt_pred, ada_pred])\r\n",
        "print(pred.shape)\r\n",
        "# 행과 열의 위치를 교환하여 각 알고리즘의 예측 결과를 하나의 피처로 만듬\r\n",
        "pred = np.transpose(pred)\r\n",
        "print(pred.shape)"
      ],
      "execution_count": null,
      "outputs": [
        {
          "output_type": "stream",
          "text": [
            "(4, 114)\n",
            "(114, 4)\n"
          ],
          "name": "stdout"
        }
      ]
    },
    {
      "cell_type": "code",
      "metadata": {
        "colab": {
          "base_uri": "https://localhost:8080/"
        },
        "id": "61CSDRMM4o9S",
        "outputId": "78f38da6-2414-4c5f-86e1-e376c744df19"
      },
      "source": [
        "lr_final.fit(pred, y_test)\r\n",
        "final = lr_final.predict(pred)\r\n",
        "\r\n",
        "print('최종 메타 모델 정확도: {0:.4f}'.format(accuracy_score(y_test, final)))"
      ],
      "execution_count": null,
      "outputs": [
        {
          "output_type": "stream",
          "text": [
            "최종 메타 모델 정확도: 0.9649\n"
          ],
          "name": "stdout"
        }
      ]
    },
    {
      "cell_type": "markdown",
      "metadata": {
        "id": "m1OzCuKdRKOl"
      },
      "source": [
        "## 2. CV 세트 기반의 스태킹"
      ]
    },
    {
      "cell_type": "code",
      "metadata": {
        "id": "x297EZiS46-H"
      },
      "source": [
        "from sklearn.model_selection import KFold\r\n",
        "from sklearn.metrics import mean_absolute_error\r\n",
        "\r\n",
        "# 1. 개별 모델로 메타 모델을 위한 학습/테스트 데이터를 생성한다.\r\n",
        "def get_stacking_base_datasets(model, x_train_n, y_train_n, x_test_n, n_folds ):\r\n",
        "  # kfold 생성\r\n",
        "  kf = KFold(n_splits = n_folds, shuffle = False, random_state=0)\r\n",
        "  # 추후에 메타 모델이 사용할 학습 데이터 반환을 위해 넘파이 배열 초기화\r\n",
        "  train_fold_pred = np.zeros((x_train_n.shape[0],1))\r\n",
        "  test_pred = np.zeros((x_test_n.shape[0], n_folds))\r\n",
        "  print(model.__class__.__name__, ' model 시작 ')\r\n",
        "\r\n",
        "  # 원본 학습 데이터를 N개의 폴드로 나눈다.\r\n",
        "  for folder_counter, (train_index, valid_index) in enumerate(kf.split(x_train_n)):\r\n",
        "    # 개별 모델이 학습/예측할 폴드 데이터 셋 추출\r\n",
        "    print('\\t 폴드 세트: ', folder_counter, ' 시작 ')\r\n",
        "    x_tr = x_train_n[train_index]\r\n",
        "    y_tr = y_train_n[train_index]\r\n",
        "    x_te = x_train_n[valid_index]\r\n",
        "\r\n",
        "    # 폴드 세트 내부에서 만들어진 training folds로 개별 모델의 학습 수행\r\n",
        "    model.fit(x_tr, y_tr)\r\n",
        "    # 폴드 세트 내부에서 만들어진 validation folds로 개별 모델을 통해 예측 후 데이터 저장\r\n",
        "    train_fold_pred[valid_index, :] = model.predict(x_te).reshape(-1, 1)\r\n",
        "    # 폴드 세트 내에서 학습된 모델을 통해 입력된 원본 테스트 데이터를 예측한 후 데이터 저장\r\n",
        "    test_pred[:, folder_counter] = model.predict(x_test_n)\r\n",
        "\r\n",
        "  # 폴드 세트 내에서 원본 테스트 데이터를 예측한 데이터를 평균하여 테스트 데이터로 생성\r\n",
        "  test_pred_mean = np.mean(test_pred, axis=1).reshape(-1, 1)\r\n",
        "\r\n",
        "  # train_fold_pred는 최종 메타 모델이 사용하는 학습 데이터\r\n",
        "  # test_pred_mean은 최종 메타 모델이 사용하는 테스트 데이터 \r\n",
        "  return train_fold_pred, test_pred_mean\r\n"
      ],
      "execution_count": 20,
      "outputs": []
    },
    {
      "cell_type": "code",
      "metadata": {
        "colab": {
          "base_uri": "https://localhost:8080/"
        },
        "id": "nSOAnnoDUUn_",
        "outputId": "858ef934-07f6-4a53-bd80-c74b2dc20db5"
      },
      "source": [
        "knn_train, knn_test = get_stacking_base_datasets(knn_clf, x_train, y_train, x_test, 7)\r\n",
        "rf_train, rf_test = get_stacking_base_datasets(rf_clf, x_train, y_train, x_test, 7)\r\n",
        "dt_train, dt_test = get_stacking_base_datasets(dt_clf, x_train, y_train, x_test, 7)\r\n",
        "ada_train, ada_test = get_stacking_base_datasets(ada_clf, x_train, y_train, x_test, 7)"
      ],
      "execution_count": 21,
      "outputs": [
        {
          "output_type": "stream",
          "text": [
            "/usr/local/lib/python3.7/dist-packages/sklearn/model_selection/_split.py:296: FutureWarning: Setting a random_state has no effect since shuffle is False. This will raise an error in 0.24. You should leave random_state to its default (None), or set shuffle=True.\n",
            "  FutureWarning\n",
            "/usr/local/lib/python3.7/dist-packages/sklearn/model_selection/_split.py:296: FutureWarning: Setting a random_state has no effect since shuffle is False. This will raise an error in 0.24. You should leave random_state to its default (None), or set shuffle=True.\n",
            "  FutureWarning\n"
          ],
          "name": "stderr"
        },
        {
          "output_type": "stream",
          "text": [
            "KNeighborsClassifier  model 시작 \n",
            "\t 폴드 세트:  0  시작 \n",
            "\t 폴드 세트:  1  시작 \n",
            "\t 폴드 세트:  2  시작 \n",
            "\t 폴드 세트:  3  시작 \n",
            "\t 폴드 세트:  4  시작 \n",
            "\t 폴드 세트:  5  시작 \n",
            "\t 폴드 세트:  6  시작 \n",
            "RandomForestClassifier  model 시작 \n",
            "\t 폴드 세트:  0  시작 \n",
            "\t 폴드 세트:  1  시작 \n",
            "\t 폴드 세트:  2  시작 \n",
            "\t 폴드 세트:  3  시작 \n",
            "\t 폴드 세트:  4  시작 \n",
            "\t 폴드 세트:  5  시작 \n",
            "\t 폴드 세트:  6  시작 \n"
          ],
          "name": "stdout"
        },
        {
          "output_type": "stream",
          "text": [
            "/usr/local/lib/python3.7/dist-packages/sklearn/model_selection/_split.py:296: FutureWarning: Setting a random_state has no effect since shuffle is False. This will raise an error in 0.24. You should leave random_state to its default (None), or set shuffle=True.\n",
            "  FutureWarning\n",
            "/usr/local/lib/python3.7/dist-packages/sklearn/model_selection/_split.py:296: FutureWarning: Setting a random_state has no effect since shuffle is False. This will raise an error in 0.24. You should leave random_state to its default (None), or set shuffle=True.\n",
            "  FutureWarning\n"
          ],
          "name": "stderr"
        },
        {
          "output_type": "stream",
          "text": [
            "DecisionTreeClassifier  model 시작 \n",
            "\t 폴드 세트:  0  시작 \n",
            "\t 폴드 세트:  1  시작 \n",
            "\t 폴드 세트:  2  시작 \n",
            "\t 폴드 세트:  3  시작 \n",
            "\t 폴드 세트:  4  시작 \n",
            "\t 폴드 세트:  5  시작 \n",
            "\t 폴드 세트:  6  시작 \n",
            "AdaBoostClassifier  model 시작 \n",
            "\t 폴드 세트:  0  시작 \n",
            "\t 폴드 세트:  1  시작 \n",
            "\t 폴드 세트:  2  시작 \n",
            "\t 폴드 세트:  3  시작 \n",
            "\t 폴드 세트:  4  시작 \n",
            "\t 폴드 세트:  5  시작 \n",
            "\t 폴드 세트:  6  시작 \n"
          ],
          "name": "stdout"
        }
      ]
    },
    {
      "cell_type": "code",
      "metadata": {
        "colab": {
          "base_uri": "https://localhost:8080/"
        },
        "id": "CPc3oqp5VSYx",
        "outputId": "afef8ba1-193e-4263-fd6e-8d1671988017"
      },
      "source": [
        "Stack_final_X_train = np.concatenate((knn_train, rf_train, dt_train, ada_train), axis=1)\r\n",
        "Stack_final_X_test = np.concatenate((knn_test, rf_test, dt_test, ada_test), axis=1)\r\n",
        "print('스태킹 학습 피처 데이터 shape: ', Stack_final_X_train.shape,\r\n",
        "      '스태킹 테스트 피처 데이터 shape: ', Stack_final_X_test.shape)"
      ],
      "execution_count": 22,
      "outputs": [
        {
          "output_type": "stream",
          "text": [
            "스태킹 학습 피처 데이터 shape:  (455, 4) 스태킹 테스트 피처 데이터 shape:  (114, 4)\n"
          ],
          "name": "stdout"
        }
      ]
    },
    {
      "cell_type": "code",
      "metadata": {
        "colab": {
          "base_uri": "https://localhost:8080/"
        },
        "id": "H-joTTA6V-fd",
        "outputId": "e214f8dd-b328-4eec-f89e-870825fd8ec0"
      },
      "source": [
        "lr_final.fit(Stack_final_X_train, y_train)\r\n",
        "stack_final = lr_final.predict(Stack_final_X_test)\r\n",
        "\r\n",
        "print('최종 메타 모델의 예측 정확도: {0:.4f}'.format(accuracy_score(y_test, stack_final)))"
      ],
      "execution_count": 23,
      "outputs": [
        {
          "output_type": "stream",
          "text": [
            "최종 메타 모델의 예측 정확도: 0.9737\n"
          ],
          "name": "stdout"
        }
      ]
    },
    {
      "cell_type": "code",
      "metadata": {
        "id": "cUzhjuBkWO-P"
      },
      "source": [
        ""
      ],
      "execution_count": null,
      "outputs": []
    }
  ]
}