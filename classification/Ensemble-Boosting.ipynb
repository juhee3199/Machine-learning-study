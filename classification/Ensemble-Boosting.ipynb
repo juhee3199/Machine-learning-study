{
  "nbformat": 4,
  "nbformat_minor": 0,
  "metadata": {
    "colab": {
      "name": "Ensemble-Boosting.ipynb",
      "provenance": [],
      "collapsed_sections": [],
      "authorship_tag": "ABX9TyOX6FymyV8M4BObYAx9aSjw",
      "include_colab_link": true
    },
    "kernelspec": {
      "name": "python3",
      "display_name": "Python 3"
    }
  },
  "cells": [
    {
      "cell_type": "markdown",
      "metadata": {
        "id": "view-in-github",
        "colab_type": "text"
      },
      "source": [
        "<a href=\"https://colab.research.google.com/github/juhee3199/Machine-learning_advanced-study/blob/juhee3199-basic_code/classification/Ensemble-Boosting.ipynb\" target=\"_parent\"><img src=\"https://colab.research.google.com/assets/colab-badge.svg\" alt=\"Open In Colab\"/></a>"
      ]
    },
    {
      "cell_type": "markdown",
      "metadata": {
        "id": "n2Lmsyw_Ts15"
      },
      "source": [
        "# Boosting\r\n",
        ": 순차적으로 학습-예측하면서 잘못 예측한 데이터에 대한 가중치 부여를 통해 오류를 개선해 나가면서 학습\r\n",
        "- 대표적인 구현: AdaBoost, Gradient Boosting\r\n"
      ]
    },
    {
      "cell_type": "markdown",
      "metadata": {
        "id": "vagVc7FxUHx_"
      },
      "source": [
        "# 1. AdaBoost\r\n",
        "\r\n",
        "- 순차적으로 학습 예측하면서 오류 데이터에 가중치를 부여\r\n",
        "- 마지막에는 약한 학습기가 오류 값에 대해 가중치를 부여한 것을 모두 결합해서 최종 예측함"
      ]
    },
    {
      "cell_type": "markdown",
      "metadata": {
        "id": "3zzm3GANGJ5N"
      },
      "source": [
        "# 2. GBM (Gradient Boosting Machine)\r\n",
        "- AdaBoost와 유사하나, 가중치 업데이트를 경사하강법(Gradient Descent)를 이용\r\n",
        "- 오류 값 = 실제 값 - 예측 값\r\n",
        "- h(x) = y - F(x)\r\n",
        "- 경사하강법: h(x)를 최소화하는 방향성을 가지고 반복적으로 가중치 값을 업데이트\r\n"
      ]
    },
    {
      "cell_type": "code",
      "metadata": {
        "id": "7K2bsjY_F7dQ"
      },
      "source": [
        "import pandas as pd\r\n",
        "from sklearn.datasets import load_breast_cancer\r\n",
        "from sklearn.model_selection import train_test_split\r\n",
        "\r\n",
        "cancer = load_breast_cancer()\r\n",
        "data_df = pd.DataFrame(cancer.data, columns = cancer.feature_names)\r\n",
        "x_train, x_test, y_train, y_test = train_test_split(cancer.data, cancer.target, test_size=0.2, random_state=0)"
      ],
      "execution_count": 3,
      "outputs": []
    },
    {
      "cell_type": "code",
      "metadata": {
        "colab": {
          "base_uri": "https://localhost:8080/"
        },
        "id": "QP9hIf18VIfA",
        "outputId": "4292ac86-59cb-4802-a06d-cc1965dc6a58"
      },
      "source": [
        "from sklearn.ensemble import GradientBoostingClassifier\r\n",
        "from sklearn.metrics import accuracy_score\r\n",
        "import time \r\n",
        "import warnings\r\n",
        "warnings.filterwarnings('ignore')\r\n",
        "\r\n",
        "start_time = time.time()\r\n",
        "\r\n",
        "gb_clf = GradientBoostingClassifier(random_state=0)\r\n",
        "gb_clf.fit(x_train, y_train)\r\n",
        "gb_pred = gb_clf.predict(x_test)\r\n",
        "gb_acc = accuracy_score(y_test, gb_pred)\r\n",
        "\r\n",
        "print('GBM 정확도: {0:.4f}'.format(gb_acc))\r\n",
        "print('GBM 수행시간: {0:.1f} 초'.format(time.time() - start_time))"
      ],
      "execution_count": 6,
      "outputs": [
        {
          "output_type": "stream",
          "text": [
            "GBM 정확도: 0.9649\n",
            "GBM 수행시간: 0.4 초\n"
          ],
          "name": "stdout"
        }
      ]
    },
    {
      "cell_type": "code",
      "metadata": {
        "colab": {
          "base_uri": "https://localhost:8080/"
        },
        "id": "VcMmo4MUWDcp",
        "outputId": "bcf7ad7e-067c-4a25-dee7-93350f55ea88"
      },
      "source": [
        "from sklearn.model_selection import GridSearchCV\r\n",
        "\r\n",
        "params = {\r\n",
        "    'n_estimators':[100, 500],\r\n",
        "    'learning_rate':[0.05, 0.1]\r\n",
        "}\r\n",
        "\r\n",
        "grid_cv = GridSearchCV(gb_clf, param_grid = params, cv=2, verbose=1)\r\n",
        "grid_cv.fit(x_train, y_train)\r\n",
        "print('최적 하이퍼 파라미터: ', grid_cv.best_params_)\r\n",
        "print('최고 예측 정확도: {0:.4f}'.format(grid_cv.best_score_))"
      ],
      "execution_count": 9,
      "outputs": [
        {
          "output_type": "stream",
          "text": [
            "Fitting 2 folds for each of 4 candidates, totalling 8 fits\n"
          ],
          "name": "stdout"
        },
        {
          "output_type": "stream",
          "text": [
            "[Parallel(n_jobs=1)]: Using backend SequentialBackend with 1 concurrent workers.\n",
            "[Parallel(n_jobs=1)]: Done   8 out of   8 | elapsed:    2.9s finished\n"
          ],
          "name": "stderr"
        },
        {
          "output_type": "stream",
          "text": [
            "최적 하이퍼 파라미터:  {'learning_rate': 0.1, 'n_estimators': 500}\n",
            "최고 예측 정확도: 0.9516\n"
          ],
          "name": "stdout"
        }
      ]
    },
    {
      "cell_type": "code",
      "metadata": {
        "colab": {
          "base_uri": "https://localhost:8080/"
        },
        "id": "qFjvkvtoWptp",
        "outputId": "cf5718f0-0f92-440b-b378-e3a722456dcb"
      },
      "source": [
        "grid_pred = grid_cv.best_estimator_.predict(x_test)\r\n",
        "accuracy = accuracy_score(y_test, grid_pred)\r\n",
        "print('GridCV 정확도: {0:.4f}'.format(accuracy))"
      ],
      "execution_count": 13,
      "outputs": [
        {
          "output_type": "stream",
          "text": [
            "GridCV 정확도: 0.9737\n"
          ],
          "name": "stdout"
        }
      ]
    },
    {
      "cell_type": "markdown",
      "metadata": {
        "id": "qG85-ms6XdQW"
      },
      "source": [
        "# 3. XGBoost(Extra Gradient Boost)\r\n",
        "\r\n"
      ]
    },
    {
      "cell_type": "code",
      "metadata": {
        "id": "UB_ZhPmPW63I"
      },
      "source": [
        ""
      ],
      "execution_count": null,
      "outputs": []
    }
  ]
}