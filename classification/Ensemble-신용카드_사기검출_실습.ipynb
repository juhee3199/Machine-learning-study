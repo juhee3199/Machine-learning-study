{
  "nbformat": 4,
  "nbformat_minor": 0,
  "metadata": {
    "colab": {
      "name": "Ensemble-신용카드 사기 검출 실습.ipynb",
      "provenance": [],
      "collapsed_sections": [],
      "authorship_tag": "ABX9TyNXGthNgyn/hQyIQs5u2fdo",
      "include_colab_link": true
    },
    "kernelspec": {
      "name": "python3",
      "display_name": "Python 3"
    }
  },
  "cells": [
    {
      "cell_type": "markdown",
      "metadata": {
        "id": "view-in-github",
        "colab_type": "text"
      },
      "source": [
        "<a href=\"https://colab.research.google.com/github/juhee3199/Machine-learning_advanced-study/blob/master/classification/Ensemble-%EC%8B%A0%EC%9A%A9%EC%B9%B4%EB%93%9C_%EC%82%AC%EA%B8%B0%EA%B2%80%EC%B6%9C_%EC%8B%A4%EC%8A%B5.ipynb\" target=\"_parent\"><img src=\"https://colab.research.google.com/assets/colab-badge.svg\" alt=\"Open In Colab\"/></a>"
      ]
    },
    {
      "cell_type": "markdown",
      "metadata": {
        "id": "37vpFKpPko-o"
      },
      "source": [
        "## 캐글 신용카드 사기 검출 데이터\r\n",
        ": https://www.kaggle.com/mlg-ulb/creditcardfraud\r\n",
        "- 불균형한 분포를 가진 데이터\r\n",
        "- --> 오버 샘플링 수행 (SMOTE)"
      ]
    },
    {
      "cell_type": "code",
      "metadata": {
        "colab": {
          "base_uri": "https://localhost:8080/"
        },
        "id": "Eq18TRvjhaq5",
        "outputId": "ca78178b-1c38-4294-924a-44854bd8208b"
      },
      "source": [
        "!pip uninstall -y kaggle\r\n",
        "!pip install --upgrade pip\r\n",
        "!pip install kaggle==1.5.6"
      ],
      "execution_count": 1,
      "outputs": [
        {
          "output_type": "stream",
          "text": [
            "Uninstalling kaggle-1.5.10:\n",
            "  Successfully uninstalled kaggle-1.5.10\n",
            "Collecting pip\n",
            "\u001b[?25l  Downloading https://files.pythonhosted.org/packages/fe/ef/60d7ba03b5c442309ef42e7d69959f73aacccd0d86008362a681c4698e83/pip-21.0.1-py3-none-any.whl (1.5MB)\n",
            "\u001b[K     |████████████████████████████████| 1.5MB 8.9MB/s \n",
            "\u001b[?25hInstalling collected packages: pip\n",
            "  Found existing installation: pip 19.3.1\n",
            "    Uninstalling pip-19.3.1:\n",
            "      Successfully uninstalled pip-19.3.1\n",
            "Successfully installed pip-21.0.1\n",
            "Collecting kaggle==1.5.6\n",
            "  Downloading kaggle-1.5.6.tar.gz (58 kB)\n",
            "\u001b[K     |████████████████████████████████| 58 kB 3.2 MB/s \n",
            "\u001b[?25hRequirement already satisfied: urllib3<1.25,>=1.21.1 in /usr/local/lib/python3.7/dist-packages (from kaggle==1.5.6) (1.24.3)\n",
            "Requirement already satisfied: six>=1.10 in /usr/local/lib/python3.7/dist-packages (from kaggle==1.5.6) (1.15.0)\n",
            "Requirement already satisfied: certifi in /usr/local/lib/python3.7/dist-packages (from kaggle==1.5.6) (2020.12.5)\n",
            "Requirement already satisfied: python-dateutil in /usr/local/lib/python3.7/dist-packages (from kaggle==1.5.6) (2.8.1)\n",
            "Requirement already satisfied: requests in /usr/local/lib/python3.7/dist-packages (from kaggle==1.5.6) (2.23.0)\n",
            "Requirement already satisfied: tqdm in /usr/local/lib/python3.7/dist-packages (from kaggle==1.5.6) (4.41.1)\n",
            "Requirement already satisfied: python-slugify in /usr/local/lib/python3.7/dist-packages (from kaggle==1.5.6) (4.0.1)\n",
            "Requirement already satisfied: text-unidecode>=1.3 in /usr/local/lib/python3.7/dist-packages (from python-slugify->kaggle==1.5.6) (1.3)\n",
            "Requirement already satisfied: chardet<4,>=3.0.2 in /usr/local/lib/python3.7/dist-packages (from requests->kaggle==1.5.6) (3.0.4)\n",
            "Requirement already satisfied: idna<3,>=2.5 in /usr/local/lib/python3.7/dist-packages (from requests->kaggle==1.5.6) (2.10)\n",
            "Building wheels for collected packages: kaggle\n",
            "  Building wheel for kaggle (setup.py) ... \u001b[?25l\u001b[?25hdone\n",
            "  Created wheel for kaggle: filename=kaggle-1.5.6-py3-none-any.whl size=72859 sha256=fdb5e00ea732f87b4da718c98b5b8db15fbf04042e504c65cfe2385511d95ff1\n",
            "  Stored in directory: /root/.cache/pip/wheels/aa/e7/e7/eb3c3d514c33294d77ddd5a856bdd58dc9c1fabbed59a02a2b\n",
            "Successfully built kaggle\n",
            "Installing collected packages: kaggle\n",
            "Successfully installed kaggle-1.5.6\n"
          ],
          "name": "stdout"
        }
      ]
    },
    {
      "cell_type": "code",
      "metadata": {
        "colab": {
          "base_uri": "https://localhost:8080/"
        },
        "id": "ms__vPTBhbXM",
        "outputId": "f7b18d30-1b4a-4d60-99ba-705636d0a5e6"
      },
      "source": [
        "# kaggle.json\r\n",
        "\r\n",
        "!mkdir -p ~/.kaggle\r\n",
        "!cp kaggle.json ~/.kaggle/\r\n",
        "! chmod 600 ~/.kaggle/kaggle.json\r\n",
        "!kaggle -v"
      ],
      "execution_count": 2,
      "outputs": [
        {
          "output_type": "stream",
          "text": [
            "Kaggle API 1.5.6\n"
          ],
          "name": "stdout"
        }
      ]
    },
    {
      "cell_type": "code",
      "metadata": {
        "colab": {
          "base_uri": "https://localhost:8080/"
        },
        "id": "6NGhCRCghdd3",
        "outputId": "c54a5425-87b3-42d7-8d29-4896bc328797"
      },
      "source": [
        "!kaggle datasets download -d mlg-ulb/creditcardfraud\r\n",
        "\r\n",
        "!unzip creditcardfraud.zip"
      ],
      "execution_count": 5,
      "outputs": [
        {
          "output_type": "stream",
          "text": [
            "creditcardfraud.zip: Skipping, found more recently modified local copy (use --force to force download)\n",
            "Archive:  creditcardfraud.zip\n",
            "  inflating: creditcard.csv          \n"
          ],
          "name": "stdout"
        }
      ]
    },
    {
      "cell_type": "code",
      "metadata": {
        "colab": {
          "base_uri": "https://localhost:8080/",
          "height": 161
        },
        "id": "tsJHX0PciEoL",
        "outputId": "ea432dc0-01be-4496-ff03-c31408679ed2"
      },
      "source": [
        "import pandas as pd\r\n",
        "import numpy as np\r\n",
        "import matplotlib.pyplot as plt\r\n",
        "import warnings\r\n",
        "warnings.filterwarnings('ignore')\r\n",
        "%matplotlib inline\r\n",
        "\r\n",
        "card_df = pd.read_csv('creditcard.csv')\r\n",
        "card_df.head(3)"
      ],
      "execution_count": 7,
      "outputs": [
        {
          "output_type": "execute_result",
          "data": {
            "text/html": [
              "<div>\n",
              "<style scoped>\n",
              "    .dataframe tbody tr th:only-of-type {\n",
              "        vertical-align: middle;\n",
              "    }\n",
              "\n",
              "    .dataframe tbody tr th {\n",
              "        vertical-align: top;\n",
              "    }\n",
              "\n",
              "    .dataframe thead th {\n",
              "        text-align: right;\n",
              "    }\n",
              "</style>\n",
              "<table border=\"1\" class=\"dataframe\">\n",
              "  <thead>\n",
              "    <tr style=\"text-align: right;\">\n",
              "      <th></th>\n",
              "      <th>Time</th>\n",
              "      <th>V1</th>\n",
              "      <th>V2</th>\n",
              "      <th>V3</th>\n",
              "      <th>V4</th>\n",
              "      <th>V5</th>\n",
              "      <th>V6</th>\n",
              "      <th>V7</th>\n",
              "      <th>V8</th>\n",
              "      <th>V9</th>\n",
              "      <th>V10</th>\n",
              "      <th>V11</th>\n",
              "      <th>V12</th>\n",
              "      <th>V13</th>\n",
              "      <th>V14</th>\n",
              "      <th>V15</th>\n",
              "      <th>V16</th>\n",
              "      <th>V17</th>\n",
              "      <th>V18</th>\n",
              "      <th>V19</th>\n",
              "      <th>V20</th>\n",
              "      <th>V21</th>\n",
              "      <th>V22</th>\n",
              "      <th>V23</th>\n",
              "      <th>V24</th>\n",
              "      <th>V25</th>\n",
              "      <th>V26</th>\n",
              "      <th>V27</th>\n",
              "      <th>V28</th>\n",
              "      <th>Amount</th>\n",
              "      <th>Class</th>\n",
              "    </tr>\n",
              "  </thead>\n",
              "  <tbody>\n",
              "    <tr>\n",
              "      <th>0</th>\n",
              "      <td>0.0</td>\n",
              "      <td>-1.359807</td>\n",
              "      <td>-0.072781</td>\n",
              "      <td>2.536347</td>\n",
              "      <td>1.378155</td>\n",
              "      <td>-0.338321</td>\n",
              "      <td>0.462388</td>\n",
              "      <td>0.239599</td>\n",
              "      <td>0.098698</td>\n",
              "      <td>0.363787</td>\n",
              "      <td>0.090794</td>\n",
              "      <td>-0.551600</td>\n",
              "      <td>-0.617801</td>\n",
              "      <td>-0.991390</td>\n",
              "      <td>-0.311169</td>\n",
              "      <td>1.468177</td>\n",
              "      <td>-0.470401</td>\n",
              "      <td>0.207971</td>\n",
              "      <td>0.025791</td>\n",
              "      <td>0.403993</td>\n",
              "      <td>0.251412</td>\n",
              "      <td>-0.018307</td>\n",
              "      <td>0.277838</td>\n",
              "      <td>-0.110474</td>\n",
              "      <td>0.066928</td>\n",
              "      <td>0.128539</td>\n",
              "      <td>-0.189115</td>\n",
              "      <td>0.133558</td>\n",
              "      <td>-0.021053</td>\n",
              "      <td>149.62</td>\n",
              "      <td>0</td>\n",
              "    </tr>\n",
              "    <tr>\n",
              "      <th>1</th>\n",
              "      <td>0.0</td>\n",
              "      <td>1.191857</td>\n",
              "      <td>0.266151</td>\n",
              "      <td>0.166480</td>\n",
              "      <td>0.448154</td>\n",
              "      <td>0.060018</td>\n",
              "      <td>-0.082361</td>\n",
              "      <td>-0.078803</td>\n",
              "      <td>0.085102</td>\n",
              "      <td>-0.255425</td>\n",
              "      <td>-0.166974</td>\n",
              "      <td>1.612727</td>\n",
              "      <td>1.065235</td>\n",
              "      <td>0.489095</td>\n",
              "      <td>-0.143772</td>\n",
              "      <td>0.635558</td>\n",
              "      <td>0.463917</td>\n",
              "      <td>-0.114805</td>\n",
              "      <td>-0.183361</td>\n",
              "      <td>-0.145783</td>\n",
              "      <td>-0.069083</td>\n",
              "      <td>-0.225775</td>\n",
              "      <td>-0.638672</td>\n",
              "      <td>0.101288</td>\n",
              "      <td>-0.339846</td>\n",
              "      <td>0.167170</td>\n",
              "      <td>0.125895</td>\n",
              "      <td>-0.008983</td>\n",
              "      <td>0.014724</td>\n",
              "      <td>2.69</td>\n",
              "      <td>0</td>\n",
              "    </tr>\n",
              "    <tr>\n",
              "      <th>2</th>\n",
              "      <td>1.0</td>\n",
              "      <td>-1.358354</td>\n",
              "      <td>-1.340163</td>\n",
              "      <td>1.773209</td>\n",
              "      <td>0.379780</td>\n",
              "      <td>-0.503198</td>\n",
              "      <td>1.800499</td>\n",
              "      <td>0.791461</td>\n",
              "      <td>0.247676</td>\n",
              "      <td>-1.514654</td>\n",
              "      <td>0.207643</td>\n",
              "      <td>0.624501</td>\n",
              "      <td>0.066084</td>\n",
              "      <td>0.717293</td>\n",
              "      <td>-0.165946</td>\n",
              "      <td>2.345865</td>\n",
              "      <td>-2.890083</td>\n",
              "      <td>1.109969</td>\n",
              "      <td>-0.121359</td>\n",
              "      <td>-2.261857</td>\n",
              "      <td>0.524980</td>\n",
              "      <td>0.247998</td>\n",
              "      <td>0.771679</td>\n",
              "      <td>0.909412</td>\n",
              "      <td>-0.689281</td>\n",
              "      <td>-0.327642</td>\n",
              "      <td>-0.139097</td>\n",
              "      <td>-0.055353</td>\n",
              "      <td>-0.059752</td>\n",
              "      <td>378.66</td>\n",
              "      <td>0</td>\n",
              "    </tr>\n",
              "  </tbody>\n",
              "</table>\n",
              "</div>"
            ],
            "text/plain": [
              "   Time        V1        V2        V3  ...       V27       V28  Amount  Class\n",
              "0   0.0 -1.359807 -0.072781  2.536347  ...  0.133558 -0.021053  149.62      0\n",
              "1   0.0  1.191857  0.266151  0.166480  ... -0.008983  0.014724    2.69      0\n",
              "2   1.0 -1.358354 -1.340163  1.773209  ... -0.055353 -0.059752  378.66      0\n",
              "\n",
              "[3 rows x 31 columns]"
            ]
          },
          "metadata": {
            "tags": []
          },
          "execution_count": 7
        }
      ]
    },
    {
      "cell_type": "code",
      "metadata": {
        "colab": {
          "base_uri": "https://localhost:8080/"
        },
        "id": "rsyO4jVHig2P",
        "outputId": "811217e9-1d44-47ef-93cd-486bbb756e2b"
      },
      "source": [
        "card_df.info()"
      ],
      "execution_count": 8,
      "outputs": [
        {
          "output_type": "stream",
          "text": [
            "<class 'pandas.core.frame.DataFrame'>\n",
            "RangeIndex: 284807 entries, 0 to 284806\n",
            "Data columns (total 31 columns):\n",
            " #   Column  Non-Null Count   Dtype  \n",
            "---  ------  --------------   -----  \n",
            " 0   Time    284807 non-null  float64\n",
            " 1   V1      284807 non-null  float64\n",
            " 2   V2      284807 non-null  float64\n",
            " 3   V3      284807 non-null  float64\n",
            " 4   V4      284807 non-null  float64\n",
            " 5   V5      284807 non-null  float64\n",
            " 6   V6      284807 non-null  float64\n",
            " 7   V7      284807 non-null  float64\n",
            " 8   V8      284807 non-null  float64\n",
            " 9   V9      284807 non-null  float64\n",
            " 10  V10     284807 non-null  float64\n",
            " 11  V11     284807 non-null  float64\n",
            " 12  V12     284807 non-null  float64\n",
            " 13  V13     284807 non-null  float64\n",
            " 14  V14     284807 non-null  float64\n",
            " 15  V15     284807 non-null  float64\n",
            " 16  V16     284807 non-null  float64\n",
            " 17  V17     284807 non-null  float64\n",
            " 18  V18     284807 non-null  float64\n",
            " 19  V19     284807 non-null  float64\n",
            " 20  V20     284807 non-null  float64\n",
            " 21  V21     284807 non-null  float64\n",
            " 22  V22     284807 non-null  float64\n",
            " 23  V23     284807 non-null  float64\n",
            " 24  V24     284807 non-null  float64\n",
            " 25  V25     284807 non-null  float64\n",
            " 26  V26     284807 non-null  float64\n",
            " 27  V27     284807 non-null  float64\n",
            " 28  V28     284807 non-null  float64\n",
            " 29  Amount  284807 non-null  float64\n",
            " 30  Class   284807 non-null  int64  \n",
            "dtypes: float64(30), int64(1)\n",
            "memory usage: 67.4 MB\n"
          ],
          "name": "stdout"
        }
      ]
    },
    {
      "cell_type": "markdown",
      "metadata": {
        "id": "S3el4fnXnGzZ"
      },
      "source": [
        "-  왜곡된 데이터(Amount) 분포도 변환하기\r\n",
        "\r\n",
        "  - LogisticRegression은 선형모델\r\n",
        "  - 선형 모델은 중요 피처들의 값이 정규 분포 형태를 유지하는 것을 선호한다."
      ]
    },
    {
      "cell_type": "code",
      "metadata": {
        "colab": {
          "base_uri": "https://localhost:8080/",
          "height": 320
        },
        "id": "sfqbpxjSnHD_",
        "outputId": "c8209da6-480f-45bb-dd66-82384b222c3d"
      },
      "source": [
        "import seaborn as sns\r\n",
        "plt.figure(figsize=(8,4))\r\n",
        "plt.xticks(range(0,30000,1000), rotation=60)\r\n",
        "sns.distplot(card_df['Amount'])\r\n",
        "\r\n",
        "# Amount 피쳐가 왜곡된 분포를 나타냄\r\n",
        "# --> 표준 정규 분포 형태로 변환하기"
      ],
      "execution_count": 28,
      "outputs": [
        {
          "output_type": "execute_result",
          "data": {
            "text/plain": [
              "<matplotlib.axes._subplots.AxesSubplot at 0x7fbe9fa06dd0>"
            ]
          },
          "metadata": {
            "tags": []
          },
          "execution_count": 28
        },
        {
          "output_type": "display_data",
          "data": {
            "image/png": "[encoded data removed]",
            "text/plain": [
              "<Figure size 576x288 with 1 Axes>"
            ]
          },
          "metadata": {
            "tags": [],
            "needs_background": "light"
          }
        }
      ]
    },
    {
      "cell_type": "code",
      "metadata": {
        "id": "ih8VejRmnxvI"
      },
      "source": [
        "from sklearn.preprocessing import StandardScaler\r\n",
        "\r\n",
        "# 전처리\r\n",
        "def get_preprocessed_df(df=None):\r\n",
        "  df_copy = df.copy()\r\n",
        "\r\n",
        "  # Amount를 표준 정규 분포 형태로 변환하기\r\n",
        "  scaler = StandardScaler()\r\n",
        "  amount_n = scaler.fit_transform(df_copy['Amount'].values.reshape(-1,1))\r\n",
        "  df_copy.insert(0, 'Amount_Scaled', amount_n)\r\n",
        "  #기존 Time, Amount 피처 삭제\r\n",
        "  df_copy.drop(['Time','Amount'],axis=1, inplace=True)\r\n",
        "\r\n",
        "  return df_copy"
      ],
      "execution_count": 47,
      "outputs": []
    },
    {
      "cell_type": "code",
      "metadata": {
        "id": "j5CFYD26i0iP"
      },
      "source": [
        "from sklearn.model_selection import train_test_split\r\n",
        "\r\n",
        "# 사전 데이터 가공 후, train, test 데이터셋 반환\r\n",
        "def get_train_test_df(df=None):\r\n",
        "  # 전처리\r\n",
        "  df_copy = get_preprocessed_df(df)\r\n",
        "  \r\n",
        "  x_features = df_copy.iloc[:, :-1]\r\n",
        "  y_target = df_copy.iloc[:, -1]\r\n",
        "  # train, test 분할\r\n",
        "  x_train, x_test, y_train, y_test = train_test_split(x_features, y_target, test_size =0.3, random_state=0, stratify=y_target)\r\n",
        "\r\n",
        "  return x_train, x_test, y_train, y_test\r\n",
        "\r\n",
        "x_train, x_test, y_train, y_test = get_train_test_df(card_df)"
      ],
      "execution_count": 48,
      "outputs": []
    },
    {
      "cell_type": "code",
      "metadata": {
        "colab": {
          "base_uri": "https://localhost:8080/"
        },
        "id": "9O6P2IhsjzyU",
        "outputId": "8a076a2d-4245-47e6-a94c-85e755ca6176"
      },
      "source": [
        "print('train 데이터 레이블 값 비율')\r\n",
        "print(y_train.value_counts()/y_train.shape[0]*100)\r\n",
        "print('test 데이터 레이블 값 비율')\r\n",
        "print(y_test.value_counts()/y_test.shape[0]*100)"
      ],
      "execution_count": 49,
      "outputs": [
        {
          "output_type": "stream",
          "text": [
            "train 데이터 레이블 값 비율\n",
            "0    99.827451\n",
            "1     0.172549\n",
            "Name: Class, dtype: float64\n",
            "test 데이터 레이블 값 비율\n",
            "0    99.826785\n",
            "1     0.173215\n",
            "Name: Class, dtype: float64\n"
          ],
          "name": "stdout"
        }
      ]
    },
    {
      "cell_type": "code",
      "metadata": {
        "id": "QbkONIjqj_Fu"
      },
      "source": [
        "from sklearn.metrics import accuracy_score, precision_score, recall_score\r\n",
        "from sklearn.metrics import confusion_matrix, f1_score, roc_auc_score\r\n",
        "\r\n",
        "# 평가지표\r\n",
        "def get_clf_eval(y_test, pred=None, pred_proba=None):\r\n",
        "    confusion = confusion_matrix( y_test, pred)\r\n",
        "    accuracy = accuracy_score(y_test , pred)\r\n",
        "    precision = precision_score(y_test , pred)\r\n",
        "    recall = recall_score(y_test , pred)\r\n",
        "    f1 = f1_score(y_test,pred)\r\n",
        "    # ROC-AUC 추가 \r\n",
        "    roc_auc = roc_auc_score(y_test, pred_proba)\r\n",
        "    print('오차 행렬')\r\n",
        "    print(confusion)\r\n",
        "    # ROC-AUC print 추가\r\n",
        "    print('정확도: {0:.4f}, 정밀도: {1:.4f}, 재현율: {2:.4f},\\\r\n",
        "          F1: {3:.4f}, AUC:{4:.4f}'.format(accuracy, precision, recall, f1, roc_auc))\r\n",
        "    \r\n",
        "# 사이킷런의 estimator 객체와 train,test 데이터셋을 입력받아서 학습/예측/평가 수행\r\n",
        "def get_model_train_eval(model, ftr_train = None, ftr_test=None, tgt_train=None, tgt_test=None):\r\n",
        "  model.fit(ftr_train, tgt_train)\r\n",
        "  pred = model.predict(ftr_test)\r\n",
        "  pred_proba = model.predict_proba(ftr_test)[:,1]\r\n",
        "  get_clf_eval(tgt_test, pred, pred_proba)"
      ],
      "execution_count": 50,
      "outputs": []
    },
    {
      "cell_type": "code",
      "metadata": {
        "colab": {
          "base_uri": "https://localhost:8080/"
        },
        "id": "kyhOaGjYkZdf",
        "outputId": "13bf4f1a-c876-46a8-ae0c-5e441e0d8c3e"
      },
      "source": [
        "from sklearn.linear_model import LogisticRegression\r\n",
        "\r\n",
        "lr_clf = LogisticRegression()\r\n",
        "get_model_train_eval(lr_clf, x_train, x_test, y_train, y_test)"
      ],
      "execution_count": 51,
      "outputs": [
        {
          "output_type": "stream",
          "text": [
            "오차 행렬\n",
            "[[85281    14]\n",
            " [   58    90]]\n",
            "정확도: 0.9992, 정밀도: 0.8654, 재현율: 0.6081,          F1: 0.7143, AUC:0.9702\n"
          ],
          "name": "stdout"
        }
      ]
    },
    {
      "cell_type": "code",
      "metadata": {
        "colab": {
          "base_uri": "https://localhost:8080/"
        },
        "id": "2J-UtXMflj4T",
        "outputId": "6ecfd8d4-8968-4173-e72e-d2394d73b26e"
      },
      "source": [
        "from lightgbm import LGBMClassifier\r\n",
        "\r\n",
        "lgbm_clf = LGBMClassifier(n_estimators=1000, num_leaves = 64, n_jobs=-1, boost_from_average=False)\r\n",
        "get_model_train_eval(lgbm_clf,  x_train, x_test, y_train, y_test)"
      ],
      "execution_count": 52,
      "outputs": [
        {
          "output_type": "stream",
          "text": [
            "오차 행렬\n",
            "[[85289     6]\n",
            " [   36   112]]\n",
            "정확도: 0.9995, 정밀도: 0.9492, 재현율: 0.7568,          F1: 0.8421, AUC:0.9773\n"
          ],
          "name": "stdout"
        }
      ]
    },
    {
      "cell_type": "markdown",
      "metadata": {
        "id": "JOGDdZ1xmtRo"
      },
      "source": [
        "- 로그변환 수행"
      ]
    },
    {
      "cell_type": "code",
      "metadata": {
        "id": "9jLpOIv3mqDK"
      },
      "source": [
        "def get_preprocessed_df(df=None):\r\n",
        "  df_copy = df.copy()\r\n",
        "\r\n",
        "  # Amount를 numpy의 log1p()를 이용해서 로그 변환\r\n",
        "  amount_n = np.log1p(df_copy['Amount'])\r\n",
        "  df_copy.insert(0, 'Amount_Scaled', amount_n)\r\n",
        "  #기존 Time, Amount 피처 삭제\r\n",
        "  df_copy.drop(['Time','Amount'],axis=1, inplace=True)\r\n",
        "\r\n",
        "  return df_copy"
      ],
      "execution_count": 53,
      "outputs": []
    },
    {
      "cell_type": "code",
      "metadata": {
        "colab": {
          "base_uri": "https://localhost:8080/"
        },
        "id": "eiusCHkLr0DP",
        "outputId": "9f7e62ca-1d66-4b23-91ed-8fdd77d6f963"
      },
      "source": [
        "x_train, x_test, y_train, y_test = get_train_test_df(card_df)\r\n",
        "\r\n",
        "\r\n",
        "lr_clf = LogisticRegression()\r\n",
        "get_model_train_eval(lr_clf, x_train, x_test, y_train, y_test)"
      ],
      "execution_count": 54,
      "outputs": [
        {
          "output_type": "stream",
          "text": [
            "오차 행렬\n",
            "[[85283    12]\n",
            " [   59    89]]\n",
            "정확도: 0.9992, 정밀도: 0.8812, 재현율: 0.6014,          F1: 0.7149, AUC:0.9727\n"
          ],
          "name": "stdout"
        }
      ]
    },
    {
      "cell_type": "code",
      "metadata": {
        "colab": {
          "base_uri": "https://localhost:8080/"
        },
        "id": "pS2QI_v8r61A",
        "outputId": "6090f012-6f12-4cde-8792-04c6fdd10d84"
      },
      "source": [
        "lgbm_clf = LGBMClassifier(n_estimators=1000, num_leaves = 64, n_jobs=-1, boost_from_average=False)\r\n",
        "get_model_train_eval(lgbm_clf,  x_train, x_test, y_train, y_test)"
      ],
      "execution_count": 55,
      "outputs": [
        {
          "output_type": "stream",
          "text": [
            "오차 행렬\n",
            "[[85290     5]\n",
            " [   35   113]]\n",
            "정확도: 0.9995, 정밀도: 0.9576, 재현율: 0.7635,          F1: 0.8496, AUC:0.9786\n"
          ],
          "name": "stdout"
        }
      ]
    },
    {
      "cell_type": "markdown",
      "metadata": {
        "id": "j5xr8D89s6uY"
      },
      "source": [
        "- 이상치 확인 및 제거"
      ]
    },
    {
      "cell_type": "code",
      "metadata": {
        "colab": {
          "base_uri": "https://localhost:8080/",
          "height": 588
        },
        "id": "OkUdsx9Rs85v",
        "outputId": "eab5205d-0d3f-4a65-f699-8a3aba3bad37"
      },
      "source": [
        "import seaborn as sns\r\n",
        "\r\n",
        "plt.figure(figsize=(9,9))\r\n",
        "corr = card_df.corr()\r\n",
        "sns.heatmap(corr, cmap='RdBu')\r\n",
        "\r\n",
        "# class 와 음의 상관관계가 가장 높은 feature: V14, V17"
      ],
      "execution_count": 38,
      "outputs": [
        {
          "output_type": "execute_result",
          "data": {
            "text/plain": [
              "<matplotlib.axes._subplots.AxesSubplot at 0x7fbea0115fd0>"
            ]
          },
          "metadata": {
            "tags": []
          },
          "execution_count": 38
        },
        {
          "output_type": "display_data",
          "data": {
            "image/png": "[encoded data removed]",
            "text/plain": [
              "<Figure size 648x648 with 2 Axes>"
            ]
          },
          "metadata": {
            "tags": [],
            "needs_background": "light"
          }
        }
      ]
    },
    {
      "cell_type": "code",
      "metadata": {
        "colab": {
          "base_uri": "https://localhost:8080/"
        },
        "id": "0uXnYQ0Htc9B",
        "outputId": "b795adc9-3bcf-45c6-e437-3f0dfe5d59b5"
      },
      "source": [
        "# V14의 이상치 제거\r\n",
        "\r\n",
        "import numpy as np\r\n",
        "\r\n",
        "def get_outlier(df=None, column = None, weight=1.5):\r\n",
        "  # fraud에 해당하는 column 데이터만 추출, 1/4분위와 3/4분위 지점을 np.percentile로 구함\r\n",
        "  fraud = df[df['Class']==1][column]\r\n",
        "  quantile_25 = np.percentile(fraud.values, 25)\r\n",
        "  quantile_75 = np.percentile(fraud.values, 75) \r\n",
        "\r\n",
        "  iqr = quantile_75 - quantile_25\r\n",
        "  iqr_wieght = iqr*weight\r\n",
        "  lowest_val = quantile_25 - iqr_wieght\r\n",
        "  highest_val = quantile_75 - iqr_wieght\r\n",
        "  # 이상치 설정\r\n",
        "  outlier_index = fraud[(fraud < lowest_val) | (fraud > highest_val)].index\r\n",
        "  return outlier_index\r\n",
        "\r\n",
        "\r\n",
        "outlier_index = get_outlier(df=card_df, column='V14', weight=1.5)\r\n",
        "outlier_index"
      ],
      "execution_count": 56,
      "outputs": [
        {
          "output_type": "execute_result",
          "data": {
            "text/plain": [
              "Int64Index([   541,    623,   4920,   6108,   6329,   6331,   6334,   6336,\n",
              "              6338,   6427,\n",
              "            ...\n",
              "            274382, 274475, 275992, 276071, 276864, 279863, 280143, 280149,\n",
              "            281144, 281674],\n",
              "           dtype='int64', length=433)"
            ]
          },
          "metadata": {
            "tags": []
          },
          "execution_count": 56
        }
      ]
    },
    {
      "cell_type": "code",
      "metadata": {
        "id": "c3c1nxUkr8qh"
      },
      "source": [
        "def get_preprocessed_df(df=None):\r\n",
        "  df_copy = df.copy()\r\n",
        "\r\n",
        "  # Amount를 numpy의 log1p()를 이용해서 로그 변환\r\n",
        "  amount_n = np.log1p(df_copy['Amount'])\r\n",
        "  df_copy.insert(0, 'Amount_Scaled', amount_n)\r\n",
        "  #기존 Time, Amount 피처 삭제\r\n",
        "  df_copy.drop(['Time','Amount'],axis=1, inplace=True)\r\n",
        "  #이상치 제거\r\n",
        "  outlier_index = get_outlier(df = df_copy, column='V14', weight=1.5)\r\n",
        "  df_copy.drop(outlier_index, axis=0, inplace=True)\r\n",
        "  return df_copy"
      ],
      "execution_count": 57,
      "outputs": []
    },
    {
      "cell_type": "code",
      "metadata": {
        "colab": {
          "base_uri": "https://localhost:8080/"
        },
        "id": "F9lovvQ1wD5G",
        "outputId": "6205f432-6483-43c5-a97f-ff49e0ab36c6"
      },
      "source": [
        "x_train, x_test, y_train, y_test = get_train_test_df(card_df)\r\n",
        "\r\n",
        "\r\n",
        "lr_clf = LogisticRegression()\r\n",
        "get_model_train_eval(lr_clf, x_train, x_test, y_train, y_test)"
      ],
      "execution_count": 58,
      "outputs": [
        {
          "output_type": "stream",
          "text": [
            "오차 행렬\n",
            "[[85293     2]\n",
            " [    1    17]]\n",
            "정확도: 1.0000, 정밀도: 0.8947, 재현율: 0.9444,          F1: 0.9189, AUC:1.0000\n"
          ],
          "name": "stdout"
        }
      ]
    },
    {
      "cell_type": "code",
      "metadata": {
        "colab": {
          "base_uri": "https://localhost:8080/"
        },
        "id": "gVLjhqN0wLdy",
        "outputId": "e81dcdb3-5f8e-447a-ed82-8cd5e2f602cd"
      },
      "source": [
        "lgbm_clf = LGBMClassifier(n_estimators=1000, num_leaves = 64, n_jobs=-1, boost_from_average=False)\r\n",
        "get_model_train_eval(lgbm_clf,  x_train, x_test, y_train, y_test)"
      ],
      "execution_count": 59,
      "outputs": [
        {
          "output_type": "stream",
          "text": [
            "오차 행렬\n",
            "[[85295     0]\n",
            " [    1    17]]\n",
            "정확도: 1.0000, 정밀도: 1.0000, 재현율: 0.9444,          F1: 0.9714, AUC:1.0000\n"
          ],
          "name": "stdout"
        }
      ]
    },
    {
      "cell_type": "markdown",
      "metadata": {
        "id": "ex8kn8i1wSQY"
      },
      "source": [
        "- SMOTE 오버 샘플링 적용 후\r\n",
        "\r\n",
        "  - SMOTE를 적용하면 일반적으로 재현율은 높아지고, 정밀도는 낮아진다.\r\n",
        "  - 좋은 SMOTE 패키지 일수록 재현율 증가율은 높이고 정밀도 감소율은 낮출 수 있또록 효과적으로 데이터를 증식한다."
      ]
    },
    {
      "cell_type": "code",
      "metadata": {
        "colab": {
          "base_uri": "https://localhost:8080/"
        },
        "id": "gvFaRR1uwQ4h",
        "outputId": "734f2607-5a21-4ce2-87f3-552a55c2573e"
      },
      "source": [
        "from imblearn.over_sampling import SMOTE\r\n",
        "\r\n",
        "smote = SMOTE(random_state=0)\r\n",
        "x_train_over, y_train_over = smote.fit_sample(x_train, y_train)\r\n",
        "print('SMOTE 적용 전', x_train.shape, y_train.shape)\r\n",
        "print('SMOTE 적용 후', x_train_over.shape, y_train_over.shape)\r\n",
        "print('SMOTE 적용 후 레이블 값 분포 \\n', pd.Series(y_train_over).value_counts())\r\n",
        "\r\n",
        "# 적용 후, 2배에 가깝게 증식됌. 0과 1의 분포가 동일해짐"
      ],
      "execution_count": 64,
      "outputs": [
        {
          "output_type": "stream",
          "text": [
            "SMOTE 적용 전 (199061, 29) (199061,)\n",
            "SMOTE 적용 후 (398040, 29) (398040,)\n",
            "SMOTE 적용 후 레이블 값 분포 \n",
            " 1    199020\n",
            "0    199020\n",
            "dtype: int64\n"
          ],
          "name": "stdout"
        }
      ]
    },
    {
      "cell_type": "code",
      "metadata": {
        "colab": {
          "base_uri": "https://localhost:8080/"
        },
        "id": "wXt-4uY8xNqF",
        "outputId": "aad8dc63-6b9c-484c-fa77-85c282845b64"
      },
      "source": [
        "lr_clf = LogisticRegression()\r\n",
        "get_model_train_eval(lr_clf, x_train_over, x_test, y_train_over, y_test)"
      ],
      "execution_count": 66,
      "outputs": [
        {
          "output_type": "stream",
          "text": [
            "오차 행렬\n",
            "[[85292     3]\n",
            " [    1    17]]\n",
            "정확도: 1.0000, 정밀도: 0.8500, 재현율: 0.9444,          F1: 0.8947, AUC:1.0000\n"
          ],
          "name": "stdout"
        }
      ]
    },
    {
      "cell_type": "code",
      "metadata": {
        "colab": {
          "base_uri": "https://localhost:8080/"
        },
        "id": "ykjzl7X0xuhs",
        "outputId": "3eb2944d-e5b5-4300-fc1c-12fe53fb7820"
      },
      "source": [
        "lgbm_clf = LGBMClassifier(n_estimators=1000, num_leaves = 64, n_jobs=-1, boost_from_average=False)\r\n",
        "get_model_train_eval(lgbm_clf,  x_train_over, x_test, y_train_over, y_test)"
      ],
      "execution_count": 67,
      "outputs": [
        {
          "output_type": "stream",
          "text": [
            "오차 행렬\n",
            "[[85293     2]\n",
            " [    0    18]]\n",
            "정확도: 1.0000, 정밀도: 0.9000, 재현율: 1.0000,          F1: 0.9474, AUC:1.0000\n"
          ],
          "name": "stdout"
        }
      ]
    },
    {
      "cell_type": "code",
      "metadata": {
        "id": "lED0sjmXx5TA"
      },
      "source": [
        ""
      ],
      "execution_count": null,
      "outputs": []
    }
  ]
}