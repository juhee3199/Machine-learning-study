{
 "cells": [
  {
   "cell_type": "code",
   "execution_count": 2,
   "metadata": {},
   "outputs": [
    {
     "name": "stdout",
     "output_type": "stream",
     "text": [
      "cluster labels 유형 [0 1 2 3 4 5]\n"
     ]
    }
   ],
   "source": [
    "import numpy as np\n",
    "from sklearn.datasets import make_blobs\n",
    "from sklearn.cluster import MeanShift\n",
    "\n",
    "X,y=make_blobs(n_samples=200, n_features=2, centers=3, cluster_std=0.7, random_state=0)\n",
    "meanshift=MeanShift(bandwidth=0.8)\n",
    "cluster_labels=meanshift.fit_predict(X)\n",
    "\n",
    "print('cluster labels 유형', np.unique(cluster_labels))\n",
    "\n",
    "# 대역폭을 0.8로 맞췄더니 cluster가 6개가 나왔다"
   ]
  },
  {
   "cell_type": "code",
   "execution_count": 5,
   "metadata": {},
   "outputs": [
    {
     "name": "stdout",
     "output_type": "stream",
     "text": [
      "cluster labels 유형 [0 1 2]\n"
     ]
    }
   ],
   "source": [
    "# 대역폭을 1로\n",
    "\n",
    "X,y=make_blobs(n_samples=200, n_features=2, centers=3, cluster_std=0.7, random_state=0)\n",
    "meanshift=MeanShift(bandwidth=1)\n",
    "cluster_labels=meanshift.fit_predict(X)\n",
    "\n",
    "print('cluster labels 유형', np.unique(cluster_labels))"
   ]
  },
  {
   "cell_type": "markdown",
   "metadata": {},
   "source": [
    "* 대역폭이 엄청 민감하다는 것을 알 수 있다.\n",
    "    - 대역폭 0.8로 설정하니까 6개라는 많은 군집개수가 생겼다. \n",
    "    - 그래서 대역폭 1로 올려주었더니, 군집 개수가 3개가 나왔다.\n",
    "\n",
    "\n",
    "* Estimate_bandwidth()를 하면 적절한 대역폭을 반환해준다.\n",
    "     - BUT 그 역할을 하지 못할 때가 있기 때문에 \n",
    "     - Make_blobs 를 통해 임의로 데이터셋을 많이 만들고, 평균이동을 하는 실습과정을 가졌으면 좋겠다."
   ]
  },
  {
   "cell_type": "code",
   "execution_count": 7,
   "metadata": {},
   "outputs": [
    {
     "name": "stdout",
     "output_type": "stream",
     "text": [
      "bandwidth 값: 1.816\n"
     ]
    }
   ],
   "source": [
    "from sklearn.cluster import estimate_bandwidth\n",
    "bandwidth = estimate_bandwidth(X)\n",
    "print('bandwidth 값:', round(bandwidth, 3))"
   ]
  },
  {
   "cell_type": "code",
   "execution_count": 11,
   "metadata": {},
   "outputs": [
    {
     "name": "stdout",
     "output_type": "stream",
     "text": [
      "cluster labels 유헝: [0 1 2]\n"
     ]
    }
   ],
   "source": [
    "import pandas as pd\n",
    "\n",
    "clusterDF=pd.DataFrame(data=X, columns=['ftr1','ftr2'])\n",
    "clusterDF['target']=y\n",
    "\n",
    "best_bandwidth=estimate_bandwidth(X)\n",
    "meanshift=MeanShift(bandwidth=best_bandwidth)\n",
    "cluster_labels=meanshift.fit_predict(X)\n",
    "\n",
    "print('cluster labels 유헝:', np.unique(cluster_labels))"
   ]
  },
  {
   "cell_type": "markdown",
   "metadata": {},
   "source": [
    "- Estimate_bandwidth()를 통한 군집화 시각화"
   ]
  },
  {
   "cell_type": "code",
   "execution_count": 20,
   "metadata": {},
   "outputs": [
    {
     "name": "stdout",
     "output_type": "stream",
     "text": [
      "[[ 0.91576801  4.43718522]\n",
      " [ 1.93418334  0.80590247]\n",
      " [-1.67292851  2.87796673]]\n"
     ]
    }
   ],
   "source": [
    "import matplotlib.pyplot as plt\n",
    "%matplotlib inline\n",
    "\n",
    "# cluster_centers_ 속성으로 군집 중심 좌표를 표시\n",
    "centers = meanshift.cluster_centers_\n",
    "print(centers)"
   ]
  },
  {
   "cell_type": "code",
   "execution_count": 21,
   "metadata": {},
   "outputs": [
    {
     "data": {
      "image/png": "[encoded data removed]",
      "text/plain": [
       "<Figure size 432x288 with 1 Axes>"
      ]
     },
     "metadata": {
      "needs_background": "light"
     },
     "output_type": "display_data"
    }
   ],
   "source": [
    "markers=['o', 's', '^', 'x', '*']\n",
    "\n",
    "clusterDF['meanshift_label']  = cluster_labels\n",
    "unique_labels = np.unique(cluster_labels)\n",
    "\n",
    "# 군집별로 시각화\n",
    "for label in unique_labels:\n",
    "    label_cluster = clusterDF[clusterDF['meanshift_label']==label]\n",
    "    center_x_y = centers[label]\n",
    "    # 군집별로 다른 마커로 산점도 적용\n",
    "    plt.scatter(x=label_cluster['ftr1'], y=label_cluster['ftr2'], edgecolor='k', marker=markers[label] )\n",
    "    \n",
    "    # 군집별 중심 표현\n",
    "    plt.scatter(x=center_x_y[0], y=center_x_y[1], s=200, color='gray', alpha=0.9, marker=markers[label])\n",
    "    plt.scatter(x=center_x_y[0], y=center_x_y[1], s=70, color='k', edgecolor='k', marker='$%d$' % label)\n",
    "    \n",
    "plt.show()"
   ]
  },
  {
   "cell_type": "code",
   "execution_count": 22,
   "metadata": {},
   "outputs": [
    {
     "name": "stdout",
     "output_type": "stream",
     "text": [
      "target  meanshift_label\n",
      "0       0                  67\n",
      "1       1                  67\n",
      "2       2                  66\n",
      "Name: meanshift_label, dtype: int64\n"
     ]
    }
   ],
   "source": [
    "print(clusterDF.groupby('target')['meanshift_label'].value_counts())"
   ]
  },
  {
   "cell_type": "code",
   "execution_count": null,
   "metadata": {},
   "outputs": [],
   "source": []
  }
 ],
 "metadata": {
  "kernelspec": {
   "display_name": "Python 3",
   "language": "python",
   "name": "python3"
  },
  "language_info": {
   "codemirror_mode": {
    "name": "ipython",
    "version": 3
   },
   "file_extension": ".py",
   "mimetype": "text/x-python",
   "name": "python",
   "nbconvert_exporter": "python",
   "pygments_lexer": "ipython3",
   "version": "3.7.3"
  }
 },
 "nbformat": 4,
 "nbformat_minor": 2
}
