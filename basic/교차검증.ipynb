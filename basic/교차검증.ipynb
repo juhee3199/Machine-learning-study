{
  "nbformat": 4,
  "nbformat_minor": 0,
  "metadata": {
    "colab": {
      "name": "교차검증.ipynb",
      "provenance": [],
      "collapsed_sections": [],
      "authorship_tag": "ABX9TyNSxGe51mff+GYnTSHLs5mz",
      "include_colab_link": true
    },
    "kernelspec": {
      "name": "python3",
      "display_name": "Python 3"
    }
  },
  "cells": [
    {
      "cell_type": "markdown",
      "metadata": {
        "id": "view-in-github",
        "colab_type": "text"
      },
      "source": [
        "<a href=\"https://colab.research.google.com/github/juhee3199/Machine-learning_advanced-study/blob/master/basic/%EA%B5%90%EC%B0%A8%EA%B2%80%EC%A6%9D.ipynb\" target=\"_parent\"><img src=\"https://colab.research.google.com/assets/colab-badge.svg\" alt=\"Open In Colab\"/></a>"
      ]
    },
    {
      "cell_type": "code",
      "metadata": {
        "id": "0lMY9J-_OkMH"
      },
      "source": [
        "import numpy as np\r\n",
        "\r\n",
        "import sklearn\r\n",
        "from sklearn.datasets import load_iris\r\n",
        "from sklearn.tree import DecisionTreeClassifier\r\n",
        "from sklearn.metrics import accuracy_score"
      ],
      "execution_count": 1,
      "outputs": []
    },
    {
      "cell_type": "markdown",
      "metadata": {
        "id": "52YA3ThcZZ5r"
      },
      "source": [
        "## K-fold 교차 검증"
      ]
    },
    {
      "cell_type": "code",
      "metadata": {
        "id": "GjcHKvplPIra"
      },
      "source": [
        "from sklearn.model_selection import  KFold\r\n",
        "\r\n",
        "iris = load_iris()\r\n",
        "features = iris.data\r\n",
        "label = iris.target\r\n",
        "\r\n",
        "#dt_clf = DecisionTreeClassifier(random_state=156)"
      ],
      "execution_count": 3,
      "outputs": []
    },
    {
      "cell_type": "code",
      "metadata": {
        "id": "RaUd0gdWZygt"
      },
      "source": [
        "# 5개의 폴드셋으로 분리하는 Kfold 객체 생성\r\n",
        "\r\n",
        "kfold = KFold(n_splits=5)\r\n",
        "cv_acc = []  # 세트별 정확도를 담을 리스트."
      ],
      "execution_count": 7,
      "outputs": []
    },
    {
      "cell_type": "code",
      "metadata": {
        "colab": {
          "base_uri": "https://localhost:8080/"
        },
        "id": "cPTY5ErXaCwP",
        "outputId": "67579267-cf86-4eab-c1e9-80601f09cd1f"
      },
      "source": [
        "n_iter = 0\r\n",
        "\r\n",
        "# KFold 객체의 split() 객체 호출. \r\n",
        "# 이를 통해 폴드별 학습용, 검증용 테스트의 로우 인덱스를 array로 반환\r\n",
        "\r\n",
        "for train_index, test_index in kfold.split(features):\r\n",
        "  # kfold.split()으로 반환된 인덱스를 이용해 학습용, 검증용 테스트 데이터 추출\r\n",
        "  X_train, X_test = features[train_index], features[test_index]\r\n",
        "  y_train, y_test = label[train_index], label[test_index]\r\n",
        "\r\n",
        "  # 학습 및 예측\r\n",
        "  dt_clf.fit(X_train, y_train)\r\n",
        "  pred = dt_clf.predict(X_test)\r\n",
        "  n_iter +=1\r\n",
        "\r\n",
        "  # 반복 시 마다 정확도 측정\r\n",
        "  acc = np.round(accuracy_score(y_test, pred), 4)\r\n",
        "  train_size = X_train.shape[0]\r\n",
        "  test_size = X_test.shape[0]\r\n",
        "  print('교차 검증 정확도', acc)\r\n",
        "\r\n",
        "  cv_acc.append(acc)\r\n",
        "\r\n",
        "print('평균 검증 정확도', np.mean(cv_acc))"
      ],
      "execution_count": 14,
      "outputs": [
        {
          "output_type": "stream",
          "text": [
            "교차 검증 정확도 1.0\n",
            "교차 검증 정확도 0.9667\n",
            "교차 검증 정확도 0.8667\n",
            "교차 검증 정확도 0.9333\n",
            "교차 검증 정확도 0.7333\n",
            "평균 검증 정확도 0.95\n"
          ],
          "name": "stdout"
        }
      ]
    },
    {
      "cell_type": "markdown",
      "metadata": {
        "id": "VYSiLboxbuLP"
      },
      "source": [
        "## Stratified K fold\r\n",
        "- : 불균형한 분포도를 가진 레이블 데이터 집합을 위한 K폴드 방식\r\n",
        "  - 불균형한 분포 = 특정 레이블 값이 매우 많거나 적어서 분포가 한쪽으로 치우치는 것\r\n",
        "\r\n",
        "\r\n",
        "- 일반적으로 '분류'에서의 교차 검증은 K폴드가 아니라 Stratified K 폴드로 분할되야 한다.\r\n",
        "- '회귀' 에서는 Stratified K폴드가 지원되지 않는다.\r\n",
        "  - 회귀의 target은 이산값 형태의 레이블이 아니라 연속된 숫자값이기 때문에 결정값별로 분포를 정하는 것이 의미가 없음."
      ]
    },
    {
      "cell_type": "code",
      "metadata": {
        "colab": {
          "base_uri": "https://localhost:8080/"
        },
        "id": "MnzSrQgjbXU6",
        "outputId": "38119954-c5a3-4892-f418-e64db2eea411"
      },
      "source": [
        "import pandas as pd\r\n",
        "\r\n",
        "iris_df = pd.DataFrame(data=iris.data, columns = iris.feature_names)\r\n",
        "iris_df['label'] = iris.target\r\n",
        "iris_df['label'].value_counts()"
      ],
      "execution_count": 4,
      "outputs": [
        {
          "output_type": "execute_result",
          "data": {
            "text/plain": [
              "2    50\n",
              "1    50\n",
              "0    50\n",
              "Name: label, dtype: int64"
            ]
          },
          "metadata": {
            "tags": []
          },
          "execution_count": 4
        }
      ]
    },
    {
      "cell_type": "code",
      "metadata": {
        "colab": {
          "base_uri": "https://localhost:8080/"
        },
        "id": "CDQdsUvncKvx",
        "outputId": "84dce9ea-484b-458d-d480-3ca796ba8f53"
      },
      "source": [
        "from sklearn.model_selection import StratifiedKFold\r\n",
        "\r\n",
        "dt_clf = DecisionTreeClassifier(random_state=156)\r\n",
        "\r\n",
        "skfold = StratifiedKFold(n_splits=3)\r\n",
        "n_iter=0\r\n",
        "cv_accuracy = []\r\n",
        "\r\n",
        "# StratifiedKfold의 split 호출 시, 반드시 레이블 데이터 셋도 추가 입력.\r\n",
        "# 레이블 데이터의 분포도에 따라 학습/검증 데이터 셋을 나누기 때문에\r\n",
        "\r\n",
        "for train_index, test_index in skfold.split(features, label):\r\n",
        "  # 학습용, 검증용 테스트 데이터 추출\r\n",
        "  X_train , X_test = features[train_index], features[test_index]\r\n",
        "  y_train, y_test = label[train_index], label[test_index]\r\n",
        "\r\n",
        "  # 학습 및 예측\r\n",
        "  dt_clf.fit(X_train, y_train)\r\n",
        "  pred = dt_clf.predict(X_test)\r\n",
        "  \r\n",
        "  # 반복 시마다 정확도 측정\r\n",
        "  n_iter +=1\r\n",
        "  accuracy = np.round(accuracy_score(y_test,pred), 4)\r\n",
        "  train_size = X_train.shape[0]\r\n",
        "  test_size = X_test.shape[0]\r\n",
        "\r\n",
        "  print('교차 검증 정확도', accuracy)\r\n",
        "  cv_accuracy.append(accuracy)\r\n",
        "\r\n",
        "\r\n",
        "# 교차 검증별 정확도 및 평균 정확도 계산 \r\n",
        "print(' 교차 검증별 정확도:', np.round(cv_accuracy, 4))\r\n",
        "print(' 평균 검증 정확도:', np.mean(cv_accuracy))"
      ],
      "execution_count": 5,
      "outputs": [
        {
          "output_type": "stream",
          "text": [
            "교차 검증 정확도 0.98\n",
            "교차 검증 정확도 0.94\n",
            "교차 검증 정확도 0.98\n",
            " 교차 검증별 정확도: [0.98 0.94 0.98]\n",
            " 평균 검증 정확도: 0.9666666666666667\n"
          ],
          "name": "stdout"
        }
      ]
    },
    {
      "cell_type": "markdown",
      "metadata": {
        "id": "fNu6EHHwibSh"
      },
      "source": [
        "## cross_val_score()\r\n",
        "\r\n",
        "- 간편한 교차 검증\r\n",
        "- cross_val_score(estimator, X, y=None, scoring=None, cv=None, n_jobs=1, verbose=0, fit_params=None, pre_dispatch='2*n_jobs')\r\n",
        "  - 주요 파라미터: estimator, X, y, scoring, cv\r\n",
        "\r\n",
        "- estimator로 classifier가 입력되면 stratifiedKfold가 적용되고, regression이 입력되면 KFold로 분활된다.\r\n"
      ]
    },
    {
      "cell_type": "code",
      "metadata": {
        "colab": {
          "base_uri": "https://localhost:8080/"
        },
        "id": "x-gqF7n1eJ5D",
        "outputId": "7977089a-7938-45c3-922b-731f64cb5167"
      },
      "source": [
        "from sklearn.model_selection import cross_val_score\r\n",
        "\r\n",
        "iris_data = load_iris()\r\n",
        "dt_clf = DecisionTreeClassifier(random_state=156)\r\n",
        "\r\n",
        "data = iris_data.data\r\n",
        "label  = iris_data.target\r\n",
        "\r\n",
        "scores = cross_val_score(dt_clf, data, label, scoring = 'accuracy', cv = 3)\r\n",
        "print(np.round(scores, 4))\r\n",
        "print(np.round(np.mean(scores), 4))\r\n"
      ],
      "execution_count": 6,
      "outputs": [
        {
          "output_type": "stream",
          "text": [
            "[0.98 0.94 0.98]\n",
            "0.9667\n"
          ],
          "name": "stdout"
        }
      ]
    },
    {
      "cell_type": "markdown",
      "metadata": {
        "id": "S2By7VBSjs9A"
      },
      "source": [
        "## GridCV\r\n",
        " - 교차 검증과 최적 하이퍼 파라미터 튜닝을 한번에 수행\r\n",
        "\r\n",
        "- 주요 파라미터: estimator, param_grid, scoring, cv, refit(default=True, 최적의 하이퍼파라미터로 학습)\r\n"
      ]
    },
    {
      "cell_type": "code",
      "metadata": {
        "colab": {
          "base_uri": "https://localhost:8080/",
          "height": 455
        },
        "id": "E_ojHxEUjeQm",
        "outputId": "eb7349ef-da61-402f-a425-e39203cfec72"
      },
      "source": [
        "from sklearn.model_selection import train_test_split\r\n",
        "from sklearn.model_selection import GridSearchCV\r\n",
        "\r\n",
        "iris_data = load_iris()\r\n",
        "x_train, x_test, y_train, y_test = train_test_split(iris_data.data, iris_data.target, test_size=0.2, random_state=121)\r\n",
        "\r\n",
        "dtree= DecisionTreeClassifier()\r\n",
        "\r\n",
        "# 하이퍼 파라미터\r\n",
        "params = {'max_depth':[1,2,3], 'min_samples_split':[2,3]}\r\n",
        "\r\n",
        "grid_dtree  = GridSearchCV(dtree, param_grid = params, cv=3, refit=True)\r\n",
        "\r\n",
        "grid_dtree.fit(x_train, y_train)\r\n",
        "\r\n",
        "# GridSearchCV 결과를 DF로 변환\r\n",
        "scores_df = pd.DataFrame(grid_dtree.cv_results_)\r\n",
        "scores_df[['params', 'mean_test_score', 'rank_test_score','split0_test_score','split1_test_score', 'split2_test_score']]\r\n",
        "scores_df"
      ],
      "execution_count": 13,
      "outputs": [
        {
          "output_type": "execute_result",
          "data": {
            "text/html": [
              "<div>\n",
              "<style scoped>\n",
              "    .dataframe tbody tr th:only-of-type {\n",
              "        vertical-align: middle;\n",
              "    }\n",
              "\n",
              "    .dataframe tbody tr th {\n",
              "        vertical-align: top;\n",
              "    }\n",
              "\n",
              "    .dataframe thead th {\n",
              "        text-align: right;\n",
              "    }\n",
              "</style>\n",
              "<table border=\"1\" class=\"dataframe\">\n",
              "  <thead>\n",
              "    <tr style=\"text-align: right;\">\n",
              "      <th></th>\n",
              "      <th>mean_fit_time</th>\n",
              "      <th>std_fit_time</th>\n",
              "      <th>mean_score_time</th>\n",
              "      <th>std_score_time</th>\n",
              "      <th>param_max_depth</th>\n",
              "      <th>param_min_samples_split</th>\n",
              "      <th>params</th>\n",
              "      <th>split0_test_score</th>\n",
              "      <th>split1_test_score</th>\n",
              "      <th>split2_test_score</th>\n",
              "      <th>mean_test_score</th>\n",
              "      <th>std_test_score</th>\n",
              "      <th>rank_test_score</th>\n",
              "    </tr>\n",
              "  </thead>\n",
              "  <tbody>\n",
              "    <tr>\n",
              "      <th>0</th>\n",
              "      <td>0.000514</td>\n",
              "      <td>0.000071</td>\n",
              "      <td>0.000363</td>\n",
              "      <td>0.000060</td>\n",
              "      <td>1</td>\n",
              "      <td>2</td>\n",
              "      <td>{'max_depth': 1, 'min_samples_split': 2}</td>\n",
              "      <td>0.700</td>\n",
              "      <td>0.7</td>\n",
              "      <td>0.70</td>\n",
              "      <td>0.700000</td>\n",
              "      <td>1.110223e-16</td>\n",
              "      <td>5</td>\n",
              "    </tr>\n",
              "    <tr>\n",
              "      <th>1</th>\n",
              "      <td>0.000364</td>\n",
              "      <td>0.000004</td>\n",
              "      <td>0.000289</td>\n",
              "      <td>0.000047</td>\n",
              "      <td>1</td>\n",
              "      <td>3</td>\n",
              "      <td>{'max_depth': 1, 'min_samples_split': 3}</td>\n",
              "      <td>0.700</td>\n",
              "      <td>0.7</td>\n",
              "      <td>0.70</td>\n",
              "      <td>0.700000</td>\n",
              "      <td>1.110223e-16</td>\n",
              "      <td>5</td>\n",
              "    </tr>\n",
              "    <tr>\n",
              "      <th>2</th>\n",
              "      <td>0.000350</td>\n",
              "      <td>0.000014</td>\n",
              "      <td>0.000234</td>\n",
              "      <td>0.000004</td>\n",
              "      <td>2</td>\n",
              "      <td>2</td>\n",
              "      <td>{'max_depth': 2, 'min_samples_split': 2}</td>\n",
              "      <td>0.925</td>\n",
              "      <td>1.0</td>\n",
              "      <td>0.95</td>\n",
              "      <td>0.958333</td>\n",
              "      <td>3.118048e-02</td>\n",
              "      <td>3</td>\n",
              "    </tr>\n",
              "    <tr>\n",
              "      <th>3</th>\n",
              "      <td>0.000366</td>\n",
              "      <td>0.000024</td>\n",
              "      <td>0.000285</td>\n",
              "      <td>0.000034</td>\n",
              "      <td>2</td>\n",
              "      <td>3</td>\n",
              "      <td>{'max_depth': 2, 'min_samples_split': 3}</td>\n",
              "      <td>0.925</td>\n",
              "      <td>1.0</td>\n",
              "      <td>0.95</td>\n",
              "      <td>0.958333</td>\n",
              "      <td>3.118048e-02</td>\n",
              "      <td>3</td>\n",
              "    </tr>\n",
              "    <tr>\n",
              "      <th>4</th>\n",
              "      <td>0.000429</td>\n",
              "      <td>0.000073</td>\n",
              "      <td>0.000319</td>\n",
              "      <td>0.000042</td>\n",
              "      <td>3</td>\n",
              "      <td>2</td>\n",
              "      <td>{'max_depth': 3, 'min_samples_split': 2}</td>\n",
              "      <td>0.975</td>\n",
              "      <td>1.0</td>\n",
              "      <td>0.95</td>\n",
              "      <td>0.975000</td>\n",
              "      <td>2.041241e-02</td>\n",
              "      <td>1</td>\n",
              "    </tr>\n",
              "    <tr>\n",
              "      <th>5</th>\n",
              "      <td>0.000415</td>\n",
              "      <td>0.000064</td>\n",
              "      <td>0.000300</td>\n",
              "      <td>0.000042</td>\n",
              "      <td>3</td>\n",
              "      <td>3</td>\n",
              "      <td>{'max_depth': 3, 'min_samples_split': 3}</td>\n",
              "      <td>0.975</td>\n",
              "      <td>1.0</td>\n",
              "      <td>0.95</td>\n",
              "      <td>0.975000</td>\n",
              "      <td>2.041241e-02</td>\n",
              "      <td>1</td>\n",
              "    </tr>\n",
              "  </tbody>\n",
              "</table>\n",
              "</div>"
            ],
            "text/plain": [
              "   mean_fit_time  std_fit_time  ...  std_test_score  rank_test_score\n",
              "0       0.000514      0.000071  ...    1.110223e-16                5\n",
              "1       0.000364      0.000004  ...    1.110223e-16                5\n",
              "2       0.000350      0.000014  ...    3.118048e-02                3\n",
              "3       0.000366      0.000024  ...    3.118048e-02                3\n",
              "4       0.000429      0.000073  ...    2.041241e-02                1\n",
              "5       0.000415      0.000064  ...    2.041241e-02                1\n",
              "\n",
              "[6 rows x 13 columns]"
            ]
          },
          "metadata": {
            "tags": []
          },
          "execution_count": 13
        }
      ]
    },
    {
      "cell_type": "code",
      "metadata": {
        "colab": {
          "base_uri": "https://localhost:8080/"
        },
        "id": "SLcM3LiumTCn",
        "outputId": "dabe44a0-f8c0-427e-cdfc-807b220856eb"
      },
      "source": [
        "print('최적의 하이퍼 파라미터: ', grid_dtree.best_params_)\r\n",
        "print('최고 정확도 ', grid_dtree.best_score_)"
      ],
      "execution_count": 15,
      "outputs": [
        {
          "output_type": "stream",
          "text": [
            "최적의 하이퍼 파라미터:  {'max_depth': 3, 'min_samples_split': 2}\n",
            "최고 정확도  0.975\n"
          ],
          "name": "stdout"
        }
      ]
    },
    {
      "cell_type": "code",
      "metadata": {
        "colab": {
          "base_uri": "https://localhost:8080/"
        },
        "id": "NKaXJ_3Smx0g",
        "outputId": "d0f349b7-8e3a-4b1d-d37e-4568c5bae42d"
      },
      "source": [
        "# GridsearchCV로 학습된 estimator 반환\r\n",
        "\r\n",
        "estimator = grid_dtree.best_estimator_\r\n",
        "pred = estimator.predict(x_test)\r\n",
        "print('테스트 데이터 정확도: ', accuracy_score(y_test, pred))"
      ],
      "execution_count": 16,
      "outputs": [
        {
          "output_type": "stream",
          "text": [
            "테스트 데이터 정확도:  0.9666666666666667\n"
          ],
          "name": "stdout"
        }
      ]
    },
    {
      "cell_type": "code",
      "metadata": {
        "id": "QRxIsok7nJ24"
      },
      "source": [
        ""
      ],
      "execution_count": null,
      "outputs": []
    }
  ]
}