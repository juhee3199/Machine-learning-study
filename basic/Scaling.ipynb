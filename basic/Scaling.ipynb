{
  "nbformat": 4,
  "nbformat_minor": 0,
  "metadata": {
    "colab": {
      "name": "Scaling.ipynb",
      "provenance": [],
      "collapsed_sections": []
    },
    "kernelspec": {
      "name": "python3",
      "display_name": "Python 3"
    }
  },
  "cells": [
    {
      "cell_type": "markdown",
      "metadata": {
        "id": "W1g_e9oooc2w"
      },
      "source": [
        "#### 1. Feature Scaling: 표준화와 정규화\r\n",
        "\r\n",
        "1.  Standardization 표준화: 평균이 0, 분산이 1\r\n",
        "\r\n",
        "2.  Normalization 정규화: 개별 데이터의 크기를 모두 똑같은 단위로 변경. (0~1 사이의 값으로 변경)\r\n",
        "\r\n",
        "![image.png](data:image/png;base64,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)\r\n",
        "\r\n",
        "#### 2. 벡터 정규화 : 선형 대수 개념의 정규화\r\n",
        "- : 사이킷런에서 제공하는 Normalizr모듈을 통한 정규화와 차이가 존재 (위의 정규화와 차이가 존재)\r\n",
        "- : 개별 벡터를 모든 피처 벡터의 크기로 나눠준다. \r\n",
        "\r\n",
        "xi_new = xi / xi+yi+zi"
      ]
    },
    {
      "cell_type": "code",
      "metadata": {
        "id": "q4uS9gkRxZ1H"
      },
      "source": [
        "# 학습데이터와 테스트 데이터의 스케일링 변환시 유의점\r\n",
        "\r\n",
        "\"\"\"\r\n",
        "테스트 데이터셋으로는 댜시 fit을 수행하면 안됌!\r\n",
        "\r\n",
        "학습데이터 세트로 fit()을 수행한 결과를 이용해 transform()변환을 적용해야 한다.\r\n",
        "그렇지 않으면 기준 정보가 달라지기 때문에 올바른 예측 결과를 도출하지 못할 수 있음.\r\n",
        "\r\n",
        "\"\"\""
      ],
      "execution_count": null,
      "outputs": []
    },
    {
      "cell_type": "markdown",
      "metadata": {
        "id": "DOhR5h9gxZt8"
      },
      "source": [
        "1. 가능하다면 전체 데이터의 스케일링 변환을 적용한 뒤 학습과 테스트 셋으로 분리\r\n",
        "2. 1.이 불가능하다면 테스트 데이터 변환시에는 fit을 하지 않고, 학습데이터로 이미 fit()된 scaler객체를 이용하여 변환"
      ]
    },
    {
      "cell_type": "markdown",
      "metadata": {
        "id": "ZsPxsxK5uCpS"
      },
      "source": [
        "# 1. StandardScaler\r\n",
        "\r\n",
        "- 표준화를 지원\r\n",
        "- 가우시안 정규 분포를 가질 수 있도록 데이터를 변환\r\n",
        "\r\n",
        "- SVM, Linear Regression, Logistic Regression은 데이터가 가우시안 분포를 가지고 있다고 가정하에 구성되어있음. 따라서 표준화를 적용하면 예측 성능향상을 기대할 수 있음"
      ]
    },
    {
      "cell_type": "code",
      "metadata": {
        "colab": {
          "base_uri": "https://localhost:8080/"
        },
        "id": "0C6CJdsxZ4wi",
        "outputId": "ac08467b-f911-4252-c791-4227848c9cb8"
      },
      "source": [
        "from sklearn.datasets import load_iris\r\n",
        "import pandas as pd\r\n",
        "\r\n",
        "#데이터 로드\r\n",
        "iris = load_iris()\r\n",
        "iris_data = iris.data\r\n",
        "iris_df = pd.DataFrame(iris_data, columns = iris.feature_names)\r\n",
        "\r\n",
        "print('평균 값')\r\n",
        "print(iris_df.mean())\r\n",
        "print('분산')\r\n",
        "print(iris_df.var())"
      ],
      "execution_count": 4,
      "outputs": [
        {
          "output_type": "stream",
          "text": [
            "평균 값\n",
            "sepal length (cm)    5.843333\n",
            "sepal width (cm)     3.057333\n",
            "petal length (cm)    3.758000\n",
            "petal width (cm)     1.199333\n",
            "dtype: float64\n",
            "분산\n",
            "sepal length (cm)    0.685694\n",
            "sepal width (cm)     0.189979\n",
            "petal length (cm)    3.116278\n",
            "petal width (cm)     0.581006\n",
            "dtype: float64\n"
          ],
          "name": "stdout"
        }
      ]
    },
    {
      "cell_type": "code",
      "metadata": {
        "colab": {
          "base_uri": "https://localhost:8080/"
        },
        "id": "uZzpo9NRupzk",
        "outputId": "6a20984a-c795-4512-a8ac-f879cdda6df9"
      },
      "source": [
        "# standard scaling 수행\r\n",
        "\r\n",
        "from sklearn.preprocessing import StandardScaler\r\n",
        "\r\n",
        "scaler = StandardScaler()\r\n",
        "\r\n",
        "iris_scaled = scaler.fit_transform(iris_df)\r\n",
        "iris_scaled\r\n",
        "\r\n",
        "# transform사용시 numpy ndarray로 반환되므로 이를 df로 변환\r\n",
        "\r\n",
        "iris_df_scaled = pd.DataFrame(iris_scaled, columns = iris.feature_names)\r\n",
        "print('평균')\r\n",
        "print(iris_df_scaled.mean())\r\n",
        "print('분산')\r\n",
        "print(iris_df_scaled.var())\r\n",
        "\r\n",
        "# --> 평균이 0, 분산이 1에 가까운 값을 가짐."
      ],
      "execution_count": 6,
      "outputs": [
        {
          "output_type": "stream",
          "text": [
            "평균\n",
            "sepal length (cm)   -1.690315e-15\n",
            "sepal width (cm)    -1.842970e-15\n",
            "petal length (cm)   -1.698641e-15\n",
            "petal width (cm)    -1.409243e-15\n",
            "dtype: float64\n",
            "분산\n",
            "sepal length (cm)    1.006711\n",
            "sepal width (cm)     1.006711\n",
            "petal length (cm)    1.006711\n",
            "petal width (cm)     1.006711\n",
            "dtype: float64\n"
          ],
          "name": "stdout"
        }
      ]
    },
    {
      "cell_type": "markdown",
      "metadata": {
        "id": "BXDm56v8vl-u"
      },
      "source": [
        "# 2. MinMax Scaler\r\n",
        "\r\n",
        "- 개별 데이터의 크기를 모두 똑같은 단위로 변경. (0~1 사이의 값으로 변경)\r\n",
        "- 데이터가 가우시안 분포가 아닐 경우, Min,Max scale을 적용해볼 수 있음"
      ]
    },
    {
      "cell_type": "code",
      "metadata": {
        "colab": {
          "base_uri": "https://localhost:8080/"
        },
        "id": "mF-fkCA4wqmg",
        "outputId": "b9beda48-bd66-4522-db69-822c6ab0f406"
      },
      "source": [
        "print('최솟값')\r\n",
        "print(iris_df.min())\r\n",
        "print('최대값')\r\n",
        "print(iris_df.max())"
      ],
      "execution_count": 16,
      "outputs": [
        {
          "output_type": "stream",
          "text": [
            "최솟값\n",
            "sepal length (cm)    4.3\n",
            "sepal width (cm)     2.0\n",
            "petal length (cm)    1.0\n",
            "petal width (cm)     0.1\n",
            "dtype: float64\n",
            "최대값\n",
            "sepal length (cm)    7.9\n",
            "sepal width (cm)     4.4\n",
            "petal length (cm)    6.9\n",
            "petal width (cm)     2.5\n",
            "dtype: float64\n"
          ],
          "name": "stdout"
        }
      ]
    },
    {
      "cell_type": "code",
      "metadata": {
        "colab": {
          "base_uri": "https://localhost:8080/"
        },
        "id": "NdSYc8EUvGoT",
        "outputId": "393afbe8-27b1-46ad-81fc-5920749feff1"
      },
      "source": [
        "from sklearn.preprocessing import MinMaxScaler\r\n",
        "\r\n",
        "scaler = MinMaxScaler()\r\n",
        "iris_scaled = scaler.fit_transform(iris_df)\r\n",
        "\r\n",
        "\r\n",
        "iris_df_scaled = pd.DataFrame(iris_scaled, columns = iris.feature_names)\r\n",
        "\r\n",
        "print('최솟값')\r\n",
        "print(iris_df_scaled.min())\r\n",
        "print('최대값')\r\n",
        "print(iris_df_scaled.max())"
      ],
      "execution_count": 14,
      "outputs": [
        {
          "output_type": "stream",
          "text": [
            "최솟값\n",
            "sepal length (cm)    0.0\n",
            "sepal width (cm)     0.0\n",
            "petal length (cm)    0.0\n",
            "petal width (cm)     0.0\n",
            "dtype: float64\n",
            "최대값\n",
            "sepal length (cm)    1.0\n",
            "sepal width (cm)     1.0\n",
            "petal length (cm)    1.0\n",
            "petal width (cm)     1.0\n",
            "dtype: float64\n"
          ],
          "name": "stdout"
        }
      ]
    },
    {
      "cell_type": "code",
      "metadata": {
        "id": "K2PrWWqWxSda"
      },
      "source": [
        ""
      ],
      "execution_count": null,
      "outputs": []
    }
  ]
}