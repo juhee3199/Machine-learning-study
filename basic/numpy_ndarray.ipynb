{
  "nbformat": 4,
  "nbformat_minor": 0,
  "metadata": {
    "colab": {
      "name": "numpy ndarray.ipynb",
      "provenance": [],
      "collapsed_sections": [],
      "authorship_tag": "ABX9TyMK43JJGjmgEzjZpT4jLGW3",
      "include_colab_link": true
    },
    "kernelspec": {
      "name": "python3",
      "display_name": "Python 3"
    }
  },
  "cells": [
    {
      "cell_type": "markdown",
      "metadata": {
        "id": "view-in-github",
        "colab_type": "text"
      },
      "source": [
        "<a href=\"https://colab.research.google.com/github/juhee3199/Machine-learning_advanced-study/blob/master/basic/numpy_ndarray.ipynb\" target=\"_parent\"><img src=\"https://colab.research.google.com/assets/colab-badge.svg\" alt=\"Open In Colab\"/></a>"
      ]
    },
    {
      "cell_type": "markdown",
      "metadata": {
        "id": "AzDP2Wp9BWpI"
      },
      "source": [
        "#### numpy ndarray 개요"
      ]
    },
    {
      "cell_type": "code",
      "metadata": {
        "colab": {
          "base_uri": "https://localhost:8080/"
        },
        "id": "XAitQoTOBQF4",
        "outputId": "b7ed3c32-528f-42f6-c406-86a370aba39c"
      },
      "source": [
        "import numpy as np\r\n",
        "\r\n",
        "array1 = np.array([1,2,3])\r\n",
        "print(type(array1))\r\n",
        "print(array1.shape)\r\n",
        "print(array1.ndim)"
      ],
      "execution_count": 4,
      "outputs": [
        {
          "output_type": "stream",
          "text": [
            "<class 'numpy.ndarray'>\n",
            "(3,)\n",
            "1\n"
          ],
          "name": "stdout"
        }
      ]
    },
    {
      "cell_type": "code",
      "metadata": {
        "colab": {
          "base_uri": "https://localhost:8080/"
        },
        "id": "B2Gd07etBglb",
        "outputId": "6f3913e1-1fda-423c-b322-586d859326c3"
      },
      "source": [
        "list = [1,2,'test']  # int형이 모두 문자열로 변경됌.\r\n",
        "array = np.array(list)\r\n",
        "print(array, array.dtype)  # dtype : datatype"
      ],
      "execution_count": 6,
      "outputs": [
        {
          "output_type": "stream",
          "text": [
            "['1' '2' 'test'] <U21\n"
          ],
          "name": "stdout"
        }
      ]
    },
    {
      "cell_type": "code",
      "metadata": {
        "colab": {
          "base_uri": "https://localhost:8080/"
        },
        "id": "tx_b-KIrBidt",
        "outputId": "0f58dc3c-12a5-499c-b02c-44a97326d077"
      },
      "source": [
        "array_int = np.array([1,2,3])\r\n",
        "array_float = array_int.astype('float64')\r\n",
        "print(array_float, array_float.dtype)"
      ],
      "execution_count": 8,
      "outputs": [
        {
          "output_type": "stream",
          "text": [
            "[1. 2. 3.] float64\n"
          ],
          "name": "stdout"
        }
      ]
    },
    {
      "cell_type": "code",
      "metadata": {
        "colab": {
          "base_uri": "https://localhost:8080/"
        },
        "id": "gXq5cV6vCsE4",
        "outputId": "9c2f53c0-4998-49d9-8d84-5a71fdf433a0"
      },
      "source": [
        "### arange, zeros, ones\r\n",
        "\r\n",
        "sequence_array = np.arange(10)\r\n",
        "print(sequence_array)\r\n",
        "\r\n",
        "print(sequence_array.dtype, sequence_array.shape)"
      ],
      "execution_count": 9,
      "outputs": [
        {
          "output_type": "stream",
          "text": [
            "[0 1 2 3 4 5 6 7 8 9]\n",
            "int64 (10,)\n"
          ],
          "name": "stdout"
        }
      ]
    },
    {
      "cell_type": "code",
      "metadata": {
        "colab": {
          "base_uri": "https://localhost:8080/"
        },
        "id": "HSF3T5LGC8vI",
        "outputId": "94c3a84e-3dcf-405a-a27d-b8c7ec7a512a"
      },
      "source": [
        "zero_array = np.zeros((3,2), dtype='int32')\r\n",
        "print(zero_array)"
      ],
      "execution_count": 10,
      "outputs": [
        {
          "output_type": "stream",
          "text": [
            "[[0 0]\n",
            " [0 0]\n",
            " [0 0]]\n"
          ],
          "name": "stdout"
        }
      ]
    },
    {
      "cell_type": "code",
      "metadata": {
        "colab": {
          "base_uri": "https://localhost:8080/"
        },
        "id": "zJHSz2x3DERW",
        "outputId": "b3d54367-5167-49b0-f424-773581250fb2"
      },
      "source": [
        "one_array = np.ones((3,2))\r\n",
        "one_array"
      ],
      "execution_count": 11,
      "outputs": [
        {
          "output_type": "execute_result",
          "data": {
            "text/plain": [
              "array([[1., 1.],\n",
              "       [1., 1.],\n",
              "       [1., 1.]])"
            ]
          },
          "metadata": {
            "tags": []
          },
          "execution_count": 11
        }
      ]
    },
    {
      "cell_type": "code",
      "metadata": {
        "colab": {
          "base_uri": "https://localhost:8080/"
        },
        "id": "opoejBkCDKXw",
        "outputId": "8031dc2a-dd84-47d4-ada2-ca8ccb04483d"
      },
      "source": [
        "### reshape\r\n",
        "\r\n",
        "arr = np.arange(10)\r\n",
        "print(arr)\r\n",
        "arr1 = arr.reshape(2,5)\r\n",
        "print(arr1)\r\n",
        "arr2 = arr1.reshape(5,2)\r\n",
        "print(arr2)"
      ],
      "execution_count": 17,
      "outputs": [
        {
          "output_type": "stream",
          "text": [
            "[0 1 2 3 4 5 6 7 8 9]\n",
            "[[0 1 2 3 4]\n",
            " [5 6 7 8 9]]\n",
            "[[0 1]\n",
            " [2 3]\n",
            " [4 5]\n",
            " [6 7]\n",
            " [8 9]]\n"
          ],
          "name": "stdout"
        }
      ]
    },
    {
      "cell_type": "code",
      "metadata": {
        "colab": {
          "base_uri": "https://localhost:8080/"
        },
        "id": "ky-UwcHsD0-t",
        "outputId": "a622d2fa-3408-4dcb-97c2-15a8910e672e"
      },
      "source": [
        "print(arr)\r\n",
        "arr3 = arr.reshape(-1, 5)\r\n",
        "print(arr3)\r\n",
        "arr4 = arr.reshape(5,-1)\r\n",
        "print(arr4)\r\n",
        "arr5 = arr4.reshape(-1)\r\n",
        "print(arr5)"
      ],
      "execution_count": 23,
      "outputs": [
        {
          "output_type": "stream",
          "text": [
            "[0 1 2 3 4 5 6 7 8 9]\n",
            "[[0 1 2 3 4]\n",
            " [5 6 7 8 9]]\n",
            "[[0 1]\n",
            " [2 3]\n",
            " [4 5]\n",
            " [6 7]\n",
            " [8 9]]\n",
            "[0 1 2 3 4 5 6 7 8 9]\n"
          ],
          "name": "stdout"
        }
      ]
    },
    {
      "cell_type": "markdown",
      "metadata": {
        "id": "nXODj995FLee"
      },
      "source": [
        "- np.reshape(-1, 1)\r\n",
        "\r\n",
        ": 2차원, 1개의 컬럼을 가진 ndarray로 변경"
      ]
    },
    {
      "cell_type": "code",
      "metadata": {
        "colab": {
          "base_uri": "https://localhost:8080/"
        },
        "id": "mopnOvZjD6Bt",
        "outputId": "63d323c4-9c76-489c-e0a2-867d679b7cb4"
      },
      "source": [
        "arr1 = np.arange(8)\r\n",
        "arr3d = arr1.reshape(2,2,2)\r\n",
        "print(arr3d)\r\n",
        "\r\n",
        "# 3차원 ndarry를 2차원으로 변경\r\n",
        "arr5 = arr3d.reshape(-1,1)\r\n",
        "print(arr5)\r\n",
        "print()\r\n",
        "# 1차원을 2차원으로 변경\r\n",
        "arr6  = arr3d.reshape(-1,1)\r\n",
        "print(arr6)"
      ],
      "execution_count": 29,
      "outputs": [
        {
          "output_type": "stream",
          "text": [
            "[[[0 1]\n",
            "  [2 3]]\n",
            "\n",
            " [[4 5]\n",
            "  [6 7]]]\n",
            "[[0]\n",
            " [1]\n",
            " [2]\n",
            " [3]\n",
            " [4]\n",
            " [5]\n",
            " [6]\n",
            " [7]]\n",
            "\n",
            "[[0]\n",
            " [1]\n",
            " [2]\n",
            " [3]\n",
            " [4]\n",
            " [5]\n",
            " [6]\n",
            " [7]]\n"
          ],
          "name": "stdout"
        }
      ]
    },
    {
      "cell_type": "markdown",
      "metadata": {
        "id": "myqqYft0GA1A"
      },
      "source": [
        "- ndarry의 데이터셋 인덱싱"
      ]
    },
    {
      "cell_type": "code",
      "metadata": {
        "colab": {
          "base_uri": "https://localhost:8080/"
        },
        "id": "Ld4s7vpHEkgw",
        "outputId": "663d0028-5f77-4dd0-f9f1-62edea551f5e"
      },
      "source": [
        "arr1 = np.arange(1, 10)\r\n",
        "print(arr1)\r\n",
        "print(arr1[2])"
      ],
      "execution_count": 32,
      "outputs": [
        {
          "output_type": "stream",
          "text": [
            "[1 2 3 4 5 6 7 8 9]\n",
            "3\n"
          ],
          "name": "stdout"
        }
      ]
    },
    {
      "cell_type": "code",
      "metadata": {
        "colab": {
          "base_uri": "https://localhost:8080/"
        },
        "id": "pQUTvGVZFeHt",
        "outputId": "053a535f-9710-499e-aecf-00a8163488b1"
      },
      "source": [
        "# 값 수정\r\n",
        "arr1[0] = 9\r\n",
        "arr1[-1] = 0\r\n",
        "arr1"
      ],
      "execution_count": 33,
      "outputs": [
        {
          "output_type": "execute_result",
          "data": {
            "text/plain": [
              "array([9, 2, 3, 4, 5, 6, 7, 8, 0])"
            ]
          },
          "metadata": {
            "tags": []
          },
          "execution_count": 33
        }
      ]
    },
    {
      "cell_type": "code",
      "metadata": {
        "colab": {
          "base_uri": "https://localhost:8080/"
        },
        "id": "4qqHL8yfGgYi",
        "outputId": "98308520-23bc-41ec-b825-d5a229397306"
      },
      "source": [
        "arr2d = arr1.reshape(3,3)\r\n",
        "print(arr2d)\r\n",
        "arr2d[0,1]"
      ],
      "execution_count": 34,
      "outputs": [
        {
          "output_type": "stream",
          "text": [
            "[[9 2 3]\n",
            " [4 5 6]\n",
            " [7 8 0]]\n"
          ],
          "name": "stdout"
        },
        {
          "output_type": "execute_result",
          "data": {
            "text/plain": [
              "2"
            ]
          },
          "metadata": {
            "tags": []
          },
          "execution_count": 34
        }
      ]
    },
    {
      "cell_type": "code",
      "metadata": {
        "colab": {
          "base_uri": "https://localhost:8080/"
        },
        "id": "FicLdgKOG0YW",
        "outputId": "89901cfd-2cbd-410e-d695-3f9b2fec03df"
      },
      "source": [
        "# 슬라이싱\r\n",
        "\r\n",
        "arr3 = arr1[0:3]\r\n",
        "arr3 "
      ],
      "execution_count": 36,
      "outputs": [
        {
          "output_type": "execute_result",
          "data": {
            "text/plain": [
              "array([9, 2, 3])"
            ]
          },
          "metadata": {
            "tags": []
          },
          "execution_count": 36
        }
      ]
    },
    {
      "cell_type": "code",
      "metadata": {
        "colab": {
          "base_uri": "https://localhost:8080/"
        },
        "id": "xue0hyjMG6_T",
        "outputId": "903cc2d2-f6e6-408d-f364-073a5859c02a"
      },
      "source": [
        "# 팬시 인덱싱\r\n",
        "\r\n",
        "print(arr2d)\r\n",
        "arr3 = arr2d[[0,1],2]  # row는 [0,1], col은 2\r\n",
        "print(arr3)"
      ],
      "execution_count": 38,
      "outputs": [
        {
          "output_type": "stream",
          "text": [
            "[[9 2 3]\n",
            " [4 5 6]\n",
            " [7 8 0]]\n",
            "[3 6]\n"
          ],
          "name": "stdout"
        }
      ]
    },
    {
      "cell_type": "code",
      "metadata": {
        "colab": {
          "base_uri": "https://localhost:8080/"
        },
        "id": "w1Q6c8lVHSN6",
        "outputId": "de762473-5604-4f11-a2aa-116b3d358c38"
      },
      "source": [
        "print(arr2d[0, [0,2]])\r\n",
        "print(arr2d[0, 0:3])  # 슬라이싱은 -1까지 적용되므로 0:3"
      ],
      "execution_count": 51,
      "outputs": [
        {
          "output_type": "stream",
          "text": [
            "[9 3]\n",
            "[9 2 3]\n"
          ],
          "name": "stdout"
        }
      ]
    },
    {
      "cell_type": "code",
      "metadata": {
        "colab": {
          "base_uri": "https://localhost:8080/"
        },
        "id": "y0vlQ0DpHi_7",
        "outputId": "e5aef126-6d68-4c11-ce74-8f04b530ac54"
      },
      "source": [
        "# boolean indexing\r\n",
        "print(arr1)\r\n",
        "indexes = np.array([5,6,7,8])\r\n",
        "arr4 = arr1[indexes]\r\n",
        "print(arr4)"
      ],
      "execution_count": 56,
      "outputs": [
        {
          "output_type": "stream",
          "text": [
            "[9 2 3 4 5 6 7 8 0]\n",
            "[6 7 8 0]\n"
          ],
          "name": "stdout"
        }
      ]
    },
    {
      "cell_type": "markdown",
      "metadata": {
        "id": "Sr7eqzjqJWAp"
      },
      "source": [
        "- 행렬의 정렬\r\n",
        "  - np.sort() : 원 행렬 그대로 유지, 정렬된 행렬을 반환\r\n",
        "  - ndarray.sort() : 원 행렬 자체를 변환, 반환 값은 None"
      ]
    },
    {
      "cell_type": "code",
      "metadata": {
        "colab": {
          "base_uri": "https://localhost:8080/"
        },
        "id": "6ls6UmxZIDNL",
        "outputId": "f03878da-e029-4852-bbca-67c145651aa7"
      },
      "source": [
        "# np.sort()\r\n",
        "\r\n",
        "org_arr = np.array([3,1,9,5])\r\n",
        "print(org_arr)\r\n",
        "sort_arr1 = np.sort(org_arr)\r\n",
        "print(sort_arr1)\r\n",
        "print(org_arr)"
      ],
      "execution_count": 67,
      "outputs": [
        {
          "output_type": "stream",
          "text": [
            "[3 1 9 5]\n",
            "[1 3 5 9]\n",
            "[3 1 9 5]\n"
          ],
          "name": "stdout"
        }
      ]
    },
    {
      "cell_type": "code",
      "metadata": {
        "colab": {
          "base_uri": "https://localhost:8080/"
        },
        "id": "MI467dxeIyJM",
        "outputId": "bfd6f4a3-5fa5-4f27-8ebd-75cf8c936fd1"
      },
      "source": [
        "# ndarry.sort()\r\n",
        "\r\n",
        "sort_arr2 = org_arr.sort()\r\n",
        "print(sort_arr2)\r\n",
        "org_arr.sort()\r\n",
        "print(org_arr)\r\n"
      ],
      "execution_count": 68,
      "outputs": [
        {
          "output_type": "stream",
          "text": [
            "None\n",
            "[1 3 5 9]\n"
          ],
          "name": "stdout"
        }
      ]
    },
    {
      "cell_type": "code",
      "metadata": {
        "colab": {
          "base_uri": "https://localhost:8080/"
        },
        "id": "CJFN1bxhKUhB",
        "outputId": "2f1e5513-d7b1-4d72-99b7-f2f631676555"
      },
      "source": [
        "desc = np.sort(org_arr)[::-1]\r\n",
        "print(org_arr)\r\n",
        "print(desc)"
      ],
      "execution_count": 71,
      "outputs": [
        {
          "output_type": "stream",
          "text": [
            "[1 3 5 9]\n",
            "[9 5 3 1]\n"
          ],
          "name": "stdout"
        }
      ]
    },
    {
      "cell_type": "code",
      "metadata": {
        "colab": {
          "base_uri": "https://localhost:8080/"
        },
        "id": "ymLeFTocKwDd",
        "outputId": "099fc116-0edc-405e-9801-87bfd249ae0a"
      },
      "source": [
        "# 로우 방향으로 정렬\r\n",
        "arr2d = np.array([[8,12],\r\n",
        "                  [7,1]])\r\n",
        "sort_arr2d_axis0 = np.sort(arr2d, axis=0)\r\n",
        "print(sort_arr2d_axis0)\r\n",
        "\r\n",
        "# 컬럼 방향으로 정렬\r\n",
        "sort_arr2d_axis1 = np.sort(arr2d, axis=1)\r\n",
        "print(sort_arr2d_axis1)"
      ],
      "execution_count": 73,
      "outputs": [
        {
          "output_type": "stream",
          "text": [
            "[[ 7  1]\n",
            " [ 8 12]]\n",
            "[[ 8 12]\n",
            " [ 1  7]]\n"
          ],
          "name": "stdout"
        }
      ]
    },
    {
      "cell_type": "markdown",
      "metadata": {
        "id": "0o_NyIt2LtXe"
      },
      "source": [
        "- 정렬된 행렬의 인덱스 반환"
      ]
    },
    {
      "cell_type": "code",
      "metadata": {
        "colab": {
          "base_uri": "https://localhost:8080/"
        },
        "id": "z9aQObYGLMCE",
        "outputId": "10248d2c-e9e2-4529-efa3-dc1ba88d4d56"
      },
      "source": [
        "org_arr = np.array([3,1,9,5])\r\n",
        "\r\n",
        "sort_ind = np.argsort(org_arr)\r\n",
        "print(sort_ind)\r\n"
      ],
      "execution_count": 75,
      "outputs": [
        {
          "output_type": "stream",
          "text": [
            "[1 0 3 2]\n"
          ],
          "name": "stdout"
        }
      ]
    },
    {
      "cell_type": "code",
      "metadata": {
        "colab": {
          "base_uri": "https://localhost:8080/"
        },
        "id": "4EFrpoziLwBg",
        "outputId": "916679ba-f1c3-4ec0-b2db-139fa6745e9d"
      },
      "source": [
        "# 내림차순\r\n",
        "\r\n",
        "sort_ind_desc = np.argsort(org_arr)[::-1]\r\n",
        "sort_ind_desc"
      ],
      "execution_count": 76,
      "outputs": [
        {
          "output_type": "execute_result",
          "data": {
            "text/plain": [
              "array([2, 3, 0, 1])"
            ]
          },
          "metadata": {
            "tags": []
          },
          "execution_count": 76
        }
      ]
    },
    {
      "cell_type": "code",
      "metadata": {
        "colab": {
          "base_uri": "https://localhost:8080/"
        },
        "id": "pytr2yJPMJnW",
        "outputId": "f8d1dc77-7214-4820-9b5c-c9ad03f95ccc"
      },
      "source": [
        "# 시험성적 순으로 학생이름 출력\r\n",
        "\r\n",
        "name = np.array(['A', 'D', 'E','C', 'B'])\r\n",
        "score = np.array([78, 95, 84, 98, 88])\r\n",
        "\r\n",
        "sort_ind_asc = np.argsort(score)\r\n",
        "print(sort_ind_asc)\r\n",
        "print(name[sort_ind_asc])"
      ],
      "execution_count": 77,
      "outputs": [
        {
          "output_type": "stream",
          "text": [
            "[0 2 4 1 3]\n",
            "['A' 'E' 'B' 'D' 'C']\n"
          ],
          "name": "stdout"
        }
      ]
    },
    {
      "cell_type": "markdown",
      "metadata": {
        "id": "M74i75vLMJBC"
      },
      "source": [
        "- 선형대수 연산 : 행렬내적과 전치행렬 구하기"
      ]
    },
    {
      "cell_type": "code",
      "metadata": {
        "colab": {
          "base_uri": "https://localhost:8080/"
        },
        "id": "AfIsa7-iMEVi",
        "outputId": "a8a7f020-c0a7-4171-e91a-553dd2b31779"
      },
      "source": [
        "A = np.array([[1,2,3],\r\n",
        "              [4,5,6]])\r\n",
        "B = np.array([[7,8],\r\n",
        "              [9,10],\r\n",
        "              [11,12]])\r\n",
        "\r\n",
        "np.dot(A,B)"
      ],
      "execution_count": 78,
      "outputs": [
        {
          "output_type": "execute_result",
          "data": {
            "text/plain": [
              "array([[ 58,  64],\n",
              "       [139, 154]])"
            ]
          },
          "metadata": {
            "tags": []
          },
          "execution_count": 78
        }
      ]
    },
    {
      "cell_type": "code",
      "metadata": {
        "colab": {
          "base_uri": "https://localhost:8080/"
        },
        "id": "TIByohq9OEq6",
        "outputId": "2b78d445-9935-465f-9ea1-bbef50965184"
      },
      "source": [
        "np.transpose(A)"
      ],
      "execution_count": 79,
      "outputs": [
        {
          "output_type": "execute_result",
          "data": {
            "text/plain": [
              "array([[1, 4],\n",
              "       [2, 5],\n",
              "       [3, 6]])"
            ]
          },
          "metadata": {
            "tags": []
          },
          "execution_count": 79
        }
      ]
    },
    {
      "cell_type": "code",
      "metadata": {
        "id": "4jRqblo8OHah"
      },
      "source": [
        ""
      ],
      "execution_count": null,
      "outputs": []
    }
  ]
}