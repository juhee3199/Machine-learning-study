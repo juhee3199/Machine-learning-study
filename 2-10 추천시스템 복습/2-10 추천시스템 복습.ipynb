{
 "cells": [
  {
   "cell_type": "markdown",
   "metadata": {},
   "source": [
    "### 1. 최근접 이웃 협업 필터링\n",
    "\n",
    "\n",
    "##### 협업 필터링 방식 중 하나인 최근접 이웃 협업 필터링에는 사용자 기반 최근접 이웃 방식과 아이템 기반 최근접 이웃 방식 두가지의 방법이 있습니다.\n",
    "\n",
    "```\n",
    "\n",
    "1-1) 사용자 기반 최근접 이웃 방식과 아이템 기반 최근접 이웃 방식에 대해 간단히 설명하시요.\n",
    "\n",
    "```"
   ]
  },
  {
   "cell_type": "markdown",
   "metadata": {},
   "source": [
    "```\n",
    "답: 사용자 기반 최근접 이웃 방식은 특정 사용자와 유사한 다른 사용자의 데이터를 참고해서 추천해주는 방식이다.\n",
    "아이템 기반 최근접 이웃 방식은 특정 사용자가 이용한 아이템 중 가징 비슷한 이용패턴을 보이는 아이템들을 추천해주는 방식이다. 예측하고자 하는 항목과 비슷한 항목들에 대하여 사용자가 높은 평가를 하였다면 그 항목도 높게 평가할 것이라고 예측하고, 낮은 평가를 하였다면 그 항목도 낮게 평가를 할 것이라고 예측하는 것이다. \n",
    "```"
   ]
  },
  {
   "cell_type": "markdown",
   "metadata": {},
   "source": [
    "```\n",
    "1-2) 사용자 기반 최근접 이웃 방식보다 아이템 기반 최근접 이웃 방식이 더 정확도가 높고 많이 사용하는 이유를 설명해 보시오.\n",
    "```"
   ]
  },
  {
   "cell_type": "markdown",
   "metadata": {},
   "source": [
    "```\n",
    "답: 비슷한 상품을 좋아한다고 해서 사람들의 취향이 비슷하다고 판단하기는 어려운 경우가 많기 때문이다. \n",
    "```"
   ]
  },
  {
   "cell_type": "markdown",
   "metadata": {},
   "source": [
    "### 2. 행렬분해\n",
    "\n",
    "##### 2-1) 다음 행렬에 대해서 경사하강법을 이용한 행렬분해를 실습한 후 원본행렬과 비교해 보세요.\n",
    "\n",
    "* 조건\n",
    "```\n",
    "K = 3\n",
    "steps = 1000\n",
    "learning_rate = 0.01\n",
    "r_lambda = 0.01\n",
    "```"
   ]
  },
  {
   "cell_type": "code",
   "execution_count": 3,
   "metadata": {},
   "outputs": [],
   "source": [
    "import numpy as np"
   ]
  },
  {
   "cell_type": "code",
   "execution_count": 4,
   "metadata": {},
   "outputs": [],
   "source": [
    "# 6X5 원본행렬\n",
    "\n",
    "R = np.array([[1, 5, np.NaN, 2, np.NaN, np.NaN],\n",
    "              [3, np.NaN, 1, 4, 3, np.NaN],\n",
    "              [5, np.NaN, 2, 3, np.NaN, 1],\n",
    "              [2, 5, np.NaN, 1, 2, 2],\n",
    "              [3, 4, 2, np.NaN, 1, 1]])"
   ]
  },
  {
   "cell_type": "code",
   "execution_count": 7,
   "metadata": {},
   "outputs": [],
   "source": [
    "num_users, num_items = R.shape\n",
    "K = 3 #잠재요인의 개수(차원)\n",
    "\n",
    "# P, Q를 임의의 값들을 가진 행렬로 초기화\n",
    "np.random.seed(1)\n",
    "P = np.random.normal(scale = 1./K, size = (num_users, K))\n",
    "Q = np.random.normal(scale = 1./K, size = (num_items, K))"
   ]
  },
  {
   "cell_type": "code",
   "execution_count": 8,
   "metadata": {},
   "outputs": [
    {
     "data": {
      "text/plain": [
       "array([[ 0.54144845, -0.2039188 , -0.17605725],\n",
       "       [-0.35765621,  0.28846921, -0.76717957],\n",
       "       [ 0.58160392, -0.25373563,  0.10634637],\n",
       "       [-0.08312346,  0.48736931, -0.68671357],\n",
       "       [-0.1074724 , -0.12801812,  0.37792315]])"
      ]
     },
     "execution_count": 8,
     "metadata": {},
     "output_type": "execute_result"
    }
   ],
   "source": [
    "P"
   ]
  },
  {
   "cell_type": "code",
   "execution_count": 9,
   "metadata": {},
   "outputs": [
    {
     "data": {
      "text/plain": [
       "array([[-0.36663042, -0.05747607, -0.29261947],\n",
       "       [ 0.01407125,  0.19427174, -0.36687306],\n",
       "       [ 0.38157457,  0.30053024,  0.16749811],\n",
       "       [ 0.30028532, -0.22790929, -0.04096341],\n",
       "       [-0.31192314, -0.08929603,  0.17678516],\n",
       "       [-0.23055358, -0.13225118, -0.22905757]])"
      ]
     },
     "execution_count": 9,
     "metadata": {},
     "output_type": "execute_result"
    }
   ],
   "source": [
    "Q"
   ]
  },
  {
   "cell_type": "code",
   "execution_count": 11,
   "metadata": {},
   "outputs": [
    {
     "name": "stdout",
     "output_type": "stream",
     "text": [
      "### iteration step: 0 rmse: 2.8372963522394343\n",
      "### iteration step: 50 rmse: 0.5869026473246871\n",
      "### iteration step: 100 rmse: 0.4047660162403293\n",
      "### iteration step: 150 rmse: 0.34082241791662643\n",
      "### iteration step: 200 rmse: 0.3110742357172076\n",
      "### iteration step: 250 rmse: 0.29103765829478123\n",
      "### iteration step: 300 rmse: 0.27000330372920933\n",
      "### iteration step: 350 rmse: 0.23908060330761152\n",
      "### iteration step: 400 rmse: 0.1925346806524162\n",
      "### iteration step: 450 rmse: 0.13741222983219675\n",
      "### iteration step: 500 rmse: 0.09115237343020392\n",
      "### iteration step: 550 rmse: 0.061572648855809625\n",
      "### iteration step: 600 rmse: 0.04470139669657558\n",
      "### iteration step: 650 rmse: 0.03506734892379227\n",
      "### iteration step: 700 rmse: 0.029351672883474754\n",
      "### iteration step: 750 rmse: 0.025838746576989827\n",
      "### iteration step: 800 rmse: 0.023623813085577195\n",
      "### iteration step: 850 rmse: 0.02220092002397485\n",
      "### iteration step: 900 rmse: 0.02127328616636796\n",
      "### iteration step: 950 rmse: 0.020661476731479018\n"
     ]
    }
   ],
   "source": [
    "# 경사하강법이용 행렬분해\n",
    "\n",
    "# 원본행렬에서 결측값이 아닌 값의 행, 열 , 실제 값을 튜플형태로 리스트안에 담기.\n",
    "non_zeros = [(i, j, R[i, j]) for i in range(num_users) for j in range(num_items) if R[i, j] >0]\n",
    "\n",
    "steps = 1000\n",
    "learning_rate = 0.01\n",
    "r_lambda = 0.01\n",
    "\n",
    "\n",
    "for step in range(steps):\n",
    "    for i, j, r in non_zeros:\n",
    "        eij = r - np.dot(P[i, :], Q[j,:].T) # i번째 행, j번째 열 값의 오차.\n",
    "        \n",
    "        # L2정규화를 적용한 SGD기법 이용 P,Q 업데이트\n",
    "        P[i,:] = P[i,:] + learning_rate * (eij * Q[j,:] - r_lambda * P[i,:])\n",
    "        Q[j,:] = Q[j,:] + learning_rate * (eij * P[i,:] - r_lambda * Q[j,:])\n",
    "    \n",
    "    # 손실을 측정\n",
    "    rmse = get_rmse(R, P, Q, non_zeros) # 매 스탭이 끝날 때마다 rmse값 산출\n",
    "    \n",
    "    if(step% 50) ==0:\n",
    "        print('### iteration step: {} rmse: {}'.format(step, rmse))"
   ]
  },
  {
   "cell_type": "code",
   "execution_count": 12,
   "metadata": {},
   "outputs": [
    {
     "name": "stdout",
     "output_type": "stream",
     "text": [
      "예측행렬: \n",
      " [[1.021 4.978 1.005 1.99  2.77  2.68 ]\n",
      " [2.995 5.862 1.001 3.969 2.982 2.802]\n",
      " [4.963 4.667 2.001 2.99  1.082 0.997]\n",
      " [1.979 4.992 1.983 1.029 1.979 1.97 ]\n",
      " [2.999 3.97  1.976 1.179 1.021 1.016]]\n"
     ]
    }
   ],
   "source": [
    "pred_matrix = np.dot(P, Q.T)\n",
    "print('예측행렬: \\n', np.round(pred_matrix, 3))"
   ]
  },
  {
   "cell_type": "code",
   "execution_count": 13,
   "metadata": {},
   "outputs": [
    {
     "name": "stdout",
     "output_type": "stream",
     "text": [
      "[[ 1.  5. nan  2. nan nan]\n",
      " [ 3. nan  1.  4.  3. nan]\n",
      " [ 5. nan  2.  3. nan  1.]\n",
      " [ 2.  5. nan  1.  2.  2.]\n",
      " [ 3.  4.  2. nan  1.  1.]]\n"
     ]
    }
   ],
   "source": [
    "print(R)"
   ]
  },
  {
   "cell_type": "markdown",
   "metadata": {},
   "source": [
    "##### 2-2) 다음 RMSE를 계산하는 함수를 사용하여 오차를 확인하세요."
   ]
  },
  {
   "cell_type": "code",
   "execution_count": 10,
   "metadata": {},
   "outputs": [],
   "source": [
    "# RMSE\n",
    "from sklearn.metrics import mean_squared_error\n",
    "\n",
    "def get_rmse(R, P, Q, non_zeros):\n",
    "    error = 0\n",
    "    \n",
    "    full_pred_matrix = np.dot(P, Q.T)\n",
    "    \n",
    "    x_non_zero_ind = [non_zero[0] for non_zero in non_zeros]\n",
    "    y_non_zero_ind = [non_zero[1] for non_zero in non_zeros]\n",
    "    \n",
    "    R_non_zeros = R[x_non_zero_ind, y_non_zero_ind]\n",
    "    full_pred_matrix_non_zeros = full_pred_matrix[x_non_zero_ind, y_non_zero_ind]\n",
    "    \n",
    "    mse = mean_squared_error(R_non_zeros, full_pred_matrix_non_zeros)\n",
    "    rmse = np.sqrt(mse)\n",
    "    \n",
    "    return rmse"
   ]
  },
  {
   "cell_type": "code",
   "execution_count": 14,
   "metadata": {},
   "outputs": [
    {
     "data": {
      "text/plain": [
       "0.0202614677961177"
      ]
     },
     "execution_count": 14,
     "metadata": {},
     "output_type": "execute_result"
    }
   ],
   "source": [
    "get_rmse(R, P, Q, non_zeros)"
   ]
  },
  {
   "cell_type": "markdown",
   "metadata": {},
   "source": [
    "### 3. 콘텐츠 기반 필터링"
   ]
  },
  {
   "cell_type": "markdown",
   "metadata": {},
   "source": [
    "##### Book.csv 파일을 로드하고 콘텐츠 기반 필터링 방법을 사용하여 ㅇㅇ와 관련있는 10개의 책을 추천하는 실습입니다."
   ]
  },
  {
   "cell_type": "code",
   "execution_count": 45,
   "metadata": {},
   "outputs": [],
   "source": [
    "import pandas as pd\n",
    "import numpy as np\n",
    "import warnings; warnings.filterwarnings('ignore')"
   ]
  },
  {
   "cell_type": "markdown",
   "metadata": {},
   "source": [
    "##### 3-1) Book.csv 파일을 로드하고 결측값이 있는 행을 제거하고 Genres 행렬을 단어의 나열로 전처리 한 후 Countvectorizer을 사용하여 백터행렬을 생성하시오.\n",
    "* 조건</br>\n",
    "CountVectorizer(min_df=0, ngram_range=(1,2))"
   ]
  },
  {
   "cell_type": "code",
   "execution_count": 46,
   "metadata": {},
   "outputs": [
    {
     "data": {
      "text/html": [
       "<div>\n",
       "<style scoped>\n",
       "    .dataframe tbody tr th:only-of-type {\n",
       "        vertical-align: middle;\n",
       "    }\n",
       "\n",
       "    .dataframe tbody tr th {\n",
       "        vertical-align: top;\n",
       "    }\n",
       "\n",
       "    .dataframe thead th {\n",
       "        text-align: right;\n",
       "    }\n",
       "</style>\n",
       "<table border=\"1\" class=\"dataframe\">\n",
       "  <thead>\n",
       "    <tr style=\"text-align: right;\">\n",
       "      <th></th>\n",
       "      <th>User-ID</th>\n",
       "      <th>Book-Rating</th>\n",
       "      <th>Book-Title</th>\n",
       "      <th>Book-Author</th>\n",
       "      <th>Publisher</th>\n",
       "      <th>genres</th>\n",
       "    </tr>\n",
       "  </thead>\n",
       "  <tbody>\n",
       "    <tr>\n",
       "      <th>0</th>\n",
       "      <td>276725</td>\n",
       "      <td>3</td>\n",
       "      <td>Flesh Tones: A Novel</td>\n",
       "      <td>M. J. Rose</td>\n",
       "      <td>Ballantine Books</td>\n",
       "      <td>[{\"id\": 28, \"name\": \"Action\"}, {\"id\": 12, \"nam...</td>\n",
       "    </tr>\n",
       "    <tr>\n",
       "      <th>1</th>\n",
       "      <td>276726</td>\n",
       "      <td>5</td>\n",
       "      <td>Rites of Passage</td>\n",
       "      <td>Judith Rae</td>\n",
       "      <td>Heinle</td>\n",
       "      <td>[{\"id\": 12, \"name\": \"Adventure\"}, {\"id\": 14, \"...</td>\n",
       "    </tr>\n",
       "    <tr>\n",
       "      <th>2</th>\n",
       "      <td>276727</td>\n",
       "      <td>4</td>\n",
       "      <td>The Notebook</td>\n",
       "      <td>Nicholas Sparks</td>\n",
       "      <td>Warner Books</td>\n",
       "      <td>[{\"id\": 28, \"name\": \"Action\"}, {\"id\": 12, \"nam...</td>\n",
       "    </tr>\n",
       "    <tr>\n",
       "      <th>3</th>\n",
       "      <td>276729</td>\n",
       "      <td>3</td>\n",
       "      <td>Help!: Level 1</td>\n",
       "      <td>Philip Prowse</td>\n",
       "      <td>Cambridge University Press</td>\n",
       "      <td>[{\"id\": 28, \"name\": \"Action\"}, {\"id\": 80, \"nam...</td>\n",
       "    </tr>\n",
       "    <tr>\n",
       "      <th>4</th>\n",
       "      <td>276729</td>\n",
       "      <td>6</td>\n",
       "      <td>The Amsterdam Connection : Level 4 (Cambridge ...</td>\n",
       "      <td>Sue Leather</td>\n",
       "      <td>Cambridge University Press</td>\n",
       "      <td>[{\"id\": 28, \"name\": \"Action\"}, {\"id\": 12, \"nam...</td>\n",
       "    </tr>\n",
       "  </tbody>\n",
       "</table>\n",
       "</div>"
      ],
      "text/plain": [
       "   User-ID  Book-Rating                                         Book-Title  \\\n",
       "0   276725            3                               Flesh Tones: A Novel   \n",
       "1   276726            5                                   Rites of Passage   \n",
       "2   276727            4                                       The Notebook   \n",
       "3   276729            3                                     Help!: Level 1   \n",
       "4   276729            6  The Amsterdam Connection : Level 4 (Cambridge ...   \n",
       "\n",
       "       Book-Author                   Publisher  \\\n",
       "0       M. J. Rose            Ballantine Books   \n",
       "1       Judith Rae                      Heinle   \n",
       "2  Nicholas Sparks                Warner Books   \n",
       "3    Philip Prowse  Cambridge University Press   \n",
       "4      Sue Leather  Cambridge University Press   \n",
       "\n",
       "                                              genres  \n",
       "0  [{\"id\": 28, \"name\": \"Action\"}, {\"id\": 12, \"nam...  \n",
       "1  [{\"id\": 12, \"name\": \"Adventure\"}, {\"id\": 14, \"...  \n",
       "2  [{\"id\": 28, \"name\": \"Action\"}, {\"id\": 12, \"nam...  \n",
       "3  [{\"id\": 28, \"name\": \"Action\"}, {\"id\": 80, \"nam...  \n",
       "4  [{\"id\": 28, \"name\": \"Action\"}, {\"id\": 12, \"nam...  "
      ]
     },
     "execution_count": 46,
     "metadata": {},
     "output_type": "execute_result"
    }
   ],
   "source": [
    "data = pd.read_csv('Book.csv')\n",
    "data.head()"
   ]
  },
  {
   "cell_type": "code",
   "execution_count": 47,
   "metadata": {},
   "outputs": [
    {
     "name": "stdout",
     "output_type": "stream",
     "text": [
      "<class 'pandas.core.frame.DataFrame'>\n",
      "RangeIndex: 500 entries, 0 to 499\n",
      "Data columns (total 6 columns):\n",
      "User-ID        500 non-null int64\n",
      "Book-Rating    500 non-null int64\n",
      "Book-Title     370 non-null object\n",
      "Book-Author    370 non-null object\n",
      "Publisher      370 non-null object\n",
      "genres         500 non-null object\n",
      "dtypes: int64(2), object(4)\n",
      "memory usage: 23.5+ KB\n"
     ]
    }
   ],
   "source": [
    "data.info()"
   ]
  },
  {
   "cell_type": "code",
   "execution_count": 60,
   "metadata": {},
   "outputs": [],
   "source": [
    "book_df = data.dropna(axis=0)"
   ]
  },
  {
   "cell_type": "code",
   "execution_count": 61,
   "metadata": {},
   "outputs": [
    {
     "name": "stdout",
     "output_type": "stream",
     "text": [
      "<class 'pandas.core.frame.DataFrame'>\n",
      "Int64Index: 370 entries, 0 to 499\n",
      "Data columns (total 6 columns):\n",
      "User-ID        370 non-null int64\n",
      "Book-Rating    370 non-null int64\n",
      "Book-Title     370 non-null object\n",
      "Book-Author    370 non-null object\n",
      "Publisher      370 non-null object\n",
      "genres         370 non-null object\n",
      "dtypes: int64(2), object(4)\n",
      "memory usage: 20.2+ KB\n"
     ]
    }
   ],
   "source": [
    "book_df.info()"
   ]
  },
  {
   "cell_type": "code",
   "execution_count": 62,
   "metadata": {},
   "outputs": [
    {
     "data": {
      "text/plain": [
       "0    [{\"id\": 28, \"name\": \"Action\"}, {\"id\": 12, \"nam...\n",
       "1    [{\"id\": 12, \"name\": \"Adventure\"}, {\"id\": 14, \"...\n",
       "2    [{\"id\": 28, \"name\": \"Action\"}, {\"id\": 12, \"nam...\n",
       "3    [{\"id\": 28, \"name\": \"Action\"}, {\"id\": 80, \"nam...\n",
       "4    [{\"id\": 28, \"name\": \"Action\"}, {\"id\": 12, \"nam...\n",
       "Name: genres, dtype: object"
      ]
     },
     "execution_count": 62,
     "metadata": {},
     "output_type": "execute_result"
    }
   ],
   "source": [
    "# genres 전처리\n",
    "book_df['genres'].head()"
   ]
  },
  {
   "cell_type": "code",
   "execution_count": 63,
   "metadata": {},
   "outputs": [
    {
     "data": {
      "text/plain": [
       "0    Action Adventure Fantasy Science Fiction\n",
       "1                    Adventure Fantasy Action\n",
       "2                      Action Adventure Crime\n",
       "3                 Action Crime Drama Thriller\n",
       "4            Action Adventure Science Fiction\n",
       "Name: genres_literal, dtype: object"
      ]
     },
     "execution_count": 63,
     "metadata": {},
     "output_type": "execute_result"
    }
   ],
   "source": [
    "from ast import literal_eval\n",
    "# 문자열을 이 문자열이 의미하는 list [dict1, dict2] 객체로 만들 수 있다.\n",
    "\n",
    "book_df['genres'] = book_df['genres'].apply(literal_eval)\n",
    "book_df['genres'] = book_df['genres'].apply(lambda x : [y['name'] for y in x])\n",
    "book_df['genres_literal'] = book_df['genres'].apply(lambda x: (' ').join(x))\n",
    "book_df['genres_literal'].head()"
   ]
  },
  {
   "cell_type": "code",
   "execution_count": 66,
   "metadata": {},
   "outputs": [
    {
     "data": {
      "text/plain": [
       "(370, 147)"
      ]
     },
     "execution_count": 66,
     "metadata": {},
     "output_type": "execute_result"
    }
   ],
   "source": [
    "# Countvectorizer을 사용하여 백터행렬을 생성\n",
    "\n",
    "from sklearn.feature_extraction.text import CountVectorizer\n",
    "\n",
    "count_vect = CountVectorizer(min_df =0, ngram_range=(1,2))\n",
    "genre_mat = count_vect.fit_transform(book_df['genres_literal'])\n",
    "\n",
    "genre_mat.shape"
   ]
  },
  {
   "cell_type": "markdown",
   "metadata": {},
   "source": [
    "##### 3-2) 생성된 백터 행렬으로 코사인 유사도를 계산하고 행렬로 변환한 뒤 유사도가 높은 순으로 정렬하시오."
   ]
  },
  {
   "cell_type": "code",
   "execution_count": 72,
   "metadata": {},
   "outputs": [
    {
     "data": {
      "text/plain": [
       "array([[1.        , 0.59628479, 0.4472136 , ..., 0.62994079, 0.        ,\n",
       "        0.        ],\n",
       "       [0.59628479, 1.        , 0.4       , ..., 0.3380617 , 0.        ,\n",
       "        0.        ],\n",
       "       [0.4472136 , 0.4       , 1.        , ..., 0.3380617 , 0.        ,\n",
       "        0.        ],\n",
       "       [0.12598816, 0.16903085, 0.3380617 , ..., 0.14285714, 0.        ,\n",
       "        0.        ]])"
      ]
     },
     "execution_count": 72,
     "metadata": {},
     "output_type": "execute_result"
    }
   ],
   "source": [
    "from sklearn.metrics.pairwise import cosine_similarity\n",
    "\n",
    "genre_sim = cosine_similarity(genre_mat, genre_mat)\n",
    "genre_sim[:4]"
   ]
  },
  {
   "cell_type": "code",
   "execution_count": 97,
   "metadata": {},
   "outputs": [
    {
     "data": {
      "text/plain": [
       "array([[  0,  11,  37, ..., 221, 222, 369],\n",
       "       [ 72,   9,   1, ...,  55, 323, 369],\n",
       "       [  2, 268, 351, ..., 134, 137, 369],\n",
       "       ...,\n",
       "       [184, 367, 288, ...,  79, 185, 369],\n",
       "       [368,  34, 141, ..., 195, 194,   0],\n",
       "       [369, 311, 254, ..., 215, 216,   0]], dtype=int64)"
      ]
     },
     "execution_count": 97,
     "metadata": {},
     "output_type": "execute_result"
    }
   ],
   "source": [
    "genre_sim_sorted_ind = genre_sim.argsort()[:, ::-1]\n",
    "genre_sim_sorted_ind"
   ]
  },
  {
   "cell_type": "markdown",
   "metadata": {},
   "source": [
    "##### 3-3) 장르 유사도에 따라 영화를 추천하는 다음 함수의 '빈칸'을 채우고 'The Notebook'이라는 책을 좋아하는 사용자에게 보여줄 추천 결과를 출력하시오(10개)."
   ]
  },
  {
   "cell_type": "code",
   "execution_count": 93,
   "metadata": {},
   "outputs": [],
   "source": [
    "def find_sim_movie(df, sorted_ind, title_name, top_n=10):\n",
    "    \n",
    "    title_movie = df[df['Book-Title'] == title_name]\n",
    "    \n",
    "    title_index = title_movie.index.values\n",
    "    similar_indexes = sorted_ind[title_index, :(top_n)]\n",
    "    \n",
    "    print(similar_indexes)\n",
    "    similar_indexes = similar_indexes.reshape(-1)\n",
    "    \n",
    "    return df.iloc[similar_indexes]"
   ]
  },
  {
   "cell_type": "code",
   "execution_count": 98,
   "metadata": {},
   "outputs": [
    {
     "name": "stdout",
     "output_type": "stream",
     "text": [
      "[[  2 268 351  18 237  46 297  17  24  32]]\n"
     ]
    },
    {
     "data": {
      "text/html": [
       "<div>\n",
       "<style scoped>\n",
       "    .dataframe tbody tr th:only-of-type {\n",
       "        vertical-align: middle;\n",
       "    }\n",
       "\n",
       "    .dataframe tbody tr th {\n",
       "        vertical-align: top;\n",
       "    }\n",
       "\n",
       "    .dataframe thead th {\n",
       "        text-align: right;\n",
       "    }\n",
       "</style>\n",
       "<table border=\"1\" class=\"dataframe\">\n",
       "  <thead>\n",
       "    <tr style=\"text-align: right;\">\n",
       "      <th></th>\n",
       "      <th>Book-Title</th>\n",
       "      <th>Book-Rating</th>\n",
       "      <th>Book-Author</th>\n",
       "    </tr>\n",
       "  </thead>\n",
       "  <tbody>\n",
       "    <tr>\n",
       "      <th>2</th>\n",
       "      <td>The Notebook</td>\n",
       "      <td>4</td>\n",
       "      <td>Nicholas Sparks</td>\n",
       "    </tr>\n",
       "    <tr>\n",
       "      <th>356</th>\n",
       "      <td>Oceano Mare</td>\n",
       "      <td>6</td>\n",
       "      <td>Alessandro Baricco</td>\n",
       "    </tr>\n",
       "    <tr>\n",
       "      <th>469</th>\n",
       "      <td>Contacto</td>\n",
       "      <td>6</td>\n",
       "      <td>Carl Sagan</td>\n",
       "    </tr>\n",
       "    <tr>\n",
       "      <th>21</th>\n",
       "      <td>How to Deal With Difficult People</td>\n",
       "      <td>7</td>\n",
       "      <td>Rick Brinkman</td>\n",
       "    </tr>\n",
       "    <tr>\n",
       "      <th>304</th>\n",
       "      <td>Verraten und verkauft. Roman.</td>\n",
       "      <td>3</td>\n",
       "      <td>Philippe Djian</td>\n",
       "    </tr>\n",
       "    <tr>\n",
       "      <th>62</th>\n",
       "      <td>Henry der Held.</td>\n",
       "      <td>10</td>\n",
       "      <td>Roddy Doyle</td>\n",
       "    </tr>\n",
       "    <tr>\n",
       "      <th>411</th>\n",
       "      <td>The Tower at Stony Wood</td>\n",
       "      <td>8</td>\n",
       "      <td>Patricia A. McKillip</td>\n",
       "    </tr>\n",
       "    <tr>\n",
       "      <th>20</th>\n",
       "      <td>Birdsong: A Novel of Love and War</td>\n",
       "      <td>8</td>\n",
       "      <td>Sebastian Faulks</td>\n",
       "    </tr>\n",
       "    <tr>\n",
       "      <th>29</th>\n",
       "      <td>The Pillars of the Earth</td>\n",
       "      <td>5</td>\n",
       "      <td>Ken Follett</td>\n",
       "    </tr>\n",
       "    <tr>\n",
       "      <th>38</th>\n",
       "      <td>Besiegt vom Sturm der Leidenschaft.</td>\n",
       "      <td>4</td>\n",
       "      <td>Patricia Potter</td>\n",
       "    </tr>\n",
       "  </tbody>\n",
       "</table>\n",
       "</div>"
      ],
      "text/plain": [
       "                              Book-Title  Book-Rating           Book-Author\n",
       "2                           The Notebook            4       Nicholas Sparks\n",
       "356                          Oceano Mare            6    Alessandro Baricco\n",
       "469                             Contacto            6            Carl Sagan\n",
       "21     How to Deal With Difficult People            7         Rick Brinkman\n",
       "304        Verraten und verkauft. Roman.            3        Philippe Djian\n",
       "62                       Henry der Held.           10           Roddy Doyle\n",
       "411              The Tower at Stony Wood            8  Patricia A. McKillip\n",
       "20     Birdsong: A Novel of Love and War            8      Sebastian Faulks\n",
       "29              The Pillars of the Earth            5           Ken Follett\n",
       "38   Besiegt vom Sturm der Leidenschaft.            4       Patricia Potter"
      ]
     },
     "execution_count": 98,
     "metadata": {},
     "output_type": "execute_result"
    }
   ],
   "source": [
    "similar_movies = find_sim_movie(book_df, genre_sim_sorted_ind, 'The Notebook', 10)\n",
    "similar_movies[['Book-Title', 'Book-Rating', 'Book-Author']]"
   ]
  },
  {
   "cell_type": "code",
   "execution_count": null,
   "metadata": {},
   "outputs": [],
   "source": []
  }
 ],
 "metadata": {
  "kernelspec": {
   "display_name": "Python 3",
   "language": "python",
   "name": "python3"
  },
  "language_info": {
   "codemirror_mode": {
    "name": "ipython",
    "version": 3
   },
   "file_extension": ".py",
   "mimetype": "text/x-python",
   "name": "python",
   "nbconvert_exporter": "python",
   "pygments_lexer": "ipython3",
   "version": "3.7.3"
  }
 },
 "nbformat": 4,
 "nbformat_minor": 4
}
