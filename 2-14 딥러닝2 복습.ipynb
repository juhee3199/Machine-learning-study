{
 "cells": [
  {
   "cell_type": "markdown",
   "metadata": {},
   "source": [
    "# 비타민 14주 차 복습 문제\n",
    "## 딥러닝 2주 차 - 5기 4조\n",
    "\n",
    "### MNIST 손 글씨 분류하기\n",
    "#### *데이터 불러오기*"
   ]
  },
  {
   "cell_type": "code",
   "execution_count": 42,
   "metadata": {
    "id": "AF02lOVFwyvB",
    "outputId": "e026616c-465d-46b4-e9a7-3958aee1badf"
   },
   "outputs": [
    {
     "name": "stdout",
     "output_type": "stream",
     "text": [
      "(60000, 28, 28)\n",
      "(10000, 28, 28)\n",
      "(60000,)\n"
     ]
    }
   ],
   "source": [
    "import numpy as np\n",
    "from keras.datasets import mnist\n",
    "(x_train,y_train),(x_test,y_test)=mnist.load_data()\n",
    "#불러올 때 부터 train/test 데이터 셋과 feature/label을 따로 지정\n",
    "print(x_train.shape)\n",
    "print(x_test.shape)\n",
    "print(y_train.shape)\n",
    "#3D-Tensor의 이미지 데이터"
   ]
  },
  {
   "cell_type": "markdown",
   "metadata": {},
   "source": [
    "#### *label 값 분포 확인*"
   ]
  },
  {
   "cell_type": "code",
   "execution_count": 43,
   "metadata": {
    "id": "Q02GM9SVwyvo",
    "outputId": "9f32b21d-b5f5-4660-bb1b-2e6fb1238617"
   },
   "outputs": [
    {
     "name": "stdout",
     "output_type": "stream",
     "text": [
      "Train labels: {0: 5923, 1: 6742, 2: 5958, 3: 6131, 4: 5842, 5: 5421, 6: 5918, 7: 6265, 8: 5851, 9: 5949}\n",
      "Test labels: {0: 980, 1: 1135, 2: 1032, 3: 1010, 4: 982, 5: 892, 6: 958, 7: 1028, 8: 974, 9: 1009}\n"
     ]
    }
   ],
   "source": [
    "unique,counts=np.unique(y_train,return_counts=True)\n",
    "print('Train labels:',dict(zip(unique,counts)))\n",
    "unique,counts=np.unique(y_test,return_counts=True)\n",
    "print('Test labels:',dict(zip(unique,counts)))"
   ]
  },
  {
   "cell_type": "markdown",
   "metadata": {},
   "source": [
    "#### *이미지 표본 시각화*"
   ]
  },
  {
   "cell_type": "code",
   "execution_count": 44,
   "metadata": {
    "id": "G4NoEfJMwyvr",
    "outputId": "d0905d92-979e-4a78-832d-ef8f643bbb8b"
   },
   "outputs": [
    {
     "data": {
      "image/png": "[encoded data removed]",
      "text/plain": [
       "<Figure size 144x144 with 4 Axes>"
      ]
     },
     "metadata": {
      "needs_background": "light"
     },
     "output_type": "display_data"
    }
   ],
   "source": [
    "import matplotlib.pyplot as plt\n",
    "# 4개의 임의 표본 추출하기\n",
    "indices=np.random.randint(0,x_train.shape[0],size=4)\n",
    "images=x_train[indices]\n",
    "labels=y_train[indices]\n",
    "# 4개 표본 그림그리기\n",
    "plt.figure(figsize=(2,2))\n",
    "for i in range(len(indices)):\n",
    "    plt.subplot(2,2,i+1)\n",
    "    image=images[i]\n",
    "    plt.imshow(image, cmap='gray')\n",
    "    plt.grid('off')\n",
    "plt.show()"
   ]
  },
  {
   "cell_type": "markdown",
   "metadata": {},
   "source": [
    "#### *피처 정규화 / 라벨 One-Hot 인코딩*"
   ]
  },
  {
   "cell_type": "code",
   "execution_count": 49,
   "metadata": {
    "id": "2z5qlhu3wyvu",
    "outputId": "d7f7a674-1bad-4084-b963-30b6b0af35db"
   },
   "outputs": [
    {
     "name": "stdout",
     "output_type": "stream",
     "text": [
      "(60000, 10)\n"
     ]
    }
   ],
   "source": [
    "# one-hot coding을 위한 라이브러리 불러오기\n",
    "from keras.utils import np_utils\n",
    "num_features=784  #x_train.shape[1]*x_train.shape[2] a.k.a Flatten\n",
    "x_train=x_train.reshape(-1,num_features).astype('float32')\n",
    "x_test=x_test.reshape(-1,num_features).astype('float32')\n",
    "\n",
    "x_train=x_train/255.\n",
    "x_test=x_test/255.\n",
    "\n",
    "# 10개의 범주형 자료를 one-hot 벡터로 바꿔주기\n",
    "y_train=np_utils.to_categorical(y_train)\n",
    "y_test=np_utils.to_categorical(y_test)\n",
    "num_classes=y_train.shape[1]\n",
    "print(y_train.shape)"
   ]
  },
  {
   "cell_type": "markdown",
   "metadata": {},
   "source": [
    "### 문제 1 : 조건에 맞게 코드를 작성해주세요\n",
    "#### *순차형 API 모델링*\n",
    "- Dense -> Relu -> Dropout -> Dense -> Relu -> Dense -> Softmax\n",
    "- 채널 숫자는 아래의 표 참고"
   ]
  },
  {
   "cell_type": "code",
   "execution_count": 9,
   "metadata": {
    "id": "Dg-uIcZWwyvy",
    "outputId": "d585c10f-02f1-40e2-f878-e9c8c092d747"
   },
   "outputs": [
    {
     "name": "stdout",
     "output_type": "stream",
     "text": [
      "Model: \"sequential_3\"\n",
      "_________________________________________________________________\n",
      "Layer (type)                 Output Shape              Param #   \n",
      "=================================================================\n",
      "dense_9 (Dense)              (None, 256)               200960    \n",
      "_________________________________________________________________\n",
      "activation_3 (Activation)    (None, 256)               0         \n",
      "_________________________________________________________________\n",
      "dropout_3 (Dropout)          (None, 256)               0         \n",
      "_________________________________________________________________\n",
      "dense_10 (Dense)             (None, 256)               65792     \n",
      "_________________________________________________________________\n",
      "dense_11 (Dense)             (None, 10)                2570      \n",
      "=================================================================\n",
      "Total params: 269,322\n",
      "Trainable params: 269,322\n",
      "Non-trainable params: 0\n",
      "_________________________________________________________________\n"
     ]
    }
   ],
   "source": [
    "from keras.models import Sequential\n",
    "from keras.layers import Dense, Activation, Dropout\n",
    "#2개의 은닉층과 1개의 출력층으로 구성된 MLP모형\n",
    "\n",
    "model=Sequential()\n",
    "####################################\n",
    "#######    fill this space   #######\n",
    "####################################\n",
    "\n",
    "model.summary()"
   ]
  },
  {
   "cell_type": "markdown",
   "metadata": {},
   "source": [
    "#### *train / validation split*"
   ]
  },
  {
   "cell_type": "code",
   "execution_count": 37,
   "metadata": {
    "id": "-YFeEpDUwyv0",
    "outputId": "918b4227-4faa-4c14-d26a-dde25b8aa968"
   },
   "outputs": [
    {
     "name": "stdout",
     "output_type": "stream",
     "text": [
      "(50000, 784)\n",
      "(50000, 10)\n"
     ]
    }
   ],
   "source": [
    "x_val=x_train[:10000]\n",
    "partial_x_train=x_train[10000:]\n",
    "y_val=y_train[:10000]\n",
    "partial_y_train=y_train[10000:]\n",
    "print(partial_x_train.shape)\n",
    "print(partial_y_train.shape)"
   ]
  },
  {
   "cell_type": "markdown",
   "metadata": {},
   "source": [
    "### 문제 2 : 아래의 빈 칸을 채워주세요\n",
    "#### *모델 compile / fitting*\n",
    "- 손실 함수 : cross-entropy / 최적화 알고리즘 : adam / 평가 방법 : 정확도\n",
    "- 에폭 : 10 / 배치 사이즈 : 64"
   ]
  },
  {
   "cell_type": "code",
   "execution_count": 11,
   "metadata": {
    "id": "qlOvC6s8wyv4",
    "outputId": "3eae258b-a78b-4534-de4a-f1cbb8cac570"
   },
   "outputs": [
    {
     "name": "stdout",
     "output_type": "stream",
     "text": [
      "Epoch 1/10\n",
      "782/782 [==============================] - 10s 13ms/step - loss: 0.3387 - accuracy: 0.8976 - val_loss: 0.1521 - val_accuracy: 0.9548\n",
      "Epoch 2/10\n",
      "782/782 [==============================] - 9s 12ms/step - loss: 0.1631 - accuracy: 0.9497 - val_loss: 0.1119 - val_accuracy: 0.9675- loss:\n",
      "Epoch 3/10\n",
      "782/782 [==============================] - 8s 10ms/step - loss: 0.1300 - accuracy: 0.9590 - val_loss: 0.0956 - val_accuracy: 0.9699\n",
      "Epoch 4/10\n",
      "782/782 [==============================] - 5s 6ms/step - loss: 0.1114 - accuracy: 0.9650 - val_loss: 0.0851 - val_accuracy: 0.9743\n",
      "Epoch 5/10\n",
      "782/782 [==============================] - 6s 8ms/step - loss: 0.1021 - accuracy: 0.9683 - val_loss: 0.0770 - val_accuracy: 0.9775\n",
      "Epoch 6/10\n",
      "782/782 [==============================] - 7s 9ms/step - loss: 0.0883 - accuracy: 0.9712 - val_loss: 0.0788 - val_accuracy: 0.9772\n",
      "Epoch 7/10\n",
      "782/782 [==============================] - 7s 9ms/step - loss: 0.0854 - accuracy: 0.9724 - val_loss: 0.0754 - val_accuracy: 0.9786\n",
      "Epoch 8/10\n",
      "782/782 [==============================] - 7s 8ms/step - loss: 0.0762 - accuracy: 0.9761 - val_loss: 0.0835 - val_accuracy: 0.9770\n",
      "Epoch 9/10\n",
      "782/782 [==============================] - 8s 10ms/step - loss: 0.0707 - accuracy: 0.9768 - val_loss: 0.0738 - val_accuracy: 0.9784\n",
      "Epoch 10/10\n",
      "782/782 [==============================] - 6s 8ms/step - loss: 0.0682 - accuracy: 0.9771 - val_loss: 0.0718 - val_accuracy: 0.9796\n"
     ]
    },
    {
     "data": {
      "text/plain": [
       "dict_keys(['loss', 'accuracy', 'val_loss', 'val_accuracy'])"
      ]
     },
     "execution_count": 11,
     "metadata": {},
     "output_type": "execute_result"
    }
   ],
   "source": [
    "########   fill this line   ######## \n",
    "history=model.fit(#### fill this blank ####)\n",
    "history_out=history.history\n",
    "history_out.keys()"
   ]
  },
  {
   "cell_type": "markdown",
   "metadata": {},
   "source": [
    "#### *Loss 시각화*"
   ]
  },
  {
   "cell_type": "code",
   "execution_count": 39,
   "metadata": {
    "id": "NefNXHMZwyv6",
    "outputId": "6a938517-7c60-4080-e4b9-8f2c7bb8a328"
   },
   "outputs": [
    {
     "data": {
      "image/png": "[encoded data removed]",
      "text/plain": [
       "<Figure size 432x288 with 1 Axes>"
      ]
     },
     "metadata": {
      "needs_background": "light"
     },
     "output_type": "display_data"
    }
   ],
   "source": [
    "import matplotlib.pyplot as plt\n",
    "\n",
    "loss=history_out['loss']\n",
    "loss_val=history_out['val_loss']\n",
    "accuracy=history_out['accuracy']\n",
    "accuracy_val=history_out['val_accuracy']\n",
    "plt.plot(loss,'bo',label='training loss')\n",
    "plt.plot( loss_val,'b', label='validation loss' )\n",
    "plt.title('Training and validation losss')\n",
    "plt.xlabel('epochs')\n",
    "plt.ylabel('loss')\n",
    "plt.legend()\n",
    "plt.show()"
   ]
  },
  {
   "cell_type": "markdown",
   "metadata": {},
   "source": [
    "#### *정확도 시각화*"
   ]
  },
  {
   "cell_type": "code",
   "execution_count": 40,
   "metadata": {
    "id": "0byp56_9wyv8",
    "outputId": "b502f52c-7865-4061-d074-44c3a14ca377"
   },
   "outputs": [
    {
     "data": {
      "image/png": "[encoded data removed]",
      "text/plain": [
       "<Figure size 432x288 with 1 Axes>"
      ]
     },
     "metadata": {
      "needs_background": "light"
     },
     "output_type": "display_data"
    }
   ],
   "source": [
    "plt.clf()\n",
    "plt.plot(accuracy,'bo',label='training loss')\n",
    "plt.plot(accuracy_val,'b', label='validation loss' )\n",
    "plt.title('Training and validation accuracy')\n",
    "plt.xlabel('epochs')\n",
    "plt.ylabel('accuracy')\n",
    "plt.legend()\n",
    "plt.show()"
   ]
  },
  {
   "cell_type": "markdown",
   "metadata": {},
   "source": [
    "#### *test 셋 예측 / 평가*"
   ]
  },
  {
   "cell_type": "code",
   "execution_count": null,
   "metadata": {
    "id": "ifT9o3RwwywF",
    "outputId": "154f79a0-5364-4dc6-a7dd-60652ccae089"
   },
   "outputs": [
    {
     "name": "stdout",
     "output_type": "stream",
     "text": [
      "60000/60000 [==============================] - 2s 26us/step\n",
      "10000/10000 [==============================] - 0s 25us/step\n",
      "[0.0016932068984431984, 0.9996166666666667]\n",
      "[0.07724655894196203, 0.9853]\n"
     ]
    },
    {
     "data": {
      "text/html": [
       "<div>\n",
       "<style scoped>\n",
       "    .dataframe tbody tr th:only-of-type {\n",
       "        vertical-align: middle;\n",
       "    }\n",
       "\n",
       "    .dataframe tbody tr th {\n",
       "        vertical-align: top;\n",
       "    }\n",
       "\n",
       "    .dataframe thead th {\n",
       "        text-align: right;\n",
       "    }\n",
       "</style>\n",
       "<table border=\"1\" class=\"dataframe\">\n",
       "  <thead>\n",
       "    <tr style=\"text-align: right;\">\n",
       "      <th></th>\n",
       "      <th>0</th>\n",
       "      <th>1</th>\n",
       "      <th>2</th>\n",
       "      <th>3</th>\n",
       "      <th>4</th>\n",
       "      <th>5</th>\n",
       "      <th>6</th>\n",
       "      <th>7</th>\n",
       "      <th>8</th>\n",
       "      <th>9</th>\n",
       "    </tr>\n",
       "  </thead>\n",
       "  <tbody>\n",
       "    <tr>\n",
       "      <th>0</th>\n",
       "      <td>6.194058e-20</td>\n",
       "      <td>1.543851e-16</td>\n",
       "      <td>5.002994e-12</td>\n",
       "      <td>5.879471e-12</td>\n",
       "      <td>1.921653e-17</td>\n",
       "      <td>2.172387e-20</td>\n",
       "      <td>8.632302e-35</td>\n",
       "      <td>1.000000e+00</td>\n",
       "      <td>1.505898e-15</td>\n",
       "      <td>1.402312e-10</td>\n",
       "    </tr>\n",
       "    <tr>\n",
       "      <th>1</th>\n",
       "      <td>1.773110e-15</td>\n",
       "      <td>1.343046e-16</td>\n",
       "      <td>1.000000e+00</td>\n",
       "      <td>2.149296e-15</td>\n",
       "      <td>3.389081e-21</td>\n",
       "      <td>1.079731e-18</td>\n",
       "      <td>7.891478e-17</td>\n",
       "      <td>2.729345e-17</td>\n",
       "      <td>1.753549e-15</td>\n",
       "      <td>1.040158e-20</td>\n",
       "    </tr>\n",
       "    <tr>\n",
       "      <th>2</th>\n",
       "      <td>1.003085e-12</td>\n",
       "      <td>9.999998e-01</td>\n",
       "      <td>1.764042e-07</td>\n",
       "      <td>2.180762e-11</td>\n",
       "      <td>4.792377e-10</td>\n",
       "      <td>6.744931e-13</td>\n",
       "      <td>8.021288e-09</td>\n",
       "      <td>8.970715e-08</td>\n",
       "      <td>1.060192e-08</td>\n",
       "      <td>1.556031e-15</td>\n",
       "    </tr>\n",
       "    <tr>\n",
       "      <th>3</th>\n",
       "      <td>1.000000e+00</td>\n",
       "      <td>2.679071e-22</td>\n",
       "      <td>8.096132e-12</td>\n",
       "      <td>6.897116e-14</td>\n",
       "      <td>3.153140e-16</td>\n",
       "      <td>2.451457e-12</td>\n",
       "      <td>1.956611e-10</td>\n",
       "      <td>2.660714e-17</td>\n",
       "      <td>2.974304e-18</td>\n",
       "      <td>1.921593e-11</td>\n",
       "    </tr>\n",
       "    <tr>\n",
       "      <th>4</th>\n",
       "      <td>1.328908e-09</td>\n",
       "      <td>3.842744e-12</td>\n",
       "      <td>2.796849e-11</td>\n",
       "      <td>8.706871e-13</td>\n",
       "      <td>9.999994e-01</td>\n",
       "      <td>4.950115e-14</td>\n",
       "      <td>9.592601e-10</td>\n",
       "      <td>4.728687e-07</td>\n",
       "      <td>6.603913e-11</td>\n",
       "      <td>1.569124e-07</td>\n",
       "    </tr>\n",
       "  </tbody>\n",
       "</table>\n",
       "</div>"
      ],
      "text/plain": [
       "              0             1             2             3             4  \\\n",
       "0  6.194058e-20  1.543851e-16  5.002994e-12  5.879471e-12  1.921653e-17   \n",
       "1  1.773110e-15  1.343046e-16  1.000000e+00  2.149296e-15  3.389081e-21   \n",
       "2  1.003085e-12  9.999998e-01  1.764042e-07  2.180762e-11  4.792377e-10   \n",
       "3  1.000000e+00  2.679071e-22  8.096132e-12  6.897116e-14  3.153140e-16   \n",
       "4  1.328908e-09  3.842744e-12  2.796849e-11  8.706871e-13  9.999994e-01   \n",
       "\n",
       "              5             6             7             8             9  \n",
       "0  2.172387e-20  8.632302e-35  1.000000e+00  1.505898e-15  1.402312e-10  \n",
       "1  1.079731e-18  7.891478e-17  2.729345e-17  1.753549e-15  1.040158e-20  \n",
       "2  6.744931e-13  8.021288e-09  8.970715e-08  1.060192e-08  1.556031e-15  \n",
       "3  2.451457e-12  1.956611e-10  2.660714e-17  2.974304e-18  1.921593e-11  \n",
       "4  4.950115e-14  9.592601e-10  4.728687e-07  6.603913e-11  1.569124e-07  "
      ]
     },
     "execution_count": 61,
     "metadata": {
      "tags": []
     },
     "output_type": "execute_result"
    }
   ],
   "source": [
    "import pandas as pd\n",
    "#loss,accuracy 평가\n",
    "result_train=model.evaluate(x_train,y_train)\n",
    "result_test=model.evaluate(x_test,y_test)\n",
    "print(result_train)\n",
    "print(result_test)\n",
    "\n",
    "#predict method\n",
    "pred=model.predict(x_test)\n",
    "pred=pd.DataFrame(pred)\n",
    "pred.head()"
   ]
  },
  {
   "cell_type": "markdown",
   "metadata": {},
   "source": [
    "### 문제 3 : 조건에 맞게 코드를 작성해주세요\n",
    "#### *함수형 API 모델링*\n",
    "- Layer 구성 및 채널 숫자는 위와 동일"
   ]
  },
  {
   "cell_type": "code",
   "execution_count": 46,
   "metadata": {
    "id": "DoHCSLQCwywL"
   },
   "outputs": [
    {
     "name": "stdout",
     "output_type": "stream",
     "text": [
      "Model: \"functional_1\"\n",
      "_________________________________________________________________\n",
      "Layer (type)                 Output Shape              Param #   \n",
      "=================================================================\n",
      "input_1 (InputLayer)         [(None, 784)]             0         \n",
      "_________________________________________________________________\n",
      "dense_12 (Dense)             (None, 256)               200960    \n",
      "_________________________________________________________________\n",
      "dropout_4 (Dropout)          (None, 256)               0         \n",
      "_________________________________________________________________\n",
      "dense_13 (Dense)             (None, 256)               65792     \n",
      "_________________________________________________________________\n",
      "dense_14 (Dense)             (None, 10)                2570      \n",
      "=================================================================\n",
      "Total params: 269,322\n",
      "Trainable params: 269,322\n",
      "Non-trainable params: 0\n",
      "_________________________________________________________________\n"
     ]
    }
   ],
   "source": [
    "import numpy as np\n",
    "from keras.layers import Dense, Dropout, Input\n",
    "from keras.models import Model\n",
    "x=Input(shape=(num_features,))\n",
    "####################################\n",
    "#######    fill this space   #######\n",
    "####################################\n",
    "model.summary()"
   ]
  },
  {
   "cell_type": "markdown",
   "metadata": {},
   "source": [
    "### 문제 2와 동일 : 아래의 빈 칸을 채워주세요\n",
    "#### *모델 compile / fitting*\n",
    "- 손실 함수 : cross-entropy / 최적화 알고리즘 : adam / 평가 방법 : 정확도\n",
    "- 에폭 : 10 / 배치 사이즈 : 64"
   ]
  },
  {
   "cell_type": "code",
   "execution_count": 50,
   "metadata": {},
   "outputs": [
    {
     "name": "stdout",
     "output_type": "stream",
     "text": [
      "Epoch 1/10\n",
      "938/938 [==============================] - 6s 7ms/step - loss: 0.3096 - acc: 0.9061\n",
      "Epoch 2/10\n",
      "938/938 [==============================] - 8s 9ms/step - loss: 0.1538 - acc: 0.9532\n",
      "Epoch 3/10\n",
      "938/938 [==============================] - 8s 8ms/step - loss: 0.1229 - acc: 0.9618\n",
      "Epoch 4/10\n",
      "938/938 [==============================] - 9s 9ms/step - loss: 0.1074 - acc: 0.9656A: 1s - los\n",
      "Epoch 5/10\n",
      "938/938 [==============================] - 7s 7ms/step - loss: 0.0969 - acc: 0.9692\n",
      "Epoch 6/10\n",
      "938/938 [==============================] - 7s 7ms/step - loss: 0.0843 - acc: 0.9730\n",
      "Epoch 7/10\n",
      "938/938 [==============================] - 7s 7ms/step - loss: 0.0780 - acc: 0.9743\n",
      "Epoch 8/10\n",
      "938/938 [==============================] - 6s 7ms/step - loss: 0.0726 - acc: 0.9769\n",
      "Epoch 9/10\n",
      "938/938 [==============================] - 7s 8ms/step - loss: 0.0664 - acc: 0.9789\n",
      "Epoch 10/10\n",
      "938/938 [==============================] - 6s 6ms/step - loss: 0.0635 - acc: 0.9790\n"
     ]
    },
    {
     "data": {
      "text/plain": [
       "<tensorflow.python.keras.callbacks.History at 0x1871aa7dd60>"
      ]
     },
     "execution_count": 50,
     "metadata": {},
     "output_type": "execute_result"
    }
   ],
   "source": [
    "########   fill this line   ######## \n",
    "model.fit(#### fill this blank ####)"
   ]
  },
  {
   "cell_type": "markdown",
   "metadata": {},
   "source": [
    "### 미니 배치 GD 클래스 구현하기\n",
    "#### *데이터 불러오기*"
   ]
  },
  {
   "cell_type": "code",
   "execution_count": 4,
   "metadata": {},
   "outputs": [
    {
     "name": "stdout",
     "output_type": "stream",
     "text": [
      "shape of x : (442,)\n",
      "shape of y : (442,)\n"
     ]
    }
   ],
   "source": [
    "#PT의 예제 코드\n",
    "from sklearn.datasets import load_diabetes\n",
    "diabetes=load_diabetes()\n",
    "x=diabetes.data[:,2]\n",
    "y=diabetes.target\n",
    "print('shape of x :',x.shape)\n",
    "print('shape of y :',y.shape)"
   ]
  },
  {
   "cell_type": "markdown",
   "metadata": {},
   "source": [
    "### 문제 4 : 아래의 빈 칸을 채워주세요\n",
    "#### *클래스 구현*\n",
    "- 미니 배치 사이즈 별 모수 최신화\n",
    "- loss : MSE"
   ]
  },
  {
   "cell_type": "code",
   "execution_count": 38,
   "metadata": {
    "scrolled": false
   },
   "outputs": [],
   "source": [
    "class MiniBatch:\n",
    "    def __init__(self):\n",
    "        self.w=np.array([[1.0]])\n",
    "        self.b=np.array([[1.0]])\n",
    "        \n",
    "    def forpass(self,x):\n",
    "        ######## fill this space ########\n",
    "        return y_hat\n",
    "    \n",
    "    def backprop(self,x,err):\n",
    "        ######## fill this space ########\n",
    "        return w_grad, b_grad\n",
    "    \n",
    "    def fit(self,x,y,batch_size=32,lr=0.001,epochs=100):\n",
    "        x=x.reshape(-1,1)\n",
    "        y=y.reshape(-1,1)\n",
    "        for i in range(epochs):\n",
    "            indexes=np.random.permutation(np.arange(len(x)))\n",
    "            x=x[indexes]\n",
    "            y=y[indexes]\n",
    "            bins=len(x)//batch_size\n",
    "            if len(x)%batch_size:\n",
    "                bins+=1\n",
    "            for i in range(bins):\n",
    "                x_batch=######## fill this space ########\n",
    "                y_batch=######## fill this space ########\n",
    "                y_hat=######## fill this space ########\n",
    "                err=(y_batch-y_hat)/batch_size\n",
    "                w_grad,b_grad=######## fill this space ########\n",
    "                self.w+=lr*w_grad\n",
    "                self.b+=lr*b_grad"
   ]
  },
  {
   "cell_type": "markdown",
   "metadata": {},
   "source": [
    "#### *결과 시각화*"
   ]
  },
  {
   "cell_type": "code",
   "execution_count": 36,
   "metadata": {},
   "outputs": [
    {
     "data": {
      "image/png": "[encoded data removed]",
      "text/plain": [
       "<Figure size 432x288 with 1 Axes>"
      ]
     },
     "metadata": {
      "needs_background": "light"
     },
     "output_type": "display_data"
    }
   ],
   "source": [
    "import numpy as np\n",
    "import matplotlib.pyplot as plt\n",
    "\n",
    "neuron=MiniBatch()\n",
    "neuron.fit(x,y,epochs=10000)\n",
    "\n",
    "plt.scatter(x,y)\n",
    "pt1=(-0.1,-0.1*neuron.w[0]+neuron.b[0])\n",
    "pt2=(0.15,0.15*neuron.w[0]+neuron.b[0])\n",
    "plt.plot([pt1[0],pt2[0]],[pt1[1],pt2[1]],'r')\n",
    "plt.xlabel('x')\n",
    "plt.ylabel('y')\n",
    "plt.show()"
   ]
  }
 ],
 "metadata": {
  "colab": {
   "name": "ch4_1.ipynb",
   "provenance": []
  },
  "kernelspec": {
   "display_name": "Python 3",
   "language": "python",
   "name": "python3"
  },
  "language_info": {
   "codemirror_mode": {
    "name": "ipython",
    "version": 3
   },
   "file_extension": ".py",
   "mimetype": "text/x-python",
   "name": "python",
   "nbconvert_exporter": "python",
   "pygments_lexer": "ipython3",
   "version": "3.7.4"
  }
 },
 "nbformat": 4,
 "nbformat_minor": 1
}
