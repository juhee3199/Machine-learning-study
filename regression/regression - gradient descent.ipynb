{
 "cells": [
  {
   "cell_type": "code",
   "execution_count": null,
   "metadata": {},
   "outputs": [],
   "source": []
  },
  {
   "cell_type": "code",
   "execution_count": 22,
   "metadata": {},
   "outputs": [
    {
     "data": {
      "text/plain": [
       "<matplotlib.collections.PathCollection at 0x21227ccde48>"
      ]
     },
     "execution_count": 22,
     "metadata": {},
     "output_type": "execute_result"
    },
    {
     "data": {
      "image/png": "[encoded data removed]",
      "text/plain": [
       "<Figure size 432x288 with 1 Axes>"
      ]
     },
     "metadata": {
      "needs_background": "light"
     },
     "output_type": "display_data"
    }
   ],
   "source": [
    "import numpy as np\n",
    "import matplotlib.pyplot as plt\n",
    "%matplotlib inline\n",
    "\n",
    "np.random.seed(0)\n",
    "# y = 4X + 6 식을 근사(w1=4, w0=6). random 값은 Noise를 위해 만듬\n",
    "X = 2 * np.random.rand(100,1)\n",
    "y = 6 +4 * X+ np.random.randn(100,1)\n",
    "\n",
    "# X, y 데이터 셋 scatter plot으로 시각화\n",
    "plt.scatter(X, y)"
   ]
  },
  {
   "cell_type": "code",
   "execution_count": 23,
   "metadata": {},
   "outputs": [],
   "source": [
    "# w1 과 w0 를 업데이트 할 w1_update, w0_update를 반환. \n",
    "def get_weight_updates(w1, w0, X, y, learning_rate=0.01):\n",
    "    N = len(y)\n",
    "    # 먼저 w1_update, w0_update를 각각 w1, w0의 shape와 동일한 크기를 가진 0 값으로 초기화\n",
    "    w1_update = np.zeros_like(w1)\n",
    "    w0_update = np.zeros_like(w0)\n",
    "    # 예측 배열 계산하고 예측과 실제 값의 차이 계산\n",
    "    y_pred = np.dot(X, w1.T) + w0\n",
    "    diff = y-y_pred\n",
    "         \n",
    "    # w0_update를 dot 행렬 연산으로 구하기 위해 모두 1값을 가진 행렬 생성 \n",
    "    w0_factors = np.ones((N,1))\n",
    "\n",
    "    # w1과 w0을 업데이트할 w1_update와 w0_update 계산\n",
    "    w1_update = -(2/N)*learning_rate*(np.dot(X.T, diff))\n",
    "    w0_update = -(2/N)*learning_rate*(np.dot(w0_factors.T, diff))    \n",
    "    \n",
    "    return w1_update, w0_update"
   ]
  },
  {
   "cell_type": "code",
   "execution_count": 21,
   "metadata": {},
   "outputs": [
    {
     "data": {
      "text/plain": [
       "array([[-0.1994937]])"
      ]
     },
     "execution_count": 21,
     "metadata": {},
     "output_type": "execute_result"
    }
   ],
   "source": [
    "w0_update"
   ]
  },
  {
   "cell_type": "code",
   "execution_count": 20,
   "metadata": {},
   "outputs": [
    {
     "data": {
      "text/plain": [
       "array([[-0.00184507],\n",
       "       [-0.00252447],\n",
       "       [-0.00225755],\n",
       "       [-0.00176456],\n",
       "       [-0.0021755 ],\n",
       "       [-0.00261261],\n",
       "       [-0.0021359 ],\n",
       "       [-0.00259085],\n",
       "       [-0.00252771],\n",
       "       [-0.0020244 ],\n",
       "       [-0.00238612],\n",
       "       [-0.00229072],\n",
       "       [-0.00215053],\n",
       "       [-0.00287628],\n",
       "       [-0.00138493],\n",
       "       [-0.00148072],\n",
       "       [-0.00123445],\n",
       "       [-0.00288937],\n",
       "       [-0.00247043],\n",
       "       [-0.00267242],\n",
       "       [-0.00314242],\n",
       "       [-0.0022091 ],\n",
       "       [-0.00168427],\n",
       "       [-0.00264273],\n",
       "       [-0.00115461],\n",
       "       [-0.0026126 ],\n",
       "       [-0.00134664],\n",
       "       [-0.00256198],\n",
       "       [-0.00241955],\n",
       "       [-0.00215956],\n",
       "       [-0.0019968 ],\n",
       "       [-0.00261998],\n",
       "       [-0.0017576 ],\n",
       "       [-0.00249151],\n",
       "       [-0.00117646],\n",
       "       [-0.00234871],\n",
       "       [-0.0023688 ],\n",
       "       [-0.00215609],\n",
       "       [-0.00283281],\n",
       "       [-0.00247535],\n",
       "       [-0.0018505 ],\n",
       "       [-0.00167937],\n",
       "       [-0.00237586],\n",
       "       [-0.00156164],\n",
       "       [-0.00212791],\n",
       "       [-0.00224309],\n",
       "       [-0.00144958],\n",
       "       [-0.00177613],\n",
       "       [-0.00183914],\n",
       "       [-0.00186343],\n",
       "       [-0.00195833],\n",
       "       [-0.00200961],\n",
       "       [-0.00264653],\n",
       "       [-0.00136964],\n",
       "       [-0.00140703],\n",
       "       [-0.00159338],\n",
       "       [-0.00236029],\n",
       "       [-0.00156361],\n",
       "       [-0.0020253 ],\n",
       "       [-0.00137247],\n",
       "       [-0.0011561 ],\n",
       "       [-0.00146448],\n",
       "       [-0.00228346],\n",
       "       [-0.0015481 ],\n",
       "       [-0.00199116],\n",
       "       [-0.00197886],\n",
       "       [-0.00233102],\n",
       "       [-0.00157877],\n",
       "       [-0.00227753],\n",
       "       [-0.00126144],\n",
       "       [-0.00274869],\n",
       "       [-0.00229251],\n",
       "       [-0.00261387],\n",
       "       [-0.00200247],\n",
       "       [-0.00236313],\n",
       "       [-0.00113   ],\n",
       "       [-0.00187782],\n",
       "       [-0.00117633],\n",
       "       [-0.00144433],\n",
       "       [-0.0013024 ],\n",
       "       [-0.00160917],\n",
       "       [-0.00224873],\n",
       "       [-0.00149252],\n",
       "       [-0.00232547],\n",
       "       [-0.00186148],\n",
       "       [-0.0017935 ],\n",
       "       [-0.00183715],\n",
       "       [-0.00104135],\n",
       "       [-0.00235912],\n",
       "       [-0.00275026],\n",
       "       [-0.00189388],\n",
       "       [-0.0023316 ],\n",
       "       [-0.00158224],\n",
       "       [-0.00221592],\n",
       "       [-0.0014562 ],\n",
       "       [-0.00162943],\n",
       "       [-0.00197774],\n",
       "       [-0.00109426],\n",
       "       [-0.0024352 ],\n",
       "       [-0.00121101]])"
      ]
     },
     "execution_count": 20,
     "metadata": {},
     "output_type": "execute_result"
    }
   ],
   "source": [
    "N = len(y)\n",
    "-(2/N)*0.01*diff"
   ]
  },
  {
   "cell_type": "code",
   "execution_count": 6,
   "metadata": {},
   "outputs": [
    {
     "name": "stdout",
     "output_type": "stream",
     "text": [
      "(100, 1)\n",
      "(1, 1) (1, 1)\n"
     ]
    },
    {
     "data": {
      "text/plain": [
       "(array([[0.]]), array([[0.]]))"
      ]
     },
     "execution_count": 6,
     "metadata": {},
     "output_type": "execute_result"
    }
   ],
   "source": [
    "w0 = np.zeros((1,1))\n",
    "w1 = np.zeros((1,1))\n",
    "y_pred = np.dot(X, w1.T) + w0\n",
    "diff = y-y_pred\n",
    "print(diff.shape)\n",
    "w0_factors = np.ones((100,1))\n",
    "w1_update = -(2/100)*0.01*(np.dot(X.T, diff))\n",
    "w0_update = -(2/100)*0.01*(np.dot(w0_factors.T, diff))   \n",
    "print(w1_update.shape, w0_update.shape)\n",
    "w1, w0"
   ]
  },
  {
   "cell_type": "code",
   "execution_count": 7,
   "metadata": {},
   "outputs": [],
   "source": [
    "# 입력 인자 iters로 주어진 횟수만큼 반복적으로 w1과 w0를 업데이트 적용함. \n",
    "def gradient_descent_steps(X, y, iters=10000):\n",
    "    # w0와 w1을 모두 0으로 초기화. \n",
    "    w0 = np.zeros((1,1))\n",
    "    w1 = np.zeros((1,1))\n",
    "    \n",
    "    # 인자로 주어진 iters 만큼 반복적으로 get_weight_updates() 호출하여 w1, w0 업데이트 수행. \n",
    "    for ind in range(iters):\n",
    "        w1_update, w0_update = get_weight_updates(w1, w0, X, y, learning_rate=0.01)\n",
    "        w1 = w1 - w1_update\n",
    "        w0 = w0 - w0_update\n",
    "              \n",
    "    return w1, w0"
   ]
  },
  {
   "cell_type": "code",
   "execution_count": 8,
   "metadata": {},
   "outputs": [
    {
     "name": "stdout",
     "output_type": "stream",
     "text": [
      "w1:4.022 w0:6.162\n",
      "Gradient Descent Total Cost:0.9935\n"
     ]
    }
   ],
   "source": [
    "\n",
    "def get_cost(y, y_pred):\n",
    "    N = len(y) \n",
    "    cost = np.sum(np.square(y - y_pred))/N\n",
    "    return cost\n",
    "\n",
    "w1, w0 = gradient_descent_steps(X, y, iters=1000)\n",
    "print(\"w1:{0:.3f} w0:{1:.3f}\".format(w1[0,0], w0[0,0]))\n",
    "y_pred = w1[0,0] * X + w0\n",
    "print('Gradient Descent Total Cost:{0:.4f}'.format(get_cost(y, y_pred)))"
   ]
  },
  {
   "cell_type": "code",
   "execution_count": 10,
   "metadata": {},
   "outputs": [
    {
     "data": {
      "text/plain": [
       "4.021813642697164"
      ]
     },
     "execution_count": 10,
     "metadata": {},
     "output_type": "execute_result"
    }
   ],
   "source": [
    "w1"
   ]
  },
  {
   "cell_type": "code",
   "execution_count": 11,
   "metadata": {},
   "outputs": [
    {
     "data": {
      "text/plain": [
       "array([[6.16203122]])"
      ]
     },
     "execution_count": 11,
     "metadata": {},
     "output_type": "execute_result"
    }
   ],
   "source": [
    "w0"
   ]
  },
  {
   "cell_type": "code",
   "execution_count": 12,
   "metadata": {},
   "outputs": [
    {
     "data": {
      "text/plain": [
       "6.162031224717461"
      ]
     },
     "execution_count": 12,
     "metadata": {},
     "output_type": "execute_result"
    }
   ],
   "source": [
    "w0[0,0]"
   ]
  },
  {
   "cell_type": "code",
   "execution_count": null,
   "metadata": {},
   "outputs": [],
   "source": []
  }
 ],
 "metadata": {
  "kernelspec": {
   "display_name": "Python 3",
   "language": "python",
   "name": "python3"
  },
  "language_info": {
   "codemirror_mode": {
    "name": "ipython",
    "version": 3
   },
   "file_extension": ".py",
   "mimetype": "text/x-python",
   "name": "python",
   "nbconvert_exporter": "python",
   "pygments_lexer": "ipython3",
   "version": "3.7.3"
  }
 },
 "nbformat": 4,
 "nbformat_minor": 2
}
